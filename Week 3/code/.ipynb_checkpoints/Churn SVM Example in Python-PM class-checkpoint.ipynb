{
 "cells": [
  {
   "cell_type": "markdown",
   "metadata": {},
   "source": [
    "# Classification Methods, SVMs, Tuning and CV\n"
   ]
  },
  {
   "cell_type": "markdown",
   "metadata": {},
   "source": [
    "Like R, Python uses packages in data mining/machine learning. The 3 mose common ones are Pandas (manipulation), Scikit Learn (machine learning) and Matplotlit (graphics)."
   ]
  },
  {
   "cell_type": "code",
   "execution_count": 1,
   "metadata": {},
   "outputs": [
    {
     "data": {
      "text/plain": [
       "'/Users/mylesgartland/OneDrive - Rockhurst University/Courses/Predictive Models/Pred_Models_git/Week 3/code'"
      ]
     },
     "execution_count": 1,
     "metadata": {},
     "output_type": "execute_result"
    }
   ],
   "source": [
    "%matplotlib inline \n",
    "import numpy as np\n",
    "import matplotlib.pyplot as plt\n",
    "import pandas as pd\n",
    "from sklearn import preprocessing\n",
    "from sklearn.model_selection import train_test_split, cross_val_score, KFold, GridSearchCV\n",
    "from sklearn.metrics import accuracy_score, precision_score, recall_score, f1_score\n",
    "from sklearn.metrics import roc_curve, auc, confusion_matrix, classification_report\n",
    "import time\n",
    "from operator import itemgetter\n",
    "import os\n",
    "os.getcwd()"
   ]
  },
  {
   "cell_type": "code",
   "execution_count": 4,
   "metadata": {},
   "outputs": [
    {
     "name": "stdout",
     "output_type": "stream",
     "text": [
      "/Users/mylesgartland/OneDrive - Rockhurst University/Courses/Predictive Models/Pred_Models_git/Week 3\n"
     ]
    }
   ],
   "source": [
    "cd '/Users/mylesgartland/OneDrive - Rockhurst University/Courses/Predictive Models/Pred_Models_git/Week 3'"
   ]
  },
  {
   "cell_type": "markdown",
   "metadata": {},
   "source": [
    "# Read in Data\n",
    "# Churn Calls Data\n",
    "This is a Pandas operation."
   ]
  },
  {
   "cell_type": "code",
   "execution_count": 5,
   "metadata": {},
   "outputs": [
    {
     "data": {
      "text/html": [
       "<div>\n",
       "<style scoped>\n",
       "    .dataframe tbody tr th:only-of-type {\n",
       "        vertical-align: middle;\n",
       "    }\n",
       "\n",
       "    .dataframe tbody tr th {\n",
       "        vertical-align: top;\n",
       "    }\n",
       "\n",
       "    .dataframe thead th {\n",
       "        text-align: right;\n",
       "    }\n",
       "</style>\n",
       "<table border=\"1\" class=\"dataframe\">\n",
       "  <thead>\n",
       "    <tr style=\"text-align: right;\">\n",
       "      <th></th>\n",
       "      <th>state</th>\n",
       "      <th>account_length</th>\n",
       "      <th>area_code</th>\n",
       "      <th>international_plan</th>\n",
       "      <th>voice_mail_plan</th>\n",
       "      <th>number_vmail_messages</th>\n",
       "      <th>total_day_minutes</th>\n",
       "      <th>total_day_calls</th>\n",
       "      <th>total_day_charge</th>\n",
       "      <th>total_eve_minutes</th>\n",
       "      <th>total_eve_calls</th>\n",
       "      <th>total_eve_charge</th>\n",
       "      <th>total_night_minutes</th>\n",
       "      <th>total_night_calls</th>\n",
       "      <th>total_night_charge</th>\n",
       "      <th>total_intl_minutes</th>\n",
       "      <th>total_intl_calls</th>\n",
       "      <th>total_intl_charge</th>\n",
       "      <th>number_customer_service_calls</th>\n",
       "      <th>churn</th>\n",
       "    </tr>\n",
       "  </thead>\n",
       "  <tbody>\n",
       "    <tr>\n",
       "      <th>0</th>\n",
       "      <td>AK</td>\n",
       "      <td>1</td>\n",
       "      <td>area_code_408</td>\n",
       "      <td>no</td>\n",
       "      <td>no</td>\n",
       "      <td>0</td>\n",
       "      <td>175.2</td>\n",
       "      <td>74</td>\n",
       "      <td>29.78</td>\n",
       "      <td>151.7</td>\n",
       "      <td>79</td>\n",
       "      <td>12.89</td>\n",
       "      <td>230.5</td>\n",
       "      <td>109</td>\n",
       "      <td>10.37</td>\n",
       "      <td>5.3</td>\n",
       "      <td>3</td>\n",
       "      <td>1.43</td>\n",
       "      <td>1</td>\n",
       "      <td>no</td>\n",
       "    </tr>\n",
       "    <tr>\n",
       "      <th>1</th>\n",
       "      <td>AK</td>\n",
       "      <td>36</td>\n",
       "      <td>area_code_408</td>\n",
       "      <td>no</td>\n",
       "      <td>yes</td>\n",
       "      <td>30</td>\n",
       "      <td>146.3</td>\n",
       "      <td>128</td>\n",
       "      <td>24.87</td>\n",
       "      <td>162.5</td>\n",
       "      <td>80</td>\n",
       "      <td>13.81</td>\n",
       "      <td>129.3</td>\n",
       "      <td>109</td>\n",
       "      <td>5.82</td>\n",
       "      <td>14.5</td>\n",
       "      <td>6</td>\n",
       "      <td>3.92</td>\n",
       "      <td>0</td>\n",
       "      <td>no</td>\n",
       "    </tr>\n",
       "    <tr>\n",
       "      <th>2</th>\n",
       "      <td>AK</td>\n",
       "      <td>36</td>\n",
       "      <td>area_code_415</td>\n",
       "      <td>yes</td>\n",
       "      <td>yes</td>\n",
       "      <td>19</td>\n",
       "      <td>171.9</td>\n",
       "      <td>96</td>\n",
       "      <td>29.22</td>\n",
       "      <td>198.4</td>\n",
       "      <td>111</td>\n",
       "      <td>16.86</td>\n",
       "      <td>321.7</td>\n",
       "      <td>76</td>\n",
       "      <td>14.48</td>\n",
       "      <td>10.5</td>\n",
       "      <td>1</td>\n",
       "      <td>2.84</td>\n",
       "      <td>1</td>\n",
       "      <td>yes</td>\n",
       "    </tr>\n",
       "    <tr>\n",
       "      <th>3</th>\n",
       "      <td>AK</td>\n",
       "      <td>41</td>\n",
       "      <td>area_code_415</td>\n",
       "      <td>no</td>\n",
       "      <td>no</td>\n",
       "      <td>0</td>\n",
       "      <td>159.3</td>\n",
       "      <td>66</td>\n",
       "      <td>27.08</td>\n",
       "      <td>125.9</td>\n",
       "      <td>75</td>\n",
       "      <td>10.70</td>\n",
       "      <td>261.9</td>\n",
       "      <td>76</td>\n",
       "      <td>11.79</td>\n",
       "      <td>11.1</td>\n",
       "      <td>5</td>\n",
       "      <td>3.00</td>\n",
       "      <td>1</td>\n",
       "      <td>no</td>\n",
       "    </tr>\n",
       "    <tr>\n",
       "      <th>4</th>\n",
       "      <td>AK</td>\n",
       "      <td>42</td>\n",
       "      <td>area_code_415</td>\n",
       "      <td>no</td>\n",
       "      <td>no</td>\n",
       "      <td>0</td>\n",
       "      <td>171.0</td>\n",
       "      <td>129</td>\n",
       "      <td>29.07</td>\n",
       "      <td>183.9</td>\n",
       "      <td>96</td>\n",
       "      <td>15.63</td>\n",
       "      <td>130.2</td>\n",
       "      <td>90</td>\n",
       "      <td>5.86</td>\n",
       "      <td>4.6</td>\n",
       "      <td>6</td>\n",
       "      <td>1.24</td>\n",
       "      <td>0</td>\n",
       "      <td>no</td>\n",
       "    </tr>\n",
       "    <tr>\n",
       "      <th>5</th>\n",
       "      <td>AK</td>\n",
       "      <td>48</td>\n",
       "      <td>area_code_415</td>\n",
       "      <td>no</td>\n",
       "      <td>yes</td>\n",
       "      <td>37</td>\n",
       "      <td>211.7</td>\n",
       "      <td>115</td>\n",
       "      <td>35.99</td>\n",
       "      <td>159.9</td>\n",
       "      <td>84</td>\n",
       "      <td>13.59</td>\n",
       "      <td>144.1</td>\n",
       "      <td>80</td>\n",
       "      <td>6.48</td>\n",
       "      <td>12.2</td>\n",
       "      <td>1</td>\n",
       "      <td>3.29</td>\n",
       "      <td>1</td>\n",
       "      <td>no</td>\n",
       "    </tr>\n",
       "    <tr>\n",
       "      <th>6</th>\n",
       "      <td>AK</td>\n",
       "      <td>50</td>\n",
       "      <td>area_code_408</td>\n",
       "      <td>no</td>\n",
       "      <td>no</td>\n",
       "      <td>0</td>\n",
       "      <td>183.6</td>\n",
       "      <td>107</td>\n",
       "      <td>31.21</td>\n",
       "      <td>58.6</td>\n",
       "      <td>118</td>\n",
       "      <td>4.98</td>\n",
       "      <td>202.6</td>\n",
       "      <td>99</td>\n",
       "      <td>9.12</td>\n",
       "      <td>8.7</td>\n",
       "      <td>3</td>\n",
       "      <td>2.35</td>\n",
       "      <td>1</td>\n",
       "      <td>no</td>\n",
       "    </tr>\n",
       "    <tr>\n",
       "      <th>7</th>\n",
       "      <td>AK</td>\n",
       "      <td>51</td>\n",
       "      <td>area_code_510</td>\n",
       "      <td>yes</td>\n",
       "      <td>yes</td>\n",
       "      <td>12</td>\n",
       "      <td>135.8</td>\n",
       "      <td>60</td>\n",
       "      <td>23.09</td>\n",
       "      <td>200.6</td>\n",
       "      <td>134</td>\n",
       "      <td>17.05</td>\n",
       "      <td>192.4</td>\n",
       "      <td>98</td>\n",
       "      <td>8.66</td>\n",
       "      <td>12.3</td>\n",
       "      <td>7</td>\n",
       "      <td>3.32</td>\n",
       "      <td>2</td>\n",
       "      <td>no</td>\n",
       "    </tr>\n",
       "    <tr>\n",
       "      <th>8</th>\n",
       "      <td>AK</td>\n",
       "      <td>52</td>\n",
       "      <td>area_code_408</td>\n",
       "      <td>no</td>\n",
       "      <td>no</td>\n",
       "      <td>0</td>\n",
       "      <td>217.0</td>\n",
       "      <td>104</td>\n",
       "      <td>36.89</td>\n",
       "      <td>152.3</td>\n",
       "      <td>83</td>\n",
       "      <td>12.95</td>\n",
       "      <td>134.3</td>\n",
       "      <td>109</td>\n",
       "      <td>6.04</td>\n",
       "      <td>11.8</td>\n",
       "      <td>4</td>\n",
       "      <td>3.19</td>\n",
       "      <td>2</td>\n",
       "      <td>no</td>\n",
       "    </tr>\n",
       "    <tr>\n",
       "      <th>9</th>\n",
       "      <td>AK</td>\n",
       "      <td>52</td>\n",
       "      <td>area_code_415</td>\n",
       "      <td>no</td>\n",
       "      <td>yes</td>\n",
       "      <td>24</td>\n",
       "      <td>170.9</td>\n",
       "      <td>71</td>\n",
       "      <td>29.05</td>\n",
       "      <td>201.4</td>\n",
       "      <td>80</td>\n",
       "      <td>17.12</td>\n",
       "      <td>159.0</td>\n",
       "      <td>124</td>\n",
       "      <td>7.15</td>\n",
       "      <td>4.1</td>\n",
       "      <td>5</td>\n",
       "      <td>1.11</td>\n",
       "      <td>2</td>\n",
       "      <td>no</td>\n",
       "    </tr>\n",
       "  </tbody>\n",
       "</table>\n",
       "</div>"
      ],
      "text/plain": [
       "  state  account_length      area_code international_plan voice_mail_plan  \\\n",
       "0    AK               1  area_code_408                 no              no   \n",
       "1    AK              36  area_code_408                 no             yes   \n",
       "2    AK              36  area_code_415                yes             yes   \n",
       "3    AK              41  area_code_415                 no              no   \n",
       "4    AK              42  area_code_415                 no              no   \n",
       "5    AK              48  area_code_415                 no             yes   \n",
       "6    AK              50  area_code_408                 no              no   \n",
       "7    AK              51  area_code_510                yes             yes   \n",
       "8    AK              52  area_code_408                 no              no   \n",
       "9    AK              52  area_code_415                 no             yes   \n",
       "\n",
       "   number_vmail_messages  total_day_minutes  total_day_calls  \\\n",
       "0                      0              175.2               74   \n",
       "1                     30              146.3              128   \n",
       "2                     19              171.9               96   \n",
       "3                      0              159.3               66   \n",
       "4                      0              171.0              129   \n",
       "5                     37              211.7              115   \n",
       "6                      0              183.6              107   \n",
       "7                     12              135.8               60   \n",
       "8                      0              217.0              104   \n",
       "9                     24              170.9               71   \n",
       "\n",
       "   total_day_charge  total_eve_minutes  total_eve_calls  total_eve_charge  \\\n",
       "0             29.78              151.7               79             12.89   \n",
       "1             24.87              162.5               80             13.81   \n",
       "2             29.22              198.4              111             16.86   \n",
       "3             27.08              125.9               75             10.70   \n",
       "4             29.07              183.9               96             15.63   \n",
       "5             35.99              159.9               84             13.59   \n",
       "6             31.21               58.6              118              4.98   \n",
       "7             23.09              200.6              134             17.05   \n",
       "8             36.89              152.3               83             12.95   \n",
       "9             29.05              201.4               80             17.12   \n",
       "\n",
       "   total_night_minutes  total_night_calls  total_night_charge  \\\n",
       "0                230.5                109               10.37   \n",
       "1                129.3                109                5.82   \n",
       "2                321.7                 76               14.48   \n",
       "3                261.9                 76               11.79   \n",
       "4                130.2                 90                5.86   \n",
       "5                144.1                 80                6.48   \n",
       "6                202.6                 99                9.12   \n",
       "7                192.4                 98                8.66   \n",
       "8                134.3                109                6.04   \n",
       "9                159.0                124                7.15   \n",
       "\n",
       "   total_intl_minutes  total_intl_calls  total_intl_charge  \\\n",
       "0                 5.3                 3               1.43   \n",
       "1                14.5                 6               3.92   \n",
       "2                10.5                 1               2.84   \n",
       "3                11.1                 5               3.00   \n",
       "4                 4.6                 6               1.24   \n",
       "5                12.2                 1               3.29   \n",
       "6                 8.7                 3               2.35   \n",
       "7                12.3                 7               3.32   \n",
       "8                11.8                 4               3.19   \n",
       "9                 4.1                 5               1.11   \n",
       "\n",
       "   number_customer_service_calls churn  \n",
       "0                              1    no  \n",
       "1                              0    no  \n",
       "2                              1   yes  \n",
       "3                              1    no  \n",
       "4                              0    no  \n",
       "5                              1    no  \n",
       "6                              1    no  \n",
       "7                              2    no  \n",
       "8                              2    no  \n",
       "9                              2    no  "
      ]
     },
     "execution_count": 5,
     "metadata": {},
     "output_type": "execute_result"
    }
   ],
   "source": [
    "#import data\n",
    "df = pd.read_csv(\"data/Churn_Calls.csv\", sep=',')\n",
    "df.head(10)"
   ]
  },
  {
   "cell_type": "code",
   "execution_count": 6,
   "metadata": {
    "scrolled": true
   },
   "outputs": [
    {
     "name": "stdout",
     "output_type": "stream",
     "text": [
      "Index(['state', 'account_length', 'area_code', 'international_plan',\n",
      "       'voice_mail_plan', 'number_vmail_messages', 'total_day_minutes',\n",
      "       'total_day_calls', 'total_day_charge', 'total_eve_minutes',\n",
      "       'total_eve_calls', 'total_eve_charge', 'total_night_minutes',\n",
      "       'total_night_calls', 'total_night_charge', 'total_intl_minutes',\n",
      "       'total_intl_calls', 'total_intl_charge',\n",
      "       'number_customer_service_calls', 'churn'],\n",
      "      dtype='object')\n"
     ]
    }
   ],
   "source": [
    "# See each collum name\n",
    "print(df.columns)"
   ]
  },
  {
   "cell_type": "code",
   "execution_count": 7,
   "metadata": {},
   "outputs": [
    {
     "data": {
      "text/plain": [
       "(5000, 20)"
      ]
     },
     "execution_count": 7,
     "metadata": {},
     "output_type": "execute_result"
    }
   ],
   "source": [
    "df.shape"
   ]
  },
  {
   "cell_type": "markdown",
   "metadata": {},
   "source": [
    "# Target \n",
    "In this step I took the target variable and moved it to the first collum. I aslo made a reference to it called targetName. This just helps me with some below steps."
   ]
  },
  {
   "cell_type": "code",
   "execution_count": 8,
   "metadata": {},
   "outputs": [
    {
     "data": {
      "text/html": [
       "<div>\n",
       "<style scoped>\n",
       "    .dataframe tbody tr th:only-of-type {\n",
       "        vertical-align: middle;\n",
       "    }\n",
       "\n",
       "    .dataframe tbody tr th {\n",
       "        vertical-align: top;\n",
       "    }\n",
       "\n",
       "    .dataframe thead th {\n",
       "        text-align: right;\n",
       "    }\n",
       "</style>\n",
       "<table border=\"1\" class=\"dataframe\">\n",
       "  <thead>\n",
       "    <tr style=\"text-align: right;\">\n",
       "      <th></th>\n",
       "      <th>churn</th>\n",
       "      <th>state</th>\n",
       "      <th>account_length</th>\n",
       "      <th>area_code</th>\n",
       "      <th>international_plan</th>\n",
       "      <th>voice_mail_plan</th>\n",
       "      <th>number_vmail_messages</th>\n",
       "      <th>total_day_minutes</th>\n",
       "      <th>total_day_calls</th>\n",
       "      <th>total_day_charge</th>\n",
       "      <th>total_eve_minutes</th>\n",
       "      <th>total_eve_calls</th>\n",
       "      <th>total_eve_charge</th>\n",
       "      <th>total_night_minutes</th>\n",
       "      <th>total_night_calls</th>\n",
       "      <th>total_night_charge</th>\n",
       "      <th>total_intl_minutes</th>\n",
       "      <th>total_intl_calls</th>\n",
       "      <th>total_intl_charge</th>\n",
       "      <th>number_customer_service_calls</th>\n",
       "    </tr>\n",
       "  </thead>\n",
       "  <tbody>\n",
       "    <tr>\n",
       "      <th>0</th>\n",
       "      <td>no</td>\n",
       "      <td>AK</td>\n",
       "      <td>1</td>\n",
       "      <td>area_code_408</td>\n",
       "      <td>no</td>\n",
       "      <td>no</td>\n",
       "      <td>0</td>\n",
       "      <td>175.2</td>\n",
       "      <td>74</td>\n",
       "      <td>29.78</td>\n",
       "      <td>151.7</td>\n",
       "      <td>79</td>\n",
       "      <td>12.89</td>\n",
       "      <td>230.5</td>\n",
       "      <td>109</td>\n",
       "      <td>10.37</td>\n",
       "      <td>5.3</td>\n",
       "      <td>3</td>\n",
       "      <td>1.43</td>\n",
       "      <td>1</td>\n",
       "    </tr>\n",
       "    <tr>\n",
       "      <th>1</th>\n",
       "      <td>no</td>\n",
       "      <td>AK</td>\n",
       "      <td>36</td>\n",
       "      <td>area_code_408</td>\n",
       "      <td>no</td>\n",
       "      <td>yes</td>\n",
       "      <td>30</td>\n",
       "      <td>146.3</td>\n",
       "      <td>128</td>\n",
       "      <td>24.87</td>\n",
       "      <td>162.5</td>\n",
       "      <td>80</td>\n",
       "      <td>13.81</td>\n",
       "      <td>129.3</td>\n",
       "      <td>109</td>\n",
       "      <td>5.82</td>\n",
       "      <td>14.5</td>\n",
       "      <td>6</td>\n",
       "      <td>3.92</td>\n",
       "      <td>0</td>\n",
       "    </tr>\n",
       "    <tr>\n",
       "      <th>2</th>\n",
       "      <td>yes</td>\n",
       "      <td>AK</td>\n",
       "      <td>36</td>\n",
       "      <td>area_code_415</td>\n",
       "      <td>yes</td>\n",
       "      <td>yes</td>\n",
       "      <td>19</td>\n",
       "      <td>171.9</td>\n",
       "      <td>96</td>\n",
       "      <td>29.22</td>\n",
       "      <td>198.4</td>\n",
       "      <td>111</td>\n",
       "      <td>16.86</td>\n",
       "      <td>321.7</td>\n",
       "      <td>76</td>\n",
       "      <td>14.48</td>\n",
       "      <td>10.5</td>\n",
       "      <td>1</td>\n",
       "      <td>2.84</td>\n",
       "      <td>1</td>\n",
       "    </tr>\n",
       "    <tr>\n",
       "      <th>3</th>\n",
       "      <td>no</td>\n",
       "      <td>AK</td>\n",
       "      <td>41</td>\n",
       "      <td>area_code_415</td>\n",
       "      <td>no</td>\n",
       "      <td>no</td>\n",
       "      <td>0</td>\n",
       "      <td>159.3</td>\n",
       "      <td>66</td>\n",
       "      <td>27.08</td>\n",
       "      <td>125.9</td>\n",
       "      <td>75</td>\n",
       "      <td>10.70</td>\n",
       "      <td>261.9</td>\n",
       "      <td>76</td>\n",
       "      <td>11.79</td>\n",
       "      <td>11.1</td>\n",
       "      <td>5</td>\n",
       "      <td>3.00</td>\n",
       "      <td>1</td>\n",
       "    </tr>\n",
       "    <tr>\n",
       "      <th>4</th>\n",
       "      <td>no</td>\n",
       "      <td>AK</td>\n",
       "      <td>42</td>\n",
       "      <td>area_code_415</td>\n",
       "      <td>no</td>\n",
       "      <td>no</td>\n",
       "      <td>0</td>\n",
       "      <td>171.0</td>\n",
       "      <td>129</td>\n",
       "      <td>29.07</td>\n",
       "      <td>183.9</td>\n",
       "      <td>96</td>\n",
       "      <td>15.63</td>\n",
       "      <td>130.2</td>\n",
       "      <td>90</td>\n",
       "      <td>5.86</td>\n",
       "      <td>4.6</td>\n",
       "      <td>6</td>\n",
       "      <td>1.24</td>\n",
       "      <td>0</td>\n",
       "    </tr>\n",
       "    <tr>\n",
       "      <th>5</th>\n",
       "      <td>no</td>\n",
       "      <td>AK</td>\n",
       "      <td>48</td>\n",
       "      <td>area_code_415</td>\n",
       "      <td>no</td>\n",
       "      <td>yes</td>\n",
       "      <td>37</td>\n",
       "      <td>211.7</td>\n",
       "      <td>115</td>\n",
       "      <td>35.99</td>\n",
       "      <td>159.9</td>\n",
       "      <td>84</td>\n",
       "      <td>13.59</td>\n",
       "      <td>144.1</td>\n",
       "      <td>80</td>\n",
       "      <td>6.48</td>\n",
       "      <td>12.2</td>\n",
       "      <td>1</td>\n",
       "      <td>3.29</td>\n",
       "      <td>1</td>\n",
       "    </tr>\n",
       "    <tr>\n",
       "      <th>6</th>\n",
       "      <td>no</td>\n",
       "      <td>AK</td>\n",
       "      <td>50</td>\n",
       "      <td>area_code_408</td>\n",
       "      <td>no</td>\n",
       "      <td>no</td>\n",
       "      <td>0</td>\n",
       "      <td>183.6</td>\n",
       "      <td>107</td>\n",
       "      <td>31.21</td>\n",
       "      <td>58.6</td>\n",
       "      <td>118</td>\n",
       "      <td>4.98</td>\n",
       "      <td>202.6</td>\n",
       "      <td>99</td>\n",
       "      <td>9.12</td>\n",
       "      <td>8.7</td>\n",
       "      <td>3</td>\n",
       "      <td>2.35</td>\n",
       "      <td>1</td>\n",
       "    </tr>\n",
       "    <tr>\n",
       "      <th>7</th>\n",
       "      <td>no</td>\n",
       "      <td>AK</td>\n",
       "      <td>51</td>\n",
       "      <td>area_code_510</td>\n",
       "      <td>yes</td>\n",
       "      <td>yes</td>\n",
       "      <td>12</td>\n",
       "      <td>135.8</td>\n",
       "      <td>60</td>\n",
       "      <td>23.09</td>\n",
       "      <td>200.6</td>\n",
       "      <td>134</td>\n",
       "      <td>17.05</td>\n",
       "      <td>192.4</td>\n",
       "      <td>98</td>\n",
       "      <td>8.66</td>\n",
       "      <td>12.3</td>\n",
       "      <td>7</td>\n",
       "      <td>3.32</td>\n",
       "      <td>2</td>\n",
       "    </tr>\n",
       "    <tr>\n",
       "      <th>8</th>\n",
       "      <td>no</td>\n",
       "      <td>AK</td>\n",
       "      <td>52</td>\n",
       "      <td>area_code_408</td>\n",
       "      <td>no</td>\n",
       "      <td>no</td>\n",
       "      <td>0</td>\n",
       "      <td>217.0</td>\n",
       "      <td>104</td>\n",
       "      <td>36.89</td>\n",
       "      <td>152.3</td>\n",
       "      <td>83</td>\n",
       "      <td>12.95</td>\n",
       "      <td>134.3</td>\n",
       "      <td>109</td>\n",
       "      <td>6.04</td>\n",
       "      <td>11.8</td>\n",
       "      <td>4</td>\n",
       "      <td>3.19</td>\n",
       "      <td>2</td>\n",
       "    </tr>\n",
       "    <tr>\n",
       "      <th>9</th>\n",
       "      <td>no</td>\n",
       "      <td>AK</td>\n",
       "      <td>52</td>\n",
       "      <td>area_code_415</td>\n",
       "      <td>no</td>\n",
       "      <td>yes</td>\n",
       "      <td>24</td>\n",
       "      <td>170.9</td>\n",
       "      <td>71</td>\n",
       "      <td>29.05</td>\n",
       "      <td>201.4</td>\n",
       "      <td>80</td>\n",
       "      <td>17.12</td>\n",
       "      <td>159.0</td>\n",
       "      <td>124</td>\n",
       "      <td>7.15</td>\n",
       "      <td>4.1</td>\n",
       "      <td>5</td>\n",
       "      <td>1.11</td>\n",
       "      <td>2</td>\n",
       "    </tr>\n",
       "  </tbody>\n",
       "</table>\n",
       "</div>"
      ],
      "text/plain": [
       "  churn state  account_length      area_code international_plan  \\\n",
       "0    no    AK               1  area_code_408                 no   \n",
       "1    no    AK              36  area_code_408                 no   \n",
       "2   yes    AK              36  area_code_415                yes   \n",
       "3    no    AK              41  area_code_415                 no   \n",
       "4    no    AK              42  area_code_415                 no   \n",
       "5    no    AK              48  area_code_415                 no   \n",
       "6    no    AK              50  area_code_408                 no   \n",
       "7    no    AK              51  area_code_510                yes   \n",
       "8    no    AK              52  area_code_408                 no   \n",
       "9    no    AK              52  area_code_415                 no   \n",
       "\n",
       "  voice_mail_plan  number_vmail_messages  total_day_minutes  total_day_calls  \\\n",
       "0              no                      0              175.2               74   \n",
       "1             yes                     30              146.3              128   \n",
       "2             yes                     19              171.9               96   \n",
       "3              no                      0              159.3               66   \n",
       "4              no                      0              171.0              129   \n",
       "5             yes                     37              211.7              115   \n",
       "6              no                      0              183.6              107   \n",
       "7             yes                     12              135.8               60   \n",
       "8              no                      0              217.0              104   \n",
       "9             yes                     24              170.9               71   \n",
       "\n",
       "   total_day_charge  total_eve_minutes  total_eve_calls  total_eve_charge  \\\n",
       "0             29.78              151.7               79             12.89   \n",
       "1             24.87              162.5               80             13.81   \n",
       "2             29.22              198.4              111             16.86   \n",
       "3             27.08              125.9               75             10.70   \n",
       "4             29.07              183.9               96             15.63   \n",
       "5             35.99              159.9               84             13.59   \n",
       "6             31.21               58.6              118              4.98   \n",
       "7             23.09              200.6              134             17.05   \n",
       "8             36.89              152.3               83             12.95   \n",
       "9             29.05              201.4               80             17.12   \n",
       "\n",
       "   total_night_minutes  total_night_calls  total_night_charge  \\\n",
       "0                230.5                109               10.37   \n",
       "1                129.3                109                5.82   \n",
       "2                321.7                 76               14.48   \n",
       "3                261.9                 76               11.79   \n",
       "4                130.2                 90                5.86   \n",
       "5                144.1                 80                6.48   \n",
       "6                202.6                 99                9.12   \n",
       "7                192.4                 98                8.66   \n",
       "8                134.3                109                6.04   \n",
       "9                159.0                124                7.15   \n",
       "\n",
       "   total_intl_minutes  total_intl_calls  total_intl_charge  \\\n",
       "0                 5.3                 3               1.43   \n",
       "1                14.5                 6               3.92   \n",
       "2                10.5                 1               2.84   \n",
       "3                11.1                 5               3.00   \n",
       "4                 4.6                 6               1.24   \n",
       "5                12.2                 1               3.29   \n",
       "6                 8.7                 3               2.35   \n",
       "7                12.3                 7               3.32   \n",
       "8                11.8                 4               3.19   \n",
       "9                 4.1                 5               1.11   \n",
       "\n",
       "   number_customer_service_calls  \n",
       "0                              1  \n",
       "1                              0  \n",
       "2                              1  \n",
       "3                              1  \n",
       "4                              0  \n",
       "5                              1  \n",
       "6                              1  \n",
       "7                              2  \n",
       "8                              2  \n",
       "9                              2  "
      ]
     },
     "execution_count": 8,
     "metadata": {},
     "output_type": "execute_result"
    }
   ],
   "source": [
    "# designate target variable name\n",
    "targetName = 'churn'\n",
    "# move target variable into first column\n",
    "targetSeries = df[targetName]\n",
    "del df[targetName]\n",
    "df.insert(0, targetName, targetSeries)\n",
    "expected=targetName\n",
    "df.head(10)"
   ]
  },
  {
   "cell_type": "markdown",
   "metadata": {},
   "source": [
    "# EDA\n",
    "Just a touch of EDA. This is the distribution of the target. As you can see, the datset is imbalanced and the target class of interest \"yes\" is in the minority (a common occurance in classification)."
   ]
  },
  {
   "cell_type": "code",
   "execution_count": 9,
   "metadata": {},
   "outputs": [
    {
     "data": {
      "text/plain": [
<<<<<<< HEAD
       "<matplotlib.lines.Line2D at 0x1a14857908>"
=======
       "<matplotlib.lines.Line2D at 0x11534a4a8>"
>>>>>>> 3d58ec91039a81c3192d990fcf6fa9be263961e4
      ]
     },
     "execution_count": 9,
     "metadata": {},
     "output_type": "execute_result"
    },
    {
     "data": {
      "image/png": "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\n",
      "text/plain": [
<<<<<<< HEAD
       "<Figure size 432x288 with 1 Axes>"
=======
       "<matplotlib.figure.Figure at 0x11533f080>"
>>>>>>> 3d58ec91039a81c3192d990fcf6fa9be263961e4
      ]
     },
     "metadata": {},
     "output_type": "display_data"
    }
   ],
   "source": [
    "gb = df.groupby(targetName)\n",
    "targetEDA=gb[targetName].aggregate(len)\n",
    "plt.figure()\n",
    "targetEDA.plot(kind='bar', grid=False)\n",
    "plt.axhline(0, color='k')"
   ]
  },
  {
   "cell_type": "markdown",
   "metadata": {},
   "source": [
    "# Preprocessing\n",
    "The below two steps are for preprocessing. The first cell changes the yes/no of the target to numeric. I needed to do this as some models require the target to be numeric. The second cell takes all the category features and creates dummies with them. This is stock code I have used for long time (and I did not write it). It is nice because it will take any dataframe of any size and handle categorial features. I do not have to change a single line in it. It can be used generically on bascially any dataframe. Saves a lot of time of coding each feature."
   ]
  },
  {
   "cell_type": "code",
   "execution_count": 10,
   "metadata": {},
   "outputs": [],
   "source": [
    "from sklearn import preprocessing\n",
    "le_dep = preprocessing.LabelEncoder()\n",
    "#to convert into numbers\n",
    "df['churn'] = le_dep.fit_transform(df['churn'])"
   ]
  },
  {
   "cell_type": "code",
   "execution_count": 11,
   "metadata": {},
   "outputs": [],
   "source": [
    "# perform data transformation\n",
    "for col in df.columns[1:]:\n",
    "\tattName = col\n",
    "\tdType = df[col].dtype\n",
    "\tmissing = pd.isnull(df[col]).any()\n",
    "\tuniqueCount = len(df[attName].value_counts(normalize=False))\n",
    "\t# discretize (create dummies)\n",
    "\tif dType == object:\n",
    "\t\tdf = pd.concat([df, pd.get_dummies(df[col], prefix=col)], axis=1)\n",
    "\t\tdel df[attName]"
   ]
  },
  {
   "cell_type": "markdown",
   "metadata": {},
   "source": [
    "# Test/Train\n",
    "I split the data into a 60/40 train test. The features are stored in \"features_train\" and \"features_test\". The targets are in \"target_train\" and \"target_test\". I used a biggest test when I have an imbalanced set. "
   ]
  },
  {
   "cell_type": "code",
   "execution_count": 12,
   "metadata": {},
   "outputs": [],
   "source": [
    "# split dataset into testing and training\n",
    "features_train, features_test, target_train, target_test = train_test_split(\n",
    "    df.iloc[:,1:].values, df.iloc[:,0].values, test_size=0.40, random_state=0)"
   ]
  },
  {
   "cell_type": "markdown",
   "metadata": {},
   "source": [
    "Just a view of the size of each test/train set.\n",
    "Note there are now 73 features, and the test set is imbalanced (14.6%)"
   ]
  },
  {
   "cell_type": "code",
   "execution_count": 13,
   "metadata": {},
   "outputs": [
    {
     "name": "stdout",
     "output_type": "stream",
     "text": [
      "(2000, 73)\n",
      "(3000, 73)\n",
      "(2000,)\n",
      "(3000,)\n",
      "Percent of Target that is Yes 0.146\n"
     ]
    }
   ],
   "source": [
    "print(features_test.shape)\n",
    "print(features_train.shape)\n",
    "print(target_test.shape)\n",
    "print(target_train.shape)\n",
    "print(\"Percent of Target that is Yes\", target_test.mean())\n",
    "#data.groupby(['col1', 'col2'])"
   ]
  },
  {
   "cell_type": "markdown",
   "metadata": {},
   "source": [
    "# Models\n",
    "All the models are done in Sci-Kit Learn."
   ]
  },
  {
   "cell_type": "markdown",
   "metadata": {},
   "source": [
    "# Decision Tree\n",
    "I created a decision tree from the data. The accurancy of the model was 921%, while the test data classified at 92%. However notice that the \"yes\" class (the class I am interested in) only properly classified at 74% (specificity) and .71 (recall). That is so-so. Again, not uncommon with imbalanced data. "
   ]
  },
  {
   "cell_type": "code",
   "execution_count": 14,
   "metadata": {},
   "outputs": [
    {
     "name": "stdout",
     "output_type": "stream",
     "text": [
<<<<<<< HEAD
      "DT Accuracy Score 0.922\n",
      "             precision    recall  f1-score   support\n",
      "\n",
      "  Fail = no       0.95      0.96      0.95      1708\n",
      " Fail = yes       0.74      0.72      0.73       292\n",
=======
      "DT Accuracy Score 0.9195\n",
      "             precision    recall  f1-score   support\n",
      "\n",
      "  Fail = no       0.95      0.95      0.95      1708\n",
      " Fail = yes       0.72      0.73      0.72       292\n",
>>>>>>> 3d58ec91039a81c3192d990fcf6fa9be263961e4
      "\n",
      "avg / total       0.92      0.92      0.92      2000\n",
      "\n"
     ]
    }
   ],
   "source": [
    "#Decision Tree train model\n",
    "from sklearn import tree \n",
    "clf = tree.DecisionTreeClassifier()\n",
    "clf = clf.fit(features_train, target_train)\n",
    "#DT test model\n",
    "target_predicted_dt = clf.predict(features_test)\n",
    "print(\"DT Accuracy Score\", accuracy_score(target_test, target_predicted_dt))\n",
    "# print classification report\n",
    "target_names = [\"Fail = no\", \"Fail = yes\"]\n",
    "print(classification_report(target_test, target_predicted_dt, target_names=target_names))"
   ]
  },
  {
   "cell_type": "markdown",
   "metadata": {},
   "source": [
    "# Cross Validation of Decision Tree\n",
    "I cross validated with 10 repeats. You can see the OOB score for each repeat and the mean. The mean is .92, which is quite close to the orginal model. I am not going to worry about over fitting."
   ]
  },
  {
   "cell_type": "code",
   "execution_count": 15,
   "metadata": {},
   "outputs": [
    {
     "name": "stdout",
     "output_type": "stream",
     "text": [
<<<<<<< HEAD
      "Cross Validation Score for each K [0.92358804 0.90697674 0.93687708 0.93687708 0.92026578 0.94314381\n",
      " 0.91638796 0.92307692 0.92976589 0.90635452]\n"
=======
      "Cross Validation Score for each K [ 0.92026578  0.90365449  0.9269103   0.93687708  0.92358804  0.94648829\n",
      "  0.9264214   0.93311037  0.93311037  0.91638796]\n"
>>>>>>> 3d58ec91039a81c3192d990fcf6fa9be263961e4
     ]
    },
    {
     "data": {
      "text/plain": [
<<<<<<< HEAD
       "0.924331381459794"
=======
       "0.92668140757119521"
>>>>>>> 3d58ec91039a81c3192d990fcf6fa9be263961e4
      ]
     },
     "execution_count": 15,
     "metadata": {},
     "output_type": "execute_result"
    }
   ],
   "source": [
    "#verify DT with Cross Validation\n",
    "scores = cross_val_score(clf, features_train, target_train, cv=10)\n",
    "print(\"Cross Validation Score for each K\",scores)\n",
    "scores.mean()                             "
   ]
  },
  {
   "cell_type": "markdown",
   "metadata": {},
   "source": [
    "#Visual of Confusion Matrix for Decision Tree"
   ]
  },
  {
   "cell_type": "code",
   "execution_count": 16,
   "metadata": {
    "scrolled": true
   },
   "outputs": [
    {
     "name": "stdout",
     "output_type": "stream",
     "text": [
<<<<<<< HEAD
      "[[1635   73]\n",
      " [  83  209]]\n"
=======
      "[[1627   81]\n",
      " [  80  212]]\n"
>>>>>>> 3d58ec91039a81c3192d990fcf6fa9be263961e4
     ]
    },
    {
     "data": {
<<<<<<< HEAD
      "image/png": "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\n",
      "text/plain": [
       "<Figure size 288x288 with 2 Axes>"
=======
      "image/png": "iVBORw0KGgoAAAANSUhEUgAAARMAAAD0CAYAAAC4n8I2AAAABHNCSVQICAgIfAhkiAAAAAlwSFlz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\ng4mZlcLBxMxK4WBiZqX4fyr8UGVatl09AAAAAElFTkSuQmCC\n",
      "text/plain": [
       "<matplotlib.figure.Figure at 0x11354b8d0>"
>>>>>>> 3d58ec91039a81c3192d990fcf6fa9be263961e4
      ]
     },
     "metadata": {},
     "output_type": "display_data"
    }
   ],
   "source": [
    "# display confusion matrix\n",
    "cm = confusion_matrix(target_test, target_predicted_dt)\n",
    "plt.matshow(cm)\n",
    "plt.title('Confusion matrix')\n",
    "plt.colorbar()\n",
    "plt.ylabel('True label')\n",
    "plt.xlabel('Predicted label')\n",
    "print(cm)"
   ]
  },
  {
   "cell_type": "markdown",
   "metadata": {},
   "source": [
    "#Random Forest\n",
    "Using the same data, I built a random forest with 500 bootstrapped trees. Notice I parallelized this to 4 cores as big random forest can be computationally expensive. \n",
    "\n",
    "My overall results went up by 3% over the decision tree. Also, my minory target precision, but the recall decresed.  "
   ]
  },
  {
   "cell_type": "code",
   "execution_count": 17,
   "metadata": {},
   "outputs": [
    {
     "name": "stdout",
     "output_type": "stream",
     "text": [
<<<<<<< HEAD
      "0.9505\n",
      "             precision    recall  f1-score   support\n",
      "\n",
      " Churn = no       0.95      1.00      0.97      1708\n",
      "Churn = yes       0.97      0.68      0.80       292\n",
      "\n",
      "avg / total       0.95      0.95      0.95      2000\n",
      "\n",
      "[[1702    6]\n",
      " [  93  199]]\n"
=======
      "0.952\n",
      "             precision    recall  f1-score   support\n",
      "\n",
      " Churn = no       0.95      1.00      0.97      1708\n",
      "Churn = yes       0.97      0.70      0.81       292\n",
      "\n",
      "avg / total       0.95      0.95      0.95      2000\n",
      "\n",
      "[[1701    7]\n",
      " [  89  203]]\n"
>>>>>>> 3d58ec91039a81c3192d990fcf6fa9be263961e4
     ]
    }
   ],
   "source": [
    "# train random forest model\n",
    "#paralleized to 4 cores \n",
    "from sklearn.ensemble import RandomForestClassifier\n",
    "rf = RandomForestClassifier(n_estimators= 500, n_jobs=-1,oob_score=True)\n",
    "rf.fit(features_train, target_train)\n",
    "# test random forest model\n",
    "target_predicted_rf = rf.predict(features_test)\n",
    "print(accuracy_score(target_test, target_predicted_rf))\n",
    "target_names = [\"Churn = no\", \"Churn = yes\"]\n",
    "print(classification_report(target_test, target_predicted_rf, target_names=target_names))\n",
    "print(confusion_matrix(target_test, target_predicted_rf))\n"
   ]
  },
  {
   "cell_type": "markdown",
   "metadata": {},
   "source": [
    "#Cross Validation of Random Forest\n",
    "I cross validated with 10 repeats. You can see the OOB score for each repeat and the mean. The mean is .949, which is quite close to the orginal model. I am not going to worry about over fitting."
   ]
  },
  {
   "cell_type": "code",
   "execution_count": 18,
   "metadata": {},
   "outputs": [
    {
     "name": "stdout",
     "output_type": "stream",
     "text": [
<<<<<<< HEAD
      "Cross Validation Score for each K [0.94352159 0.94352159 0.94352159 0.96013289 0.94019934 0.95986622\n",
      " 0.95652174 0.94314381 0.94983278 0.95652174]\n"
=======
      "Cross Validation Score for each K [ 0.94352159  0.94019934  0.94352159  0.95681063  0.93687708  0.94983278\n",
      "  0.94983278  0.94983278  0.94314381  0.95652174]\n"
>>>>>>> 3d58ec91039a81c3192d990fcf6fa9be263961e4
     ]
    },
    {
     "data": {
      "text/plain": [
<<<<<<< HEAD
       "0.9496783297592195"
=======
       "0.94700941121568027"
>>>>>>> 3d58ec91039a81c3192d990fcf6fa9be263961e4
      ]
     },
     "execution_count": 18,
     "metadata": {},
     "output_type": "execute_result"
    }
   ],
   "source": [
    "#verify RF with cross validation\n",
    "scores_rf = cross_val_score(rf, features_train, target_train, cv=10, n_jobs=-1)\n",
    "print(\"Cross Validation Score for each K\",scores_rf)\n",
    "scores_rf.mean()"
   ]
  },
  {
   "cell_type": "markdown",
   "metadata": {},
   "source": [
    "# Visual of Confusion Matrix for Random Forest"
   ]
  },
  {
   "cell_type": "code",
   "execution_count": 19,
   "metadata": {
    "scrolled": true
   },
   "outputs": [
    {
     "name": "stdout",
     "output_type": "stream",
     "text": [
      "[[1702    6]\n",
      " [  93  199]]\n"
     ]
    },
    {
     "data": {
      "image/png": "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\n",
      "text/plain": [
       "<Figure size 288x288 with 2 Axes>"
      ]
     },
     "metadata": {},
     "output_type": "display_data"
    }
   ],
   "source": [
    "# display confusion matrix\n",
    "cm = confusion_matrix(target_test, target_predicted_rf)\n",
    "plt.matshow(cm)\n",
    "plt.title('Confusion matrix')\n",
    "plt.colorbar()\n",
    "plt.ylabel('True label')\n",
    "plt.xlabel('Predicted label')\n",
    "print(cm)"
   ]
  },
  {
   "cell_type": "markdown",
   "metadata": {},
   "source": [
    "# Hyperparameter Tuning\n",
    "You can tune any argument in these models. I did a grid search only on max_features (mtry in R). I parallelized the job to 4 cores for speed. You can see that max_features (mtry) of 5 had the best results. But frankly was very little difference from the other parameter results."
   ]
  },
  {
   "cell_type": "code",
<<<<<<< HEAD
   "execution_count": 20,
=======
   "execution_count": 17,
>>>>>>> 3d58ec91039a81c3192d990fcf6fa9be263961e4
   "metadata": {},
   "outputs": [
    {
     "name": "stdout",
     "output_type": "stream",
     "text": [
<<<<<<< HEAD
      "Time to run 3.0682789999999995 seconds\n",
      "{'mean_fit_time': array([2.7306993 , 3.00409245, 2.90243697, 2.00328501]), 'std_fit_time': array([0.00747435, 0.14057627, 0.62248671, 0.02748586]), 'mean_score_time': array([0.31703933, 0.24546615, 0.2091066 , 0.20546945]), 'std_score_time': array([0.00808365, 0.05475728, 0.00257351, 0.00263619]), 'param_max_features': masked_array(data=[2, 3, 4, 5],\n",
      "             mask=[False, False, False, False],\n",
      "       fill_value='?',\n",
      "            dtype=object), 'params': [{'max_features': 2}, {'max_features': 3}, {'max_features': 4}, {'max_features': 5}], 'split0_test_score': array([0.88311688, 0.88911089, 0.90609391, 0.91308691]), 'split1_test_score': array([0.902, 0.907, 0.921, 0.932]), 'split2_test_score': array([0.8958959 , 0.9019019 , 0.91791792, 0.92792793]), 'mean_test_score': array([0.89366667, 0.89933333, 0.915     , 0.92433333]), 'std_test_score': array([0.00787016, 0.0075271 , 0.0064266 , 0.00813008]), 'rank_test_score': array([4, 3, 2, 1], dtype=int32), 'split0_train_score': array([1., 1., 1., 1.]), 'split1_train_score': array([1., 1., 1., 1.]), 'split2_train_score': array([1., 1., 1., 1.]), 'mean_train_score': array([1., 1., 1., 1.]), 'std_train_score': array([0., 0., 0., 0.])}\n"
=======
      "Time to run 3.6882099999999998 seconds\n",
      "{'split0_test_score': array([ 0.88011988,  0.89010989,  0.9020979 ,  0.90909091]), 'split1_test_score': array([ 0.894,  0.909,  0.919,  0.928]), 'split2_test_score': array([ 0.89289289,  0.9039039 ,  0.91791792,  0.92592593]), 'mean_test_score': array([ 0.889,  0.901,  0.913,  0.921]), 'std_test_score': array([ 0.00630013,  0.00798201,  0.00772736,  0.00846973]), 'rank_test_score': array([4, 3, 2, 1], dtype=int32), 'split0_train_score': array([ 1.,  1.,  1.,  1.]), 'split1_train_score': array([ 1.,  1.,  1.,  1.]), 'split2_train_score': array([ 1.,  1.,  1.,  1.]), 'mean_train_score': array([ 1.,  1.,  1.,  1.]), 'std_train_score': array([ 0.,  0.,  0.,  0.]), 'mean_fit_time': array([ 3.39331937,  3.65042162,  3.81190022,  3.66277281]), 'std_fit_time': array([ 0.13094076,  0.2608817 ,  0.21933537,  0.14806462]), 'mean_score_time': array([ 0.42837167,  0.34965277,  0.39610044,  0.2399536 ]), 'std_score_time': array([ 0.07504435,  0.04994216,  0.05566358,  0.05015319]), 'param_max_features': masked_array(data = [2 3 4 5],\n",
      "             mask = [False False False False],\n",
      "       fill_value = ?)\n",
      ", 'params': ({'max_features': 2}, {'max_features': 3}, {'max_features': 4}, {'max_features': 5})}\n"
>>>>>>> 3d58ec91039a81c3192d990fcf6fa9be263961e4
     ]
    }
   ],
   "source": [
    "# use a full grid over all parameters\n",
    "param_grid = {\"max_features\": [2, 3, 4, 5]}\n",
    "start_time = time.clock()\n",
    "\n",
    "# run grid search\n",
    "grid_search = GridSearchCV(rf, param_grid=param_grid,n_jobs=-1)\n",
    "\n",
    "grid_search.fit(features_train, target_train)\n",
    "\n",
    "print(\"Time to run\", time.clock() - start_time, \"seconds\")\n",
    "print(grid_search.cv_results_)\n"
   ]
  },
  {
   "cell_type": "markdown",
   "metadata": {},
   "source": [
    "# KNN\n",
    "I performed KNN on K=3 and K=5. For both K's the accurancy was 85% and 87% respectively and I still have problems with the minority class. KNN and Decision Tree perform about the same. I find this to be true frequently, which is why I use them as my base comparative models. "
   ]
  },
  {
   "cell_type": "markdown",
   "metadata": {},
   "source": [
    "# More Details\n",
    "Now that we know our random forest was the best model of the three I ran, I will gather some other information. Below is a non-ordered list of feature importance. I only showed 20 for purposes of space."
   ]
  },
  {
   "cell_type": "code",
<<<<<<< HEAD
   "execution_count": 31,
   "metadata": {},
   "outputs": [
    {
     "ename": "SyntaxError",
     "evalue": "unexpected EOF while parsing (<ipython-input-31-49b97d212344>, line 4)",
     "output_type": "error",
     "traceback": [
      "\u001b[0;36m  File \u001b[0;32m\"<ipython-input-31-49b97d212344>\"\u001b[0;36m, line \u001b[0;32m4\u001b[0m\n\u001b[0;31m    \u001b[0m\n\u001b[0m    ^\u001b[0m\n\u001b[0;31mSyntaxError\u001b[0m\u001b[0;31m:\u001b[0m unexpected EOF while parsing\n"
=======
   "execution_count": 27,
   "metadata": {},
   "outputs": [
    {
     "name": "stdout",
     "output_type": "stream",
     "text": [
      "Features sorted by their score:\n",
      "Higher the more important\n",
      "[(0.12839999999999999, 'total_day_charge'), (0.12740000000000001, 'total_day_minutes'), (0.10009999999999999, 'number_customer_service_calls'), (0.055, 'total_eve_minutes'), (0.054800000000000001, 'total_eve_charge'), (0.047, 'total_intl_calls'), (0.042500000000000003, 'total_intl_minutes'), (0.040399999999999998, 'total_intl_charge'), (0.036799999999999999, 'total_night_minutes'), (0.036799999999999999, 'total_night_charge'), (0.0327, 'account_length'), (0.0298, 'total_night_calls'), (0.029600000000000001, 'total_day_calls'), (0.028500000000000001, 'total_eve_calls'), (0.016799999999999999, 'number_vmail_messages'), (0.002, 'state_AZ'), (0.0019, 'state_AR'), (0.00069999999999999999, 'state_AL'), (0.00069999999999999999, 'state_AK')]\n"
>>>>>>> 3d58ec91039a81c3192d990fcf6fa9be263961e4
     ]
    }
   ],
   "source": [
<<<<<<< HEAD
    "#Show importance of each feature in Random Forest\n",
    "print(zip(df.columns[1:20], rf.feature_importances_)\n",
    "\n",
    "             "
   ]
  },
  {
   "cell_type": "code",
   "execution_count": 35,
   "metadata": {},
   "outputs": [
    {
     "name": "stdout",
     "output_type": "stream",
     "text": [
      "Variable: number_vmail_messages Importance: 0.13\n",
      "Variable: total_day_calls      Importance: 0.12\n",
      "Variable: total_intl_charge    Importance: 0.1\n",
      "Variable: total_day_charge     Importance: 0.06\n",
      "Variable: total_eve_calls      Importance: 0.05\n",
      "Variable: total_intl_minutes   Importance: 0.05\n",
      "Variable: total_eve_charge     Importance: 0.04\n",
      "Variable: total_night_calls    Importance: 0.04\n",
      "Variable: total_night_charge   Importance: 0.04\n",
      "Variable: total_intl_calls     Importance: 0.04\n",
      "Variable: area_code_area_code_510 Importance: 0.04\n",
      "Variable: churn                Importance: 0.03\n",
      "Variable: total_day_minutes    Importance: 0.03\n",
      "Variable: total_eve_minutes    Importance: 0.03\n",
      "Variable: total_night_minutes  Importance: 0.03\n",
      "Variable: international_plan_no Importance: 0.03\n",
      "Variable: account_length       Importance: 0.02\n",
      "Variable: area_code_area_code_408 Importance: 0.01\n",
      "Variable: area_code_area_code_415 Importance: 0.01\n",
      "Variable: international_plan_yes Importance: 0.01\n",
      "Variable: voice_mail_plan_no   Importance: 0.01\n",
      "Variable: number_customer_service_calls Importance: 0.0\n",
      "Variable: state_AK             Importance: 0.0\n",
      "Variable: state_AL             Importance: 0.0\n",
      "Variable: state_AR             Importance: 0.0\n",
      "Variable: state_AZ             Importance: 0.0\n",
      "Variable: state_CA             Importance: 0.0\n",
      "Variable: state_CO             Importance: 0.0\n",
      "Variable: state_CT             Importance: 0.0\n",
      "Variable: state_DC             Importance: 0.0\n",
      "Variable: state_DE             Importance: 0.0\n",
      "Variable: state_FL             Importance: 0.0\n",
      "Variable: state_GA             Importance: 0.0\n",
      "Variable: state_HI             Importance: 0.0\n",
      "Variable: state_IA             Importance: 0.0\n",
      "Variable: state_ID             Importance: 0.0\n",
      "Variable: state_IL             Importance: 0.0\n",
      "Variable: state_IN             Importance: 0.0\n",
      "Variable: state_KS             Importance: 0.0\n",
      "Variable: state_KY             Importance: 0.0\n",
      "Variable: state_LA             Importance: 0.0\n",
      "Variable: state_MA             Importance: 0.0\n",
      "Variable: state_MD             Importance: 0.0\n",
      "Variable: state_ME             Importance: 0.0\n",
      "Variable: state_MI             Importance: 0.0\n",
      "Variable: state_MN             Importance: 0.0\n",
      "Variable: state_MO             Importance: 0.0\n",
      "Variable: state_MS             Importance: 0.0\n",
      "Variable: state_MT             Importance: 0.0\n",
      "Variable: state_NC             Importance: 0.0\n",
      "Variable: state_ND             Importance: 0.0\n",
      "Variable: state_NE             Importance: 0.0\n",
      "Variable: state_NH             Importance: 0.0\n",
      "Variable: state_NJ             Importance: 0.0\n",
      "Variable: state_NM             Importance: 0.0\n",
      "Variable: state_NV             Importance: 0.0\n",
      "Variable: state_NY             Importance: 0.0\n",
      "Variable: state_OH             Importance: 0.0\n",
      "Variable: state_OK             Importance: 0.0\n",
      "Variable: state_OR             Importance: 0.0\n",
      "Variable: state_PA             Importance: 0.0\n",
      "Variable: state_RI             Importance: 0.0\n",
      "Variable: state_SC             Importance: 0.0\n",
      "Variable: state_SD             Importance: 0.0\n",
      "Variable: state_TN             Importance: 0.0\n",
      "Variable: state_TX             Importance: 0.0\n",
      "Variable: state_UT             Importance: 0.0\n",
      "Variable: state_VA             Importance: 0.0\n",
      "Variable: state_VT             Importance: 0.0\n",
      "Variable: state_WA             Importance: 0.0\n",
      "Variable: state_WI             Importance: 0.0\n",
      "Variable: state_WV             Importance: 0.0\n",
      "Variable: state_WY             Importance: 0.0\n"
     ]
    }
   ],
   "source": [
    "#print(rf.feature_importances_)\n",
    "# Get numerical feature importances\n",
    "importances = list(rf.feature_importances_)\n",
    "# List of tuples with variable and importance\n",
    "feature_list = list(df.columns)\n",
    "feature_importances = [(feature, round(importance, 2)) for feature, importance in zip(feature_list, importances)]\n",
    "# Sort the feature importances by most important first\n",
    "feature_importances = sorted(feature_importances, key = lambda x: x[1], reverse = True)\n",
    "# Print out the feature and importances \n",
    "[print('Variable: {:20} Importance: {}'.format(*pair)) for pair in feature_importances];"
=======
    "print(\"Features sorted by their score:\")\n",
    "print(\"Higher the more important\")\n",
    "print(sorted(zip(map(lambda x: round(x, 4), rf.feature_importances_),df.columns[1:20]), \n",
    "             reverse=True))"
>>>>>>> 3d58ec91039a81c3192d990fcf6fa9be263961e4
   ]
  },
  {
   "cell_type": "markdown",
   "metadata": {},
   "source": [
    "# ROC curve for Random Forest\n",
    "Finally a ROC curve that shows the lift I get from the Random Forest model. "
   ]
  },
  {
   "cell_type": "code",
   "execution_count": 20,
   "metadata": {},
   "outputs": [
    {
     "name": "stdout",
     "output_type": "stream",
     "text": [
      "ROC AUC: 0.921\n"
     ]
    },
    {
     "data": {
      "image/png": "iVBORw0KGgoAAAANSUhEUgAAAYoAAAEWCAYAAAB42tAoAAAABHNCSVQICAgIfAhkiAAAAAlwSFlz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\nrkJggg==\n",
      "text/plain": [
       "<matplotlib.figure.Figure at 0x119044b38>"
      ]
     },
     "metadata": {},
     "output_type": "display_data"
    }
   ],
   "source": [
    "# Determine the false positive and true positive rates\n",
    "fpr, tpr, _ = roc_curve(target_test, rf.predict_proba(features_test)[:,1]) \n",
    "    \n",
    "# Calculate the AUC\n",
    "roc_auc = auc(fpr, tpr)\n",
    "print('ROC AUC: %0.3f' % roc_auc)\n",
    " \n",
    "# Plot of a ROC curve for a specific class\n",
    "plt.figure()\n",
    "plt.plot(fpr, tpr, label='ROC curve (area = %0.3f)' % roc_auc)\n",
    "plt.plot([0, 1], [0, 1], 'k--')\n",
    "plt.xlim([0.0, 1.0])\n",
    "plt.ylim([0.0, 1.05])\n",
    "plt.xlabel('False Positive Rate')\n",
    "plt.ylabel('True Positive Rate')\n",
    "plt.title('ROC Curve')\n",
    "plt.legend(loc=\"lower right\")\n",
    "plt.show()"
   ]
  },
  {
   "cell_type": "markdown",
   "metadata": {
    "collapsed": true
   },
   "source": [
    "Random Forest does the best, but I still am not getting the accurancy on my target class of interest. I have a few tricks I can do to work on this, but that is for another day/class."
   ]
  },
  {
   "cell_type": "markdown",
   "metadata": {},
   "source": [
    "# SUPPORT VECTOR MACHINES"
   ]
  },
  {
   "cell_type": "markdown",
   "metadata": {},
   "source": [
    "linear SVM with L2 penalty, Cost function of 1 and auto class weight. "
   ]
  },
  {
   "cell_type": "code",
   "execution_count": 21,
   "metadata": {},
   "outputs": [
    {
     "name": "stdout",
     "output_type": "stream",
     "text": [
      "             precision    recall  f1-score   support\n",
      "\n",
      "         No       0.88      0.96      0.92      1708\n",
      "        Yes       0.52      0.22      0.31       292\n",
      "\n",
      "avg / total       0.83      0.86      0.83      2000\n",
      "\n",
      "[[1648   60]\n",
      " [ 227   65]]\n",
      "0.8565\n"
     ]
    }
   ],
   "source": [
    "from sklearn.svm import LinearSVC\n",
    "clf_linSVC=LinearSVC(penalty='l2', loss='squared_hinge', dual=True, tol=0.0001, C=1.0, class_weight='balanced')\n",
    "clf_linSVC.fit(features_train, target_train)\n",
    "predicted_SVC=clf_linSVC.predict(features_test)\n",
    "expected = target_test\n",
    "# summarize the fit of the model\n",
    "print(classification_report(expected, predicted_SVC,target_names=['No', 'Yes']))\n",
    "print(confusion_matrix(expected, predicted_SVC))\n",
    "print(accuracy_score(expected,predicted_SVC))"
   ]
  },
  {
   "cell_type": "markdown",
   "metadata": {},
   "source": [
    "# SVC kernel= linear\n",
    "# Change Class_Weight"
   ]
  },
  {
   "cell_type": "code",
   "execution_count": 22,
   "metadata": {},
   "outputs": [
    {
     "name": "stdout",
     "output_type": "stream",
     "text": [
      "             precision    recall  f1-score   support\n",
      "\n",
      "         No       0.86      1.00      0.92      1708\n",
      "        Yes       1.00      0.01      0.02       292\n",
      "\n",
      "avg / total       0.88      0.86      0.79      2000\n",
      "\n",
      "[[1708    0]\n",
      " [ 289    3]]\n",
      "0.8555\n",
      "148.145937 seconds\n"
     ]
    }
   ],
   "source": [
    "start_time = time.clock()\n",
    "from sklearn.svm import SVC\n",
    "#standard linear SVC\n",
    "clf_lin = SVC(kernel='linear', C=1.0,class_weight=None,gamma='auto')\n",
    "clf_lin.fit(features_train, target_train)\n",
    "predicted_SVM=clf_lin.predict(features_test)\n",
    "expected = target_test\n",
    "# summarize the fit of the model\n",
    "print(classification_report(expected, predicted_SVM,target_names=['No', 'Yes']))\n",
    "print(confusion_matrix(expected, predicted_SVM))\n",
    "print(accuracy_score(expected,predicted_SVM))\n",
    "print(time.clock() - start_time, \"seconds\")"
   ]
  },
  {
   "cell_type": "code",
   "execution_count": 23,
   "metadata": {},
   "outputs": [
    {
     "name": "stdout",
     "output_type": "stream",
     "text": [
      "             precision    recall  f1-score   support\n",
      "\n",
      "         No       0.96      0.74      0.84      1708\n",
      "        Yes       0.35      0.80      0.49       292\n",
      "\n",
      "avg / total       0.87      0.75      0.79      2000\n",
      "\n",
      "[[1271  437]\n",
      " [  57  235]]\n",
      "0.753\n",
      "Time to run 141.223871 seconds\n"
     ]
    }
   ],
   "source": [
    "start_time = time.clock()\n",
    "from sklearn.svm import SVC\n",
    "#standard linear SVC\n",
    "clf_lin = SVC(kernel='linear', C=1.0,class_weight='balanced',gamma='auto')\n",
    "clf_lin.fit(features_train, target_train)\n",
    "predicted_SVM=clf_lin.predict(features_test)\n",
    "expected = target_test\n",
    "# summarize the fit of the model\n",
    "print(classification_report(expected, predicted_SVM,target_names=['No', 'Yes']))\n",
    "print(confusion_matrix(expected, predicted_SVM))\n",
    "print(accuracy_score(expected,predicted_SVM))\n",
    "print(\"Time to run\", time.clock() - start_time, \"seconds\")"
   ]
  },
  {
   "cell_type": "markdown",
   "metadata": {},
   "source": [
    "# Grid Search of Cost Function (with cross validation)"
   ]
  },
  {
   "cell_type": "markdown",
   "metadata": {},
   "source": [
    "# This take a long time to run"
   ]
  },
  {
   "cell_type": "code",
   "execution_count": 24,
   "metadata": {},
   "outputs": [
    {
     "name": "stdout",
     "output_type": "stream",
     "text": [
      "SCORES {'split0_test_score': array([ 0.86166667,  0.86166667,  0.86166667,  0.86666667,  0.86666667,\n",
      "        0.87      ,  0.86666667]), 'split1_test_score': array([ 0.86166667,  0.86166667,  0.86166667,  0.87666667,  0.88      ,\n",
      "        0.87833333,  0.875     ]), 'split2_test_score': array([ 0.86166667,  0.86166667,  0.86333333,  0.865     ,  0.87166667,\n",
      "        0.86833333,  0.87833333]), 'split3_test_score': array([ 0.86166667,  0.86166667,  0.86166667,  0.87      ,  0.87      ,\n",
      "        0.87      ,  0.87333333]), 'split4_test_score': array([ 0.86166667,  0.86166667,  0.86166667,  0.87166667,  0.875     ,\n",
      "        0.87166667,  0.87166667]), 'mean_test_score': array([ 0.86166667,  0.86166667,  0.862     ,  0.87      ,  0.87266667,\n",
      "        0.87166667,  0.873     ]), 'std_test_score': array([ 0.        ,  0.        ,  0.00066667,  0.00408248,  0.00454606,\n",
      "        0.00349603,  0.00385861]), 'rank_test_score': array([6, 6, 5, 4, 2, 3, 1], dtype=int32), 'split0_train_score': array([ 0.86166667,  0.86166667,  0.86208333,  0.87458333,  0.87833333,\n",
      "        0.88541667,  0.88      ]), 'split1_train_score': array([ 0.86166667,  0.86166667,  0.8625    ,  0.87375   ,  0.87791667,\n",
      "        0.88      ,  0.87833333]), 'split2_train_score': array([ 0.86166667,  0.86166667,  0.86208333,  0.87208333,  0.87458333,\n",
      "        0.87666667,  0.88041667]), 'split3_train_score': array([ 0.86166667,  0.86166667,  0.86625   ,  0.87708333,  0.87958333,\n",
      "        0.87833333,  0.87958333]), 'split4_train_score': array([ 0.86166667,  0.86166667,  0.86208333,  0.8725    ,  0.87708333,\n",
      "        0.87666667,  0.87958333]), 'mean_train_score': array([ 0.86166667,  0.86166667,  0.863     ,  0.874     ,  0.8775    ,\n",
      "        0.87941667,  0.87958333]), 'std_train_score': array([ 0.        ,  0.        ,  0.00163299,  0.00177951,  0.00166667,\n",
      "        0.00324465,  0.00069722]), 'mean_fit_time': array([  33.1759726 ,   66.23090143,  213.15018587,  380.70834494,\n",
      "        524.98431983,  694.51413894,  508.80119486]), 'std_fit_time': array([   8.16556865,    8.12025939,   38.30606259,   86.1358593 ,\n",
      "        119.34603882,   69.36155813,   55.02453727]), 'mean_score_time': array([ 0.05828543,  0.08076515,  0.07719703,  0.05405555,  0.05418458,\n",
      "        0.04460754,  0.03677874]), 'std_score_time': array([ 0.0094737 ,  0.02897304,  0.0166671 ,  0.00839968,  0.00656458,\n",
      "        0.00138574,  0.00485135]), 'param_C': masked_array(data = [0.01 0.05 1 3 4 9 10],\n",
      "             mask = [False False False False False False False],\n",
      "       fill_value = ?)\n",
      ", 'params': ({'C': 0.01}, {'C': 0.05}, {'C': 1}, {'C': 3}, {'C': 4}, {'C': 9}, {'C': 10})}\n",
      "BEST SCORE 0.873\n",
      "BEST PARAM {'C': 10}\n",
      "Time to run 266.23299099999997 seconds\n"
     ]
    }
   ],
   "source": [
    "start_time = time.clock()\n",
    "from sklearn.svm import SVC\n",
    "parameters = {'C':[.01,.05,1,3,4,9,10]}\n",
    "svr = SVC(kernel='linear')\n",
    "grid_svm = GridSearchCV(svr, parameters,n_jobs=-1, cv=5)\n",
    "grid_svm.fit(features_train, target_train)\n",
    "print(\"SCORES\", grid_svm.cv_results_)\n",
    "print(\"BEST SCORE\", grid_svm.best_score_)\n",
    "print(\"BEST PARAM\", grid_svm.best_params_)\n",
    "print(\"Time to run\", time.clock() - start_time, \"seconds\")"
   ]
  },
  {
   "cell_type": "markdown",
   "metadata": {},
   "source": [
    "# Grid Search of Several Functions (with cross validation)"
   ]
  },
  {
   "cell_type": "markdown",
   "metadata": {},
   "source": [
    "# This take a long time to run"
   ]
  },
  {
   "cell_type": "code",
   "execution_count": 25,
   "metadata": {},
   "outputs": [
    {
     "name": "stdout",
     "output_type": "stream",
     "text": [
      "SCORES {'split0_test_score': array([ 0.86166667,  0.86166667,  0.86166667,  0.86166667,  0.86166667,\n",
      "        0.86166667,  0.86666667,  0.86166667,  0.86833333,  0.86166667,\n",
      "        0.86666667,  0.86166667]), 'split1_test_score': array([ 0.86166667,  0.86166667,  0.86166667,  0.86166667,  0.86166667,\n",
      "        0.86166667,  0.87666667,  0.86166667,  0.87666667,  0.86166667,\n",
      "        0.875     ,  0.86166667]), 'split2_test_score': array([ 0.86166667,  0.86166667,  0.86166667,  0.86166667,  0.86333333,\n",
      "        0.86166667,  0.865     ,  0.86166667,  0.875     ,  0.86166667,\n",
      "        0.87833333,  0.86166667]), 'split3_test_score': array([ 0.86166667,  0.86166667,  0.86166667,  0.86166667,  0.86166667,\n",
      "        0.86166667,  0.87      ,  0.86166667,  0.87      ,  0.86166667,\n",
      "        0.87333333,  0.86166667]), 'split4_test_score': array([ 0.86166667,  0.86166667,  0.86166667,  0.86166667,  0.86166667,\n",
      "        0.86166667,  0.87166667,  0.86166667,  0.86833333,  0.86166667,\n",
      "        0.87166667,  0.86166667]), 'mean_test_score': array([ 0.86166667,  0.86166667,  0.86166667,  0.86166667,  0.862     ,\n",
      "        0.86166667,  0.87      ,  0.86166667,  0.87166667,  0.86166667,\n",
      "        0.873     ,  0.86166667]), 'std_test_score': array([ 0.        ,  0.        ,  0.        ,  0.        ,  0.00066667,\n",
      "        0.        ,  0.00408248,  0.        ,  0.00349603,  0.        ,\n",
      "        0.00385861,  0.        ]), 'rank_test_score': array([5, 5, 5, 5, 4, 5, 3, 5, 2, 5, 1, 5], dtype=int32), 'split0_train_score': array([ 0.86166667,  0.86166667,  0.86166667,  0.86166667,  0.86208333,\n",
      "        1.        ,  0.87458333,  1.        ,  0.88041667,  1.        ,\n",
      "        0.88      ,  1.        ]), 'split1_train_score': array([ 0.86166667,  0.86166667,  0.86166667,  0.86166667,  0.8625    ,\n",
      "        1.        ,  0.87375   ,  1.        ,  0.87541667,  1.        ,\n",
      "        0.87833333,  1.        ]), 'split2_train_score': array([ 0.86166667,  0.86166667,  0.86166667,  0.86166667,  0.86208333,\n",
      "        1.        ,  0.87208333,  1.        ,  0.8775    ,  1.        ,\n",
      "        0.88041667,  1.        ]), 'split3_train_score': array([ 0.86166667,  0.86166667,  0.86166667,  0.86166667,  0.86625   ,\n",
      "        1.        ,  0.87708333,  1.        ,  0.8775    ,  1.        ,\n",
      "        0.87958333,  1.        ]), 'split4_train_score': array([ 0.86166667,  0.86166667,  0.86166667,  0.86166667,  0.86208333,\n",
      "        1.        ,  0.8725    ,  1.        ,  0.87791667,  1.        ,\n",
      "        0.87958333,  1.        ]), 'mean_train_score': array([ 0.86166667,  0.86166667,  0.86166667,  0.86166667,  0.863     ,\n",
      "        1.        ,  0.874     ,  1.        ,  0.87775   ,  1.        ,\n",
      "        0.87958333,  1.        ]), 'std_train_score': array([ 0.        ,  0.        ,  0.        ,  0.        ,  0.00163299,\n",
      "        0.        ,  0.00177951,  0.        ,  0.00159426,  0.        ,\n",
      "        0.00069722,  0.        ]), 'mean_fit_time': array([  4.29884591e+00,   2.43650770e-01,   2.85779255e+01,\n",
      "         8.75129223e-01,   1.90644154e+02,   1.25355458e+00,\n",
      "         3.49244402e+02,   1.26186185e+00,   6.13488852e+02,\n",
      "         1.40192966e+00,   6.48751199e+02,   1.30650640e+00]), 'std_fit_time': array([  3.36102468e-01,   8.15791935e-03,   6.10380707e+00,\n",
      "         1.90550798e-02,   3.24188307e+01,   2.03612348e-01,\n",
      "         8.05295138e+01,   1.41700249e-01,   1.19988587e+02,\n",
      "         2.37741059e-01,   7.67014264e+01,   2.47129951e-01]), 'mean_score_time': array([ 0.04644732,  0.0546402 ,  0.04702029,  0.20572   ,  0.06775775,\n",
      "        0.26946521,  0.06266141,  0.22204838,  0.06104636,  0.25040255,\n",
      "        0.04347506,  0.24092751]), 'std_score_time': array([ 0.00123402,  0.00441186,  0.00054383,  0.00630749,  0.03088439,\n",
      "        0.07383523,  0.013546  ,  0.01717785,  0.0133976 ,  0.0310762 ,\n",
      "        0.00485017,  0.04115427]), 'param_C': masked_array(data = [0.001 0.001 0.01 0.01 1 1 3 3 5 5 10 10],\n",
      "             mask = [False False False False False False False False False False False False],\n",
      "       fill_value = ?)\n",
      ", 'param_kernel': masked_array(data = ['linear' 'rbf' 'linear' 'rbf' 'linear' 'rbf' 'linear' 'rbf' 'linear' 'rbf'\n",
      " 'linear' 'rbf'],\n",
      "             mask = [False False False False False False False False False False False False],\n",
      "       fill_value = ?)\n",
      ", 'params': ({'C': 0.001, 'kernel': 'linear'}, {'C': 0.001, 'kernel': 'rbf'}, {'C': 0.01, 'kernel': 'linear'}, {'C': 0.01, 'kernel': 'rbf'}, {'C': 1, 'kernel': 'linear'}, {'C': 1, 'kernel': 'rbf'}, {'C': 3, 'kernel': 'linear'}, {'C': 3, 'kernel': 'rbf'}, {'C': 5, 'kernel': 'linear'}, {'C': 5, 'kernel': 'rbf'}, {'C': 10, 'kernel': 'linear'}, {'C': 10, 'kernel': 'rbf'})}\n",
      "BEST Estm SVC(C=10, cache_size=200, class_weight=None, coef0=0.0,\n",
      "  decision_function_shape=None, degree=3, gamma='auto', kernel='linear',\n",
      "  max_iter=-1, probability=False, random_state=None, shrinking=True,\n",
      "  tol=0.001, verbose=False)\n",
      "BEST SCORE 0.873\n",
      "BEST PARAM {'C': 10, 'kernel': 'linear'}\n",
      "Time to run 263.3796080000001 seconds\n"
     ]
    }
   ],
   "source": [
    "start_time = time.clock()\n",
    "from sklearn.svm import SVC\n",
    "parameters = {'kernel':('linear', 'rbf'), 'C':[.001,.01,1,3,5,10]}\n",
    "svr = SVC()\n",
    "grid_svm = GridSearchCV(svr, parameters,n_jobs=-1, cv=5)\n",
    "grid_svm.fit(features_train, target_train)\n",
    "print(\"SCORES\", grid_svm.cv_results_)\n",
    "print(\"BEST Estm\",grid_svm.best_estimator_) \n",
    "print(\"BEST SCORE\",grid_svm.best_score_)\n",
    "print(\"BEST PARAM\", grid_svm.best_params_)\n",
    "print(\"Time to run\", time.clock() - start_time, \"seconds\")"
   ]
  },
  {
   "cell_type": "markdown",
   "metadata": {},
   "source": [
    "# How does \"Best\" perform?"
   ]
  },
  {
   "cell_type": "code",
   "execution_count": 26,
   "metadata": {},
   "outputs": [
    {
     "name": "stdout",
     "output_type": "stream",
     "text": [
      "             precision    recall  f1-score   support\n",
      "\n",
      "         No       0.95      0.71      0.82      1708\n",
      "        Yes       0.32      0.79      0.46       292\n",
      "\n",
      "avg / total       0.86      0.73      0.76      2000\n",
      "\n",
      "[[1221  487]\n",
      " [  62  230]]\n",
      "0.7255\n",
      "Time to run 729.06263 seconds\n"
     ]
    }
   ],
   "source": [
    "start_time = time.clock()\n",
    "from sklearn.svm import SVC\n",
    "#standard linear SVC\n",
    "clf_lin = SVC(kernel='linear', C=10.0,class_weight='balanced',gamma='auto')\n",
    "clf_lin.fit(features_train, target_train)\n",
    "predicted_SVM=clf_lin.predict(features_test)\n",
    "expected = target_test\n",
    "# summarize the fit of the model\n",
    "print(classification_report(expected, predicted_SVM,target_names=['No', 'Yes']))\n",
    "print(confusion_matrix(expected, predicted_SVM))\n",
    "print(accuracy_score(expected,predicted_SVM))\n",
    "print(\"Time to run\", time.clock() - start_time, \"seconds\")"
   ]
  },
  {
   "cell_type": "markdown",
   "metadata": {},
   "source": [
    "# SVM using a RBF (non-linear) Kernel (High dimensional Space). Untuned."
   ]
  },
  {
   "cell_type": "code",
   "execution_count": 28,
   "metadata": {},
   "outputs": [
    {
     "name": "stdout",
     "output_type": "stream",
     "text": [
      "             precision    recall  f1-score   support\n",
      "\n",
      "         No       0.85      1.00      0.92      1708\n",
      "        Yes       0.00      0.00      0.00       292\n",
      "\n",
      "avg / total       0.73      0.85      0.79      2000\n",
      "\n",
      "[[1708    0]\n",
      " [ 292    0]]\n",
      "0.854\n",
      "Time to run 1.439623999999867 seconds\n"
     ]
    },
    {
     "name": "stderr",
     "output_type": "stream",
     "text": [
      "/Users/mpgartland/anaconda/lib/python3.6/site-packages/sklearn/metrics/classification.py:1113: UndefinedMetricWarning: Precision and F-score are ill-defined and being set to 0.0 in labels with no predicted samples.\n",
      "  'precision', 'predicted', average, warn_for)\n"
     ]
    }
   ],
   "source": [
    "start_time = time.clock()\n",
    "from sklearn.svm import SVC\n",
    "#standard linear SVC\n",
    "clf_rbf = SVC(kernel='rbf', C=1.0, degree=3, class_weight='balanced',gamma=0.1)\n",
    "clf_rbf.fit(features_train, target_train)\n",
    "predicted_rbf=clf_rbf.predict(features_test)\n",
    "expected = target_test\n",
    "# summarize the fit of the model\n",
    "print(classification_report(expected, predicted_rbf,target_names=['No', 'Yes']))\n",
    "print(confusion_matrix(expected, predicted_rbf))\n",
    "print(accuracy_score(expected,predicted_rbf))\n",
    "print(\"Time to run\", time.clock() - start_time, \"seconds\")"
   ]
  },
  {
   "cell_type": "markdown",
   "metadata": {},
   "source": [
    "# SVM using Polynominal Kernel (2nd Degree), untuned.\n",
    "Would not fit at 2nd and 3rd degree given 24 hours"
   ]
  },
  {
   "cell_type": "markdown",
   "metadata": {},
   "source": [
    "from sklearn.svm import SVC\n",
    "#standard linear SVC\n",
    "clf_poly = SVC(kernel='poly', degree=2, C=1.0,class_weight=None)\n",
    "clf_poly.fit(features_train, target_train)\n",
    "predicted_poly=clf_poly.predict(features_test)\n",
    "expected = target_test\n",
    "#summarize the fit of the model\n",
    "print(classification_report(expected, predicted_poly,target_names=['No', 'Yes']))\n",
    "print(confusion_matrix(expected, predicted_poly))\n",
    "print accuracy_score(expected,predicted_poly)"
   ]
  },
  {
   "cell_type": "code",
   "execution_count": null,
   "metadata": {
    "collapsed": true
   },
   "outputs": [],
   "source": []
  }
 ],
 "metadata": {
  "kernelspec": {
   "display_name": "Python 3",
   "language": "python",
   "name": "python3"
  },
  "language_info": {
   "codemirror_mode": {
    "name": "ipython",
    "version": 3
   },
   "file_extension": ".py",
   "mimetype": "text/x-python",
   "name": "python",
   "nbconvert_exporter": "python",
   "pygments_lexer": "ipython3",
   "version": "3.6.5"
  }
 },
 "nbformat": 4,
 "nbformat_minor": 1
}

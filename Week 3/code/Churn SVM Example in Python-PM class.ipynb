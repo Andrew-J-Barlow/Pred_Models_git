{
 "cells": [
  {
   "cell_type": "markdown",
   "metadata": {},
   "source": [
    "# Classification Methods, SVMs, Tuning and CV\n"
   ]
  },
  {
   "cell_type": "markdown",
   "metadata": {},
   "source": [
    "Like R, Python uses packages in data mining/machine learning. The 3 mose common ones are Pandas (manipulation), Scikit Learn (machine learning) and Matplotlit (graphics)."
   ]
  },
  {
   "cell_type": "code",
   "execution_count": 1,
   "metadata": {},
   "outputs": [
    {
     "data": {
      "text/plain": [
       "'/Users/mylesgartland/OneDrive - Rockhurst University/Courses/Predictive Models/Pred_Models_git/Week 3/code'"
      ]
     },
     "execution_count": 1,
     "metadata": {},
     "output_type": "execute_result"
    }
   ],
   "source": [
    "%matplotlib inline \n",
    "import numpy as np\n",
    "import matplotlib.pyplot as plt\n",
    "import pandas as pd\n",
    "from sklearn import preprocessing\n",
    "from sklearn.model_selection import train_test_split, cross_val_score, KFold, GridSearchCV\n",
    "from sklearn.metrics import accuracy_score, precision_score, recall_score, f1_score\n",
    "from sklearn.metrics import roc_curve, auc, confusion_matrix, classification_report\n",
    "import time\n",
    "from operator import itemgetter\n",
    "import os\n",
    "os.getcwd()"
   ]
  },
  {
   "cell_type": "code",
   "execution_count": 4,
   "metadata": {},
   "outputs": [
    {
     "name": "stdout",
     "output_type": "stream",
     "text": [
      "/Users/mylesgartland/OneDrive - Rockhurst University/Courses/Predictive Models/Pred_Models_git/Week 3\n"
     ]
    }
   ],
   "source": [
    "cd '/Users/mylesgartland/OneDrive - Rockhurst University/Courses/Predictive Models/Pred_Models_git/Week 3'"
   ]
  },
  {
   "cell_type": "markdown",
   "metadata": {},
   "source": [
    "# Read in Data\n",
    "# Churn Calls Data\n",
    "This is a Pandas operation."
   ]
  },
  {
   "cell_type": "code",
   "execution_count": 5,
   "metadata": {},
   "outputs": [
    {
     "data": {
      "text/html": [
       "<div>\n",
       "<style scoped>\n",
       "    .dataframe tbody tr th:only-of-type {\n",
       "        vertical-align: middle;\n",
       "    }\n",
       "\n",
       "    .dataframe tbody tr th {\n",
       "        vertical-align: top;\n",
       "    }\n",
       "\n",
       "    .dataframe thead th {\n",
       "        text-align: right;\n",
       "    }\n",
       "</style>\n",
       "<table border=\"1\" class=\"dataframe\">\n",
       "  <thead>\n",
       "    <tr style=\"text-align: right;\">\n",
       "      <th></th>\n",
       "      <th>state</th>\n",
       "      <th>account_length</th>\n",
       "      <th>area_code</th>\n",
       "      <th>international_plan</th>\n",
       "      <th>voice_mail_plan</th>\n",
       "      <th>number_vmail_messages</th>\n",
       "      <th>total_day_minutes</th>\n",
       "      <th>total_day_calls</th>\n",
       "      <th>total_day_charge</th>\n",
       "      <th>total_eve_minutes</th>\n",
       "      <th>total_eve_calls</th>\n",
       "      <th>total_eve_charge</th>\n",
       "      <th>total_night_minutes</th>\n",
       "      <th>total_night_calls</th>\n",
       "      <th>total_night_charge</th>\n",
       "      <th>total_intl_minutes</th>\n",
       "      <th>total_intl_calls</th>\n",
       "      <th>total_intl_charge</th>\n",
       "      <th>number_customer_service_calls</th>\n",
       "      <th>churn</th>\n",
       "    </tr>\n",
       "  </thead>\n",
       "  <tbody>\n",
       "    <tr>\n",
       "      <th>0</th>\n",
       "      <td>AK</td>\n",
       "      <td>1</td>\n",
       "      <td>area_code_408</td>\n",
       "      <td>no</td>\n",
       "      <td>no</td>\n",
       "      <td>0</td>\n",
       "      <td>175.2</td>\n",
       "      <td>74</td>\n",
       "      <td>29.78</td>\n",
       "      <td>151.7</td>\n",
       "      <td>79</td>\n",
       "      <td>12.89</td>\n",
       "      <td>230.5</td>\n",
       "      <td>109</td>\n",
       "      <td>10.37</td>\n",
       "      <td>5.3</td>\n",
       "      <td>3</td>\n",
       "      <td>1.43</td>\n",
       "      <td>1</td>\n",
       "      <td>no</td>\n",
       "    </tr>\n",
       "    <tr>\n",
       "      <th>1</th>\n",
       "      <td>AK</td>\n",
       "      <td>36</td>\n",
       "      <td>area_code_408</td>\n",
       "      <td>no</td>\n",
       "      <td>yes</td>\n",
       "      <td>30</td>\n",
       "      <td>146.3</td>\n",
       "      <td>128</td>\n",
       "      <td>24.87</td>\n",
       "      <td>162.5</td>\n",
       "      <td>80</td>\n",
       "      <td>13.81</td>\n",
       "      <td>129.3</td>\n",
       "      <td>109</td>\n",
       "      <td>5.82</td>\n",
       "      <td>14.5</td>\n",
       "      <td>6</td>\n",
       "      <td>3.92</td>\n",
       "      <td>0</td>\n",
       "      <td>no</td>\n",
       "    </tr>\n",
       "    <tr>\n",
       "      <th>2</th>\n",
       "      <td>AK</td>\n",
       "      <td>36</td>\n",
       "      <td>area_code_415</td>\n",
       "      <td>yes</td>\n",
       "      <td>yes</td>\n",
       "      <td>19</td>\n",
       "      <td>171.9</td>\n",
       "      <td>96</td>\n",
       "      <td>29.22</td>\n",
       "      <td>198.4</td>\n",
       "      <td>111</td>\n",
       "      <td>16.86</td>\n",
       "      <td>321.7</td>\n",
       "      <td>76</td>\n",
       "      <td>14.48</td>\n",
       "      <td>10.5</td>\n",
       "      <td>1</td>\n",
       "      <td>2.84</td>\n",
       "      <td>1</td>\n",
       "      <td>yes</td>\n",
       "    </tr>\n",
       "    <tr>\n",
       "      <th>3</th>\n",
       "      <td>AK</td>\n",
       "      <td>41</td>\n",
       "      <td>area_code_415</td>\n",
       "      <td>no</td>\n",
       "      <td>no</td>\n",
       "      <td>0</td>\n",
       "      <td>159.3</td>\n",
       "      <td>66</td>\n",
       "      <td>27.08</td>\n",
       "      <td>125.9</td>\n",
       "      <td>75</td>\n",
       "      <td>10.70</td>\n",
       "      <td>261.9</td>\n",
       "      <td>76</td>\n",
       "      <td>11.79</td>\n",
       "      <td>11.1</td>\n",
       "      <td>5</td>\n",
       "      <td>3.00</td>\n",
       "      <td>1</td>\n",
       "      <td>no</td>\n",
       "    </tr>\n",
       "    <tr>\n",
       "      <th>4</th>\n",
       "      <td>AK</td>\n",
       "      <td>42</td>\n",
       "      <td>area_code_415</td>\n",
       "      <td>no</td>\n",
       "      <td>no</td>\n",
       "      <td>0</td>\n",
       "      <td>171.0</td>\n",
       "      <td>129</td>\n",
       "      <td>29.07</td>\n",
       "      <td>183.9</td>\n",
       "      <td>96</td>\n",
       "      <td>15.63</td>\n",
       "      <td>130.2</td>\n",
       "      <td>90</td>\n",
       "      <td>5.86</td>\n",
       "      <td>4.6</td>\n",
       "      <td>6</td>\n",
       "      <td>1.24</td>\n",
       "      <td>0</td>\n",
       "      <td>no</td>\n",
       "    </tr>\n",
       "    <tr>\n",
       "      <th>5</th>\n",
       "      <td>AK</td>\n",
       "      <td>48</td>\n",
       "      <td>area_code_415</td>\n",
       "      <td>no</td>\n",
       "      <td>yes</td>\n",
       "      <td>37</td>\n",
       "      <td>211.7</td>\n",
       "      <td>115</td>\n",
       "      <td>35.99</td>\n",
       "      <td>159.9</td>\n",
       "      <td>84</td>\n",
       "      <td>13.59</td>\n",
       "      <td>144.1</td>\n",
       "      <td>80</td>\n",
       "      <td>6.48</td>\n",
       "      <td>12.2</td>\n",
       "      <td>1</td>\n",
       "      <td>3.29</td>\n",
       "      <td>1</td>\n",
       "      <td>no</td>\n",
       "    </tr>\n",
       "    <tr>\n",
       "      <th>6</th>\n",
       "      <td>AK</td>\n",
       "      <td>50</td>\n",
       "      <td>area_code_408</td>\n",
       "      <td>no</td>\n",
       "      <td>no</td>\n",
       "      <td>0</td>\n",
       "      <td>183.6</td>\n",
       "      <td>107</td>\n",
       "      <td>31.21</td>\n",
       "      <td>58.6</td>\n",
       "      <td>118</td>\n",
       "      <td>4.98</td>\n",
       "      <td>202.6</td>\n",
       "      <td>99</td>\n",
       "      <td>9.12</td>\n",
       "      <td>8.7</td>\n",
       "      <td>3</td>\n",
       "      <td>2.35</td>\n",
       "      <td>1</td>\n",
       "      <td>no</td>\n",
       "    </tr>\n",
       "    <tr>\n",
       "      <th>7</th>\n",
       "      <td>AK</td>\n",
       "      <td>51</td>\n",
       "      <td>area_code_510</td>\n",
       "      <td>yes</td>\n",
       "      <td>yes</td>\n",
       "      <td>12</td>\n",
       "      <td>135.8</td>\n",
       "      <td>60</td>\n",
       "      <td>23.09</td>\n",
       "      <td>200.6</td>\n",
       "      <td>134</td>\n",
       "      <td>17.05</td>\n",
       "      <td>192.4</td>\n",
       "      <td>98</td>\n",
       "      <td>8.66</td>\n",
       "      <td>12.3</td>\n",
       "      <td>7</td>\n",
       "      <td>3.32</td>\n",
       "      <td>2</td>\n",
       "      <td>no</td>\n",
       "    </tr>\n",
       "    <tr>\n",
       "      <th>8</th>\n",
       "      <td>AK</td>\n",
       "      <td>52</td>\n",
       "      <td>area_code_408</td>\n",
       "      <td>no</td>\n",
       "      <td>no</td>\n",
       "      <td>0</td>\n",
       "      <td>217.0</td>\n",
       "      <td>104</td>\n",
       "      <td>36.89</td>\n",
       "      <td>152.3</td>\n",
       "      <td>83</td>\n",
       "      <td>12.95</td>\n",
       "      <td>134.3</td>\n",
       "      <td>109</td>\n",
       "      <td>6.04</td>\n",
       "      <td>11.8</td>\n",
       "      <td>4</td>\n",
       "      <td>3.19</td>\n",
       "      <td>2</td>\n",
       "      <td>no</td>\n",
       "    </tr>\n",
       "    <tr>\n",
       "      <th>9</th>\n",
       "      <td>AK</td>\n",
       "      <td>52</td>\n",
       "      <td>area_code_415</td>\n",
       "      <td>no</td>\n",
       "      <td>yes</td>\n",
       "      <td>24</td>\n",
       "      <td>170.9</td>\n",
       "      <td>71</td>\n",
       "      <td>29.05</td>\n",
       "      <td>201.4</td>\n",
       "      <td>80</td>\n",
       "      <td>17.12</td>\n",
       "      <td>159.0</td>\n",
       "      <td>124</td>\n",
       "      <td>7.15</td>\n",
       "      <td>4.1</td>\n",
       "      <td>5</td>\n",
       "      <td>1.11</td>\n",
       "      <td>2</td>\n",
       "      <td>no</td>\n",
       "    </tr>\n",
       "  </tbody>\n",
       "</table>\n",
       "</div>"
      ],
      "text/plain": [
       "  state  account_length      area_code international_plan voice_mail_plan  \\\n",
       "0    AK               1  area_code_408                 no              no   \n",
       "1    AK              36  area_code_408                 no             yes   \n",
       "2    AK              36  area_code_415                yes             yes   \n",
       "3    AK              41  area_code_415                 no              no   \n",
       "4    AK              42  area_code_415                 no              no   \n",
       "5    AK              48  area_code_415                 no             yes   \n",
       "6    AK              50  area_code_408                 no              no   \n",
       "7    AK              51  area_code_510                yes             yes   \n",
       "8    AK              52  area_code_408                 no              no   \n",
       "9    AK              52  area_code_415                 no             yes   \n",
       "\n",
       "   number_vmail_messages  total_day_minutes  total_day_calls  \\\n",
       "0                      0              175.2               74   \n",
       "1                     30              146.3              128   \n",
       "2                     19              171.9               96   \n",
       "3                      0              159.3               66   \n",
       "4                      0              171.0              129   \n",
       "5                     37              211.7              115   \n",
       "6                      0              183.6              107   \n",
       "7                     12              135.8               60   \n",
       "8                      0              217.0              104   \n",
       "9                     24              170.9               71   \n",
       "\n",
       "   total_day_charge  total_eve_minutes  total_eve_calls  total_eve_charge  \\\n",
       "0             29.78              151.7               79             12.89   \n",
       "1             24.87              162.5               80             13.81   \n",
       "2             29.22              198.4              111             16.86   \n",
       "3             27.08              125.9               75             10.70   \n",
       "4             29.07              183.9               96             15.63   \n",
       "5             35.99              159.9               84             13.59   \n",
       "6             31.21               58.6              118              4.98   \n",
       "7             23.09              200.6              134             17.05   \n",
       "8             36.89              152.3               83             12.95   \n",
       "9             29.05              201.4               80             17.12   \n",
       "\n",
       "   total_night_minutes  total_night_calls  total_night_charge  \\\n",
       "0                230.5                109               10.37   \n",
       "1                129.3                109                5.82   \n",
       "2                321.7                 76               14.48   \n",
       "3                261.9                 76               11.79   \n",
       "4                130.2                 90                5.86   \n",
       "5                144.1                 80                6.48   \n",
       "6                202.6                 99                9.12   \n",
       "7                192.4                 98                8.66   \n",
       "8                134.3                109                6.04   \n",
       "9                159.0                124                7.15   \n",
       "\n",
       "   total_intl_minutes  total_intl_calls  total_intl_charge  \\\n",
       "0                 5.3                 3               1.43   \n",
       "1                14.5                 6               3.92   \n",
       "2                10.5                 1               2.84   \n",
       "3                11.1                 5               3.00   \n",
       "4                 4.6                 6               1.24   \n",
       "5                12.2                 1               3.29   \n",
       "6                 8.7                 3               2.35   \n",
       "7                12.3                 7               3.32   \n",
       "8                11.8                 4               3.19   \n",
       "9                 4.1                 5               1.11   \n",
       "\n",
       "   number_customer_service_calls churn  \n",
       "0                              1    no  \n",
       "1                              0    no  \n",
       "2                              1   yes  \n",
       "3                              1    no  \n",
       "4                              0    no  \n",
       "5                              1    no  \n",
       "6                              1    no  \n",
       "7                              2    no  \n",
       "8                              2    no  \n",
       "9                              2    no  "
      ]
     },
     "execution_count": 5,
     "metadata": {},
     "output_type": "execute_result"
    }
   ],
   "source": [
    "#import data\n",
    "df = pd.read_csv(\"data/Churn_Calls.csv\", sep=',')\n",
    "df.head(10)"
   ]
  },
  {
   "cell_type": "code",
   "execution_count": 6,
   "metadata": {
    "scrolled": true
   },
   "outputs": [
    {
     "name": "stdout",
     "output_type": "stream",
     "text": [
      "Index(['state', 'account_length', 'area_code', 'international_plan',\n",
      "       'voice_mail_plan', 'number_vmail_messages', 'total_day_minutes',\n",
      "       'total_day_calls', 'total_day_charge', 'total_eve_minutes',\n",
      "       'total_eve_calls', 'total_eve_charge', 'total_night_minutes',\n",
      "       'total_night_calls', 'total_night_charge', 'total_intl_minutes',\n",
      "       'total_intl_calls', 'total_intl_charge',\n",
      "       'number_customer_service_calls', 'churn'],\n",
      "      dtype='object')\n"
     ]
    }
   ],
   "source": [
    "# See each collum name\n",
    "print(df.columns)"
   ]
  },
  {
   "cell_type": "code",
   "execution_count": 7,
   "metadata": {},
   "outputs": [
    {
     "data": {
      "text/plain": [
       "(5000, 20)"
      ]
     },
     "execution_count": 7,
     "metadata": {},
     "output_type": "execute_result"
    }
   ],
   "source": [
    "df.shape"
   ]
  },
  {
   "cell_type": "markdown",
   "metadata": {},
   "source": [
    "# Target \n",
    "In this step I took the target variable and moved it to the first collum. I aslo made a reference to it called targetName. This just helps me with some below steps."
   ]
  },
  {
   "cell_type": "code",
   "execution_count": 8,
   "metadata": {},
   "outputs": [
    {
     "data": {
      "text/html": [
       "<div>\n",
       "<style scoped>\n",
       "    .dataframe tbody tr th:only-of-type {\n",
       "        vertical-align: middle;\n",
       "    }\n",
       "\n",
       "    .dataframe tbody tr th {\n",
       "        vertical-align: top;\n",
       "    }\n",
       "\n",
       "    .dataframe thead th {\n",
       "        text-align: right;\n",
       "    }\n",
       "</style>\n",
       "<table border=\"1\" class=\"dataframe\">\n",
       "  <thead>\n",
       "    <tr style=\"text-align: right;\">\n",
       "      <th></th>\n",
       "      <th>churn</th>\n",
       "      <th>state</th>\n",
       "      <th>account_length</th>\n",
       "      <th>area_code</th>\n",
       "      <th>international_plan</th>\n",
       "      <th>voice_mail_plan</th>\n",
       "      <th>number_vmail_messages</th>\n",
       "      <th>total_day_minutes</th>\n",
       "      <th>total_day_calls</th>\n",
       "      <th>total_day_charge</th>\n",
       "      <th>total_eve_minutes</th>\n",
       "      <th>total_eve_calls</th>\n",
       "      <th>total_eve_charge</th>\n",
       "      <th>total_night_minutes</th>\n",
       "      <th>total_night_calls</th>\n",
       "      <th>total_night_charge</th>\n",
       "      <th>total_intl_minutes</th>\n",
       "      <th>total_intl_calls</th>\n",
       "      <th>total_intl_charge</th>\n",
       "      <th>number_customer_service_calls</th>\n",
       "    </tr>\n",
       "  </thead>\n",
       "  <tbody>\n",
       "    <tr>\n",
       "      <th>0</th>\n",
       "      <td>no</td>\n",
       "      <td>AK</td>\n",
       "      <td>1</td>\n",
       "      <td>area_code_408</td>\n",
       "      <td>no</td>\n",
       "      <td>no</td>\n",
       "      <td>0</td>\n",
       "      <td>175.2</td>\n",
       "      <td>74</td>\n",
       "      <td>29.78</td>\n",
       "      <td>151.7</td>\n",
       "      <td>79</td>\n",
       "      <td>12.89</td>\n",
       "      <td>230.5</td>\n",
       "      <td>109</td>\n",
       "      <td>10.37</td>\n",
       "      <td>5.3</td>\n",
       "      <td>3</td>\n",
       "      <td>1.43</td>\n",
       "      <td>1</td>\n",
       "    </tr>\n",
       "    <tr>\n",
       "      <th>1</th>\n",
       "      <td>no</td>\n",
       "      <td>AK</td>\n",
       "      <td>36</td>\n",
       "      <td>area_code_408</td>\n",
       "      <td>no</td>\n",
       "      <td>yes</td>\n",
       "      <td>30</td>\n",
       "      <td>146.3</td>\n",
       "      <td>128</td>\n",
       "      <td>24.87</td>\n",
       "      <td>162.5</td>\n",
       "      <td>80</td>\n",
       "      <td>13.81</td>\n",
       "      <td>129.3</td>\n",
       "      <td>109</td>\n",
       "      <td>5.82</td>\n",
       "      <td>14.5</td>\n",
       "      <td>6</td>\n",
       "      <td>3.92</td>\n",
       "      <td>0</td>\n",
       "    </tr>\n",
       "    <tr>\n",
       "      <th>2</th>\n",
       "      <td>yes</td>\n",
       "      <td>AK</td>\n",
       "      <td>36</td>\n",
       "      <td>area_code_415</td>\n",
       "      <td>yes</td>\n",
       "      <td>yes</td>\n",
       "      <td>19</td>\n",
       "      <td>171.9</td>\n",
       "      <td>96</td>\n",
       "      <td>29.22</td>\n",
       "      <td>198.4</td>\n",
       "      <td>111</td>\n",
       "      <td>16.86</td>\n",
       "      <td>321.7</td>\n",
       "      <td>76</td>\n",
       "      <td>14.48</td>\n",
       "      <td>10.5</td>\n",
       "      <td>1</td>\n",
       "      <td>2.84</td>\n",
       "      <td>1</td>\n",
       "    </tr>\n",
       "    <tr>\n",
       "      <th>3</th>\n",
       "      <td>no</td>\n",
       "      <td>AK</td>\n",
       "      <td>41</td>\n",
       "      <td>area_code_415</td>\n",
       "      <td>no</td>\n",
       "      <td>no</td>\n",
       "      <td>0</td>\n",
       "      <td>159.3</td>\n",
       "      <td>66</td>\n",
       "      <td>27.08</td>\n",
       "      <td>125.9</td>\n",
       "      <td>75</td>\n",
       "      <td>10.70</td>\n",
       "      <td>261.9</td>\n",
       "      <td>76</td>\n",
       "      <td>11.79</td>\n",
       "      <td>11.1</td>\n",
       "      <td>5</td>\n",
       "      <td>3.00</td>\n",
       "      <td>1</td>\n",
       "    </tr>\n",
       "    <tr>\n",
       "      <th>4</th>\n",
       "      <td>no</td>\n",
       "      <td>AK</td>\n",
       "      <td>42</td>\n",
       "      <td>area_code_415</td>\n",
       "      <td>no</td>\n",
       "      <td>no</td>\n",
       "      <td>0</td>\n",
       "      <td>171.0</td>\n",
       "      <td>129</td>\n",
       "      <td>29.07</td>\n",
       "      <td>183.9</td>\n",
       "      <td>96</td>\n",
       "      <td>15.63</td>\n",
       "      <td>130.2</td>\n",
       "      <td>90</td>\n",
       "      <td>5.86</td>\n",
       "      <td>4.6</td>\n",
       "      <td>6</td>\n",
       "      <td>1.24</td>\n",
       "      <td>0</td>\n",
       "    </tr>\n",
       "    <tr>\n",
       "      <th>5</th>\n",
       "      <td>no</td>\n",
       "      <td>AK</td>\n",
       "      <td>48</td>\n",
       "      <td>area_code_415</td>\n",
       "      <td>no</td>\n",
       "      <td>yes</td>\n",
       "      <td>37</td>\n",
       "      <td>211.7</td>\n",
       "      <td>115</td>\n",
       "      <td>35.99</td>\n",
       "      <td>159.9</td>\n",
       "      <td>84</td>\n",
       "      <td>13.59</td>\n",
       "      <td>144.1</td>\n",
       "      <td>80</td>\n",
       "      <td>6.48</td>\n",
       "      <td>12.2</td>\n",
       "      <td>1</td>\n",
       "      <td>3.29</td>\n",
       "      <td>1</td>\n",
       "    </tr>\n",
       "    <tr>\n",
       "      <th>6</th>\n",
       "      <td>no</td>\n",
       "      <td>AK</td>\n",
       "      <td>50</td>\n",
       "      <td>area_code_408</td>\n",
       "      <td>no</td>\n",
       "      <td>no</td>\n",
       "      <td>0</td>\n",
       "      <td>183.6</td>\n",
       "      <td>107</td>\n",
       "      <td>31.21</td>\n",
       "      <td>58.6</td>\n",
       "      <td>118</td>\n",
       "      <td>4.98</td>\n",
       "      <td>202.6</td>\n",
       "      <td>99</td>\n",
       "      <td>9.12</td>\n",
       "      <td>8.7</td>\n",
       "      <td>3</td>\n",
       "      <td>2.35</td>\n",
       "      <td>1</td>\n",
       "    </tr>\n",
       "    <tr>\n",
       "      <th>7</th>\n",
       "      <td>no</td>\n",
       "      <td>AK</td>\n",
       "      <td>51</td>\n",
       "      <td>area_code_510</td>\n",
       "      <td>yes</td>\n",
       "      <td>yes</td>\n",
       "      <td>12</td>\n",
       "      <td>135.8</td>\n",
       "      <td>60</td>\n",
       "      <td>23.09</td>\n",
       "      <td>200.6</td>\n",
       "      <td>134</td>\n",
       "      <td>17.05</td>\n",
       "      <td>192.4</td>\n",
       "      <td>98</td>\n",
       "      <td>8.66</td>\n",
       "      <td>12.3</td>\n",
       "      <td>7</td>\n",
       "      <td>3.32</td>\n",
       "      <td>2</td>\n",
       "    </tr>\n",
       "    <tr>\n",
       "      <th>8</th>\n",
       "      <td>no</td>\n",
       "      <td>AK</td>\n",
       "      <td>52</td>\n",
       "      <td>area_code_408</td>\n",
       "      <td>no</td>\n",
       "      <td>no</td>\n",
       "      <td>0</td>\n",
       "      <td>217.0</td>\n",
       "      <td>104</td>\n",
       "      <td>36.89</td>\n",
       "      <td>152.3</td>\n",
       "      <td>83</td>\n",
       "      <td>12.95</td>\n",
       "      <td>134.3</td>\n",
       "      <td>109</td>\n",
       "      <td>6.04</td>\n",
       "      <td>11.8</td>\n",
       "      <td>4</td>\n",
       "      <td>3.19</td>\n",
       "      <td>2</td>\n",
       "    </tr>\n",
       "    <tr>\n",
       "      <th>9</th>\n",
       "      <td>no</td>\n",
       "      <td>AK</td>\n",
       "      <td>52</td>\n",
       "      <td>area_code_415</td>\n",
       "      <td>no</td>\n",
       "      <td>yes</td>\n",
       "      <td>24</td>\n",
       "      <td>170.9</td>\n",
       "      <td>71</td>\n",
       "      <td>29.05</td>\n",
       "      <td>201.4</td>\n",
       "      <td>80</td>\n",
       "      <td>17.12</td>\n",
       "      <td>159.0</td>\n",
       "      <td>124</td>\n",
       "      <td>7.15</td>\n",
       "      <td>4.1</td>\n",
       "      <td>5</td>\n",
       "      <td>1.11</td>\n",
       "      <td>2</td>\n",
       "    </tr>\n",
       "  </tbody>\n",
       "</table>\n",
       "</div>"
      ],
      "text/plain": [
       "  churn state  account_length      area_code international_plan  \\\n",
       "0    no    AK               1  area_code_408                 no   \n",
       "1    no    AK              36  area_code_408                 no   \n",
       "2   yes    AK              36  area_code_415                yes   \n",
       "3    no    AK              41  area_code_415                 no   \n",
       "4    no    AK              42  area_code_415                 no   \n",
       "5    no    AK              48  area_code_415                 no   \n",
       "6    no    AK              50  area_code_408                 no   \n",
       "7    no    AK              51  area_code_510                yes   \n",
       "8    no    AK              52  area_code_408                 no   \n",
       "9    no    AK              52  area_code_415                 no   \n",
       "\n",
       "  voice_mail_plan  number_vmail_messages  total_day_minutes  total_day_calls  \\\n",
       "0              no                      0              175.2               74   \n",
       "1             yes                     30              146.3              128   \n",
       "2             yes                     19              171.9               96   \n",
       "3              no                      0              159.3               66   \n",
       "4              no                      0              171.0              129   \n",
       "5             yes                     37              211.7              115   \n",
       "6              no                      0              183.6              107   \n",
       "7             yes                     12              135.8               60   \n",
       "8              no                      0              217.0              104   \n",
       "9             yes                     24              170.9               71   \n",
       "\n",
       "   total_day_charge  total_eve_minutes  total_eve_calls  total_eve_charge  \\\n",
       "0             29.78              151.7               79             12.89   \n",
       "1             24.87              162.5               80             13.81   \n",
       "2             29.22              198.4              111             16.86   \n",
       "3             27.08              125.9               75             10.70   \n",
       "4             29.07              183.9               96             15.63   \n",
       "5             35.99              159.9               84             13.59   \n",
       "6             31.21               58.6              118              4.98   \n",
       "7             23.09              200.6              134             17.05   \n",
       "8             36.89              152.3               83             12.95   \n",
       "9             29.05              201.4               80             17.12   \n",
       "\n",
       "   total_night_minutes  total_night_calls  total_night_charge  \\\n",
       "0                230.5                109               10.37   \n",
       "1                129.3                109                5.82   \n",
       "2                321.7                 76               14.48   \n",
       "3                261.9                 76               11.79   \n",
       "4                130.2                 90                5.86   \n",
       "5                144.1                 80                6.48   \n",
       "6                202.6                 99                9.12   \n",
       "7                192.4                 98                8.66   \n",
       "8                134.3                109                6.04   \n",
       "9                159.0                124                7.15   \n",
       "\n",
       "   total_intl_minutes  total_intl_calls  total_intl_charge  \\\n",
       "0                 5.3                 3               1.43   \n",
       "1                14.5                 6               3.92   \n",
       "2                10.5                 1               2.84   \n",
       "3                11.1                 5               3.00   \n",
       "4                 4.6                 6               1.24   \n",
       "5                12.2                 1               3.29   \n",
       "6                 8.7                 3               2.35   \n",
       "7                12.3                 7               3.32   \n",
       "8                11.8                 4               3.19   \n",
       "9                 4.1                 5               1.11   \n",
       "\n",
       "   number_customer_service_calls  \n",
       "0                              1  \n",
       "1                              0  \n",
       "2                              1  \n",
       "3                              1  \n",
       "4                              0  \n",
       "5                              1  \n",
       "6                              1  \n",
       "7                              2  \n",
       "8                              2  \n",
       "9                              2  "
      ]
     },
     "execution_count": 8,
     "metadata": {},
     "output_type": "execute_result"
    }
   ],
   "source": [
    "# designate target variable name\n",
    "targetName = 'churn'\n",
    "# move target variable into first column\n",
    "targetSeries = df[targetName]\n",
    "del df[targetName]\n",
    "df.insert(0, targetName, targetSeries)\n",
    "expected=targetName\n",
    "df.head(10)"
   ]
  },
  {
   "cell_type": "markdown",
   "metadata": {},
   "source": [
    "# EDA\n",
    "Just a touch of EDA. This is the distribution of the target. As you can see, the datset is imbalanced and the target class of interest \"yes\" is in the minority (a common occurance in classification)."
   ]
  },
  {
   "cell_type": "code",
   "execution_count": 9,
   "metadata": {},
   "outputs": [
    {
     "data": {
      "text/plain": [
<<<<<<< HEAD
       "<matplotlib.lines.Line2D at 0x1a14857908>"
=======
       "<matplotlib.lines.Line2D at 0x11534a4a8>"
>>>>>>> 3d58ec91039a81c3192d990fcf6fa9be263961e4
      ]
     },
     "execution_count": 9,
     "metadata": {},
     "output_type": "execute_result"
    },
    {
     "data": {
      "image/png": "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\n",
      "text/plain": [
<<<<<<< HEAD
       "<Figure size 432x288 with 1 Axes>"
=======
       "<matplotlib.figure.Figure at 0x11533f080>"
>>>>>>> 3d58ec91039a81c3192d990fcf6fa9be263961e4
      ]
     },
     "metadata": {},
     "output_type": "display_data"
    }
   ],
   "source": [
    "gb = df.groupby(targetName)\n",
    "targetEDA=gb[targetName].aggregate(len)\n",
    "plt.figure()\n",
    "targetEDA.plot(kind='bar', grid=False)\n",
    "plt.axhline(0, color='k')"
   ]
  },
  {
   "cell_type": "markdown",
   "metadata": {},
   "source": [
    "# Preprocessing\n",
    "The below two steps are for preprocessing. The first cell changes the yes/no of the target to numeric. I needed to do this as some models require the target to be numeric. The second cell takes all the category features and creates dummies with them. This is stock code I have used for long time (and I did not write it). It is nice because it will take any dataframe of any size and handle categorial features. I do not have to change a single line in it. It can be used generically on bascially any dataframe. Saves a lot of time of coding each feature."
   ]
  },
  {
   "cell_type": "code",
   "execution_count": 10,
   "metadata": {},
   "outputs": [],
   "source": [
    "from sklearn import preprocessing\n",
    "le_dep = preprocessing.LabelEncoder()\n",
    "#to convert into numbers\n",
    "df['churn'] = le_dep.fit_transform(df['churn'])"
   ]
  },
  {
   "cell_type": "code",
   "execution_count": 11,
   "metadata": {},
   "outputs": [],
   "source": [
    "# perform data transformation\n",
    "for col in df.columns[1:]:\n",
    "\tattName = col\n",
    "\tdType = df[col].dtype\n",
    "\tmissing = pd.isnull(df[col]).any()\n",
    "\tuniqueCount = len(df[attName].value_counts(normalize=False))\n",
    "\t# discretize (create dummies)\n",
    "\tif dType == object:\n",
    "\t\tdf = pd.concat([df, pd.get_dummies(df[col], prefix=col)], axis=1)\n",
    "\t\tdel df[attName]"
   ]
  },
  {
   "cell_type": "markdown",
   "metadata": {},
   "source": [
    "# Test/Train\n",
    "I split the data into a 60/40 train test. The features are stored in \"features_train\" and \"features_test\". The targets are in \"target_train\" and \"target_test\". I used a biggest test when I have an imbalanced set. "
   ]
  },
  {
   "cell_type": "code",
   "execution_count": 12,
   "metadata": {},
   "outputs": [],
   "source": [
    "# split dataset into testing and training\n",
    "features_train, features_test, target_train, target_test = train_test_split(\n",
    "    df.iloc[:,1:].values, df.iloc[:,0].values, test_size=0.40, random_state=0)"
   ]
  },
  {
   "cell_type": "markdown",
   "metadata": {},
   "source": [
    "Just a view of the size of each test/train set.\n",
    "Note there are now 73 features, and the test set is imbalanced (14.6%)"
   ]
  },
  {
   "cell_type": "code",
   "execution_count": 13,
   "metadata": {},
   "outputs": [
    {
     "name": "stdout",
     "output_type": "stream",
     "text": [
      "(2000, 73)\n",
      "(3000, 73)\n",
      "(2000,)\n",
      "(3000,)\n",
      "Percent of Target that is Yes 0.146\n"
     ]
    }
   ],
   "source": [
    "print(features_test.shape)\n",
    "print(features_train.shape)\n",
    "print(target_test.shape)\n",
    "print(target_train.shape)\n",
    "print(\"Percent of Target that is Yes\", target_test.mean())\n",
    "#data.groupby(['col1', 'col2'])"
   ]
  },
  {
   "cell_type": "markdown",
   "metadata": {},
   "source": [
    "# Models\n",
    "All the models are done in Sci-Kit Learn."
   ]
  },
  {
   "cell_type": "markdown",
   "metadata": {},
   "source": [
    "# Decision Tree\n",
    "I created a decision tree from the data. The accurancy of the model was 921%, while the test data classified at 92%. However notice that the \"yes\" class (the class I am interested in) only properly classified at 74% (specificity) and .71 (recall). That is so-so. Again, not uncommon with imbalanced data. "
   ]
  },
  {
   "cell_type": "code",
   "execution_count": 40,
   "metadata": {},
   "outputs": [
    {
     "name": "stdout",
     "output_type": "stream",
     "text": [
<<<<<<< HEAD
      "DT Accuracy Score 0.9265\n",
      "             precision    recall  f1-score   support\n",
      "\n",
      "  Fail = no       0.96      0.96      0.96      1708\n",
      " Fail = yes       0.75      0.74      0.75       292\n",
=======
      "DT Accuracy Score 0.9195\n",
      "             precision    recall  f1-score   support\n",
      "\n",
      "  Fail = no       0.95      0.95      0.95      1708\n",
      " Fail = yes       0.72      0.73      0.72       292\n",
>>>>>>> 3d58ec91039a81c3192d990fcf6fa9be263961e4
      "\n",
      "avg / total       0.93      0.93      0.93      2000\n",
      "\n"
     ]
    }
   ],
   "source": [
    "#Decision Tree train model\n",
    "from sklearn import tree \n",
    "clf = tree.DecisionTreeClassifier()\n",
    "clf = clf.fit(features_train, target_train)\n",
    "#DT test model\n",
    "target_predicted_dt = clf.predict(features_test)\n",
    "print(\"DT Accuracy Score\", accuracy_score(target_test, target_predicted_dt))\n",
    "# print classification report\n",
    "target_names = [\"Fail = no\", \"Fail = yes\"]\n",
    "print(classification_report(target_test, target_predicted_dt, target_names=target_names))"
   ]
  },
  {
   "cell_type": "markdown",
   "metadata": {},
   "source": [
    "# Cross Validation of Decision Tree\n",
    "I cross validated with 10 repeats. You can see the OOB score for each repeat and the mean. The mean is .92, which is quite close to the orginal model. I am not going to worry about over fitting."
   ]
  },
  {
   "cell_type": "code",
   "execution_count": 41,
   "metadata": {},
   "outputs": [
    {
     "name": "stdout",
     "output_type": "stream",
     "text": [
<<<<<<< HEAD
      "Cross Validation Score for each K [0.9269103  0.90365449 0.93687708 0.93355482 0.90697674 0.93311037\n",
      " 0.93311037 0.92307692 0.9264214  0.90635452]\n"
=======
      "Cross Validation Score for each K [ 0.92026578  0.90365449  0.9269103   0.93687708  0.92358804  0.94648829\n",
      "  0.9264214   0.93311037  0.93311037  0.91638796]\n"
>>>>>>> 3d58ec91039a81c3192d990fcf6fa9be263961e4
     ]
    },
    {
     "data": {
      "text/plain": [
<<<<<<< HEAD
       "0.9230047000522228"
=======
       "0.92668140757119521"
>>>>>>> 3d58ec91039a81c3192d990fcf6fa9be263961e4
      ]
     },
     "execution_count": 41,
     "metadata": {},
     "output_type": "execute_result"
    }
   ],
   "source": [
    "#verify DT with Cross Validation\n",
    "scores = cross_val_score(clf, features_train, target_train, cv=10)\n",
    "print(\"Cross Validation Score for each K\",scores)\n",
    "scores.mean()                             "
   ]
  },
  {
   "cell_type": "markdown",
   "metadata": {},
   "source": [
    "#Visual of Confusion Matrix for Decision Tree"
   ]
  },
  {
   "cell_type": "code",
   "execution_count": 42,
   "metadata": {
    "scrolled": true
   },
   "outputs": [
    {
     "name": "stdout",
     "output_type": "stream",
     "text": [
<<<<<<< HEAD
      "[[1637   71]\n",
      " [  76  216]]\n"
=======
      "[[1627   81]\n",
      " [  80  212]]\n"
>>>>>>> 3d58ec91039a81c3192d990fcf6fa9be263961e4
     ]
    },
    {
     "data": {
<<<<<<< HEAD
      "image/png": "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\n",
      "text/plain": [
       "<Figure size 288x288 with 2 Axes>"
=======
      "image/png": "iVBORw0KGgoAAAANSUhEUgAAARMAAAD0CAYAAAC4n8I2AAAABHNCSVQICAgIfAhkiAAAAAlwSFlz\nAAALEgAACxIB0t1+/AAAGERJREFUeJzt3Xm0HGWZx/HvjwQSAgGFoEIIBjHAIEeQbRCPDA4KqAiO\nZ1QUXBkRVEbEDQQHdFw4o4P7BoJBUQRRxgygEXEQ8bAFZItAAJHNAAFkERSSe5/5431bmsu93dXd\n1bduV/8+nDp0V1VXvdW5/fS7dT2KCMzMerVa1QUws3pwMDGzUjiYmFkpHEzMrBQOJmZWCgcTMyuF\ng4mZlcLBpGKS1pT0v5IekvSjHo6zv6RflFm2qkh6qaQbqy6HdUaetFaMpDcDhwNbAo8AVwGfjoiL\nejzuW4BDgV0iYlXPBZ3iJAWwICJurrosVq7pVRdgEEg6HDgCOBhYDDwB7AnsA/QUTIDnAsuGIZAU\nIWn6ML0Xe75srbj/gZFC+15xzeOLI2KvPhepexHhpcUCrAv8BXh9i31mAF8E/pSXLwIz8rbdgDuB\nDwL3AsuBd+RtnyAFppX5HAcCxwKnNh17PhDA9Pz87cAfSLWjW4H9m9Zf1PS6XYDLgYfy/3dp2nYB\n8J/Ab/NxfgHMmeDaGuX/SFP5Xwu8ClgGPAB8rGn/nYCLgQfzvl8F1sjbLszX8mi+3jc2Hf+jwN3A\n9xrr8ms2y+fYLj/fCFgB7Fb130YZy3YvnBErl29WaAGWFPh7PTn/O103Zv2hwA3AUuC/mtYfCdwM\n3Ajs2bR+e+DavO3L5FZMq8V9Ju29GJgJnNVin6OAnYFtgW1IH6ijm7Y/hxSU5pICxtckPTMijgE+\nA5weEWtHxEmtCiJpLdI/7CsjYjYpYFw1zn7rAefkfdcHjgfOkbR+025vBt4BPAtYA/hQi1M/h/Qe\nzAX+AzgROID0B/dS4OOSNs37jgAfAOaQ3rvdgfcARMSueZ9t8vWe3nT89Ui1tIOaTxwRt5ACzamS\nZgHfAU6JiAtalHeABCMxWmgpaCHwlNqLpJcB+5Le9xcAn8/rtwL2A16QX/N1SdPyy74BvAtYkJe2\nNSIHk/bWB+6L1lXv/YFPRsS9EbGCVON4S9P2lXn7yog4l/StvEWX5RkFtpa0ZkQsj4il4+zzauCm\niPheRKyKiNNI30qvadrnOxGxLCL+CpxBCoQTWUnqH1oJ/JAUKL4UEY/k8/+eFESJiCsi4pJ83j8C\n3wL+qcA1HRMRj+fyPEVEnEj6hrwU2JAUvGshgFGi0FLoeBEXkmpyzQ4BjouIx/M+9+b1+wI/zO/7\nraT3eCdJGwLr5H/HAL5Lqo225GDS3v3AHEmt+pc2Am5ren5bXvf3Y4wJRo8Ba3dakIh4lNQ0OBhY\nLukcSVsWKE+jTHObnt/dQXnuj4hGw77xYb+naftfG6+XtLmksyXdLelhUs1rTotjA6yIiL+12edE\nYGvgK40PRV2MFvyP9He4pGk5qN2xs82Bl0q6VNKvJe2Y188F7mja7868bm5+PHZ9Sw4m7V0MPE7r\nyPwnUhW9YZO8rhuPArOanj+neWNELI6IV5C+oW8gfcjaladRpru6LFMnvkEq14KIWAf4GKA2r2n5\ntStpbVI/1EnAsbkZVwtBMBLFFlINeYem5YSCp5lOakbuDHwYOENSu3+TjjmYtBERD5H6Cb4m6bWS\nZklaXdLRkh6QdDPpW/9oSRtImpP3P7XLU14F7CppE0nrkjrIAJD0bEn75r6Tx0nNpfEa0+cCm0t6\ns6Tpkt4IbAWc3WWZOjEbeBj4S641HTJm+z3A8woc55mS7pV0HfAlUufjv5H6gr5ZZoGrVmYzZwJ3\nAj+J5DLS38wc0pfLvKb9Ns7r7sqPx65vycGkgIj4b9Ick6NJIwl3kD7kB5E+pHNIIyzXkHrArwQ+\n1eW5zgNOz8e6gqcGgNVyOf5Eahf/E0//sBIR9wN7k0aQ7ieNxOwdEfd1U6YOfYjUufsIqdZ0+pjt\nxwKnSHpQ0htaHOdRUqff7Pz/xnUeDmwnaf8yC12VAEaIQksP/gd4GaRmKKnD/T5gEbCfpBm5A30B\ncFlELAcelrRzrsG8Ffhpu5N40loXJL0YODYi9szPjwSIiM9WWrCakTQfODsitq64KH2zzTZrxOJz\n23UpJRtuvPyKiNih1T6STiMNrc8h1QKPIQ23n0zqZH8C+FBE/CrvfxTwTmAVcFhE/Cyv34E0MrQm\n8DPg0GgTLDxprTvjdVz9Y0VlsQFXeNC3gIh40wSbDphg/08Dnx5n/RJSh3dhDiZmFYremzBThoNJ\ndybquDLrTMBIPWKJO2C7dDmwQNKmktYgzSJcVHGZbAClSWvFlqnOwaQLeQLa+0g/+rseOGOCmajW\npdyReDGwhaQ7JR1YdZn6Q4wUXKY6N3O6lKfFn1t1OeqqRUdirQQwWpNmjoOJWYUCeKImDQQHE7OK\njcbUb8IU4WBiVqE0A9bBxMx6FIiRmjRz6nEVFengJ+DWpWF4j0dDhZapzsGkN7X/Q58Cav0eN5o5\nHho2sx6JkajHd/qUCiZz1psW8+etXnUxCttk7nR22GbmQM0SWHbNrPY7TSEzmcU6Wm+g3uO/8ShP\nxOOFqhIBrGRa2/0GwZQKJvPnrc5li+e139G6tudGrW71amW4NM4vvG+EayZmVpLRAegPKcLBxKxC\nqQPWNRMz65mbOWZWgnQLAgcTM+tRIJ6Ieozm1CMkmg2w0Vit0FKEpJObUoSM3fZBSZHTsTTWHSnp\nZkk3Stqzaf32kq7N275cJM+Og4lZhRodsEWWghYyTl5gSfOAPYDbm9Y517BZXQRiJIothY43fq5h\ngC+Q8ic1TwAsNdew+0zMKtbvDlhJ+wJ3RcTVY1orc4FLmp43cgqvpItcww4mZhWKoJOh4TmSljQ9\nP6FdvmFJs0j5nvfosoiFOZiYVUqdzIC9r11Gv3FsBmwKNGolGwNXStqJknMNO5iYVSiAJ6J/H8OI\nuBZ4VuO5pD8CO0TEfZIWAT+QdDywEU/mGh6R9LCknYFLSbmGv9LuXO6ANatQUOzGSEVvjtRJipCc\nnuUM4PfAz4H3RsRI3vwe4NukTtlbSPmGW3LNxKxiZf42p12KkIiYP+a5cw2b1UHKm1OPBoKDiVml\nBuOWjEU4mJhVyDUTMyuNayZm1rMIsXK0Hh/DelyF2YBK9zNxzcTMeuY7rZlZCVIHrGsmZlYC31Da\nzHrWmE5fBw4mZhXzDaXNrGcRsHLUwcTMepSaOQ4mZlYCz4A1s555aNjMSuJmjpmVxNPpzaxn6e70\nDiZm1qNArBqtR65hBxOzitWlmVOPnh+zAdUYzSnx7vRPS1wu6XOSbpB0jaSzJD2jaZsTl5vVxWis\nVmgpaCFPTzJ+HrB1RLwQWAYcCU5cblYvBWslRWsm4yUuj4hfRMSq/PQSnszW58TlZnVRwZ3W3gmc\nnh87cblZnXQwA7bjxOXNJB0FrAK+30HxCnMwMatQAKuK/2q4m8TlAEh6O7A3sHtuukDJicv72mci\naa/cS3yzpCP6eS6zQVR2ruHxSNoL+AiwT0Q81rRpEbCfpBmSNuXJxOXLgYcl7ZxHcd4K/LTdefpW\nM8m9wl8DXkFqc10uaVFE/L5f5zQbRGX2meTE5buRmkR3AseQRm9mAOflEd5LIuLgiFgqqZG4fBVP\nT1y+EFiTlLS80sTlOwE3R8QfACT9kNR77GBi1hDl/mp4gsTlJ7XYv7TE5f1s5swF7mh6Pm6PsKSD\nJC2RtGTF/SNjN5vVWtmT1qpU+TyTiDghInaIiB02WL8ev1Ew60Rdgkk/mzkT9RSbWRaIkZrcA7af\nV3E5sEDSppLWIE3bXdTH85kNpFFUaJnq+lYziYhVkt4HLAamASdHxNJ+nc9sEEXJHbBV6uuktYg4\nFzi3n+cwG3ThYGJmvRuMztUiHEzMKuaaiZn1zKkuzKwcvqG0mZUhcDPHzErhDlgzK8nf7y4y4BxM\nzCrmZo6Z9SzCwcTMSuI+EzMrxeiog4mZ9SiQmzlmVo6aDOY4mJhVqkYdsPW4xZPZIIuCSwETJC5f\nT9J5km7K/39m07b+Jy6XtE6rpdilmVk7ESq0FLSQpycZPwI4PyIWAOfn56UnLm/VzFlKiofNV9F4\nHsAm7Q5uZu2VOQM2Ii6UNH/M6n1JuXQATgEuAD5KU+Jy4FZJjcTlfyQnLgeQ1Ehc3jJ3zoTBJCLm\nTbTNzMoRAdH/G0o/O2fpA7gbeHZ+XGri8kJXIWk/SR/LjzeWtH2R15lZe2kWbPuFnLi8aTmo83NF\nBz0wnWk7miPpq8DqwK7AZ4DHgG8CO/ajQGZDp/hHu9vE5fdI2jAilkvaELg3r5/0xOW7RMS7gb8B\nRMQDwBoFXmdmbRXrfO1x+HgR8Lb8+G08mYR80hOXr5S0Gjl+SlofGO3oUsxsYiU2OiZIXH4ccIak\nA4HbgDcAVJG4/GvAj4ENJH0iF+QTRS/OzFooedLaBInLAXafYP/SEpe3DSYR8V1JVwAvz6teHxHX\ntXqNmXWgJvPpi06nn0YaLgo8a9asXMMynV7SUcBpwEakXt0fSDqy3wUzGxolTqevUpGayVuBF0XE\nYwCSPg38DvhsPwtmNhSC2tRMigST5WP2m57XmVkJan9DaUlfIMXNB4Clkhbn53sAl09O8cyGQN2D\nCdAYsVkKnNO0/pJx9jWzbtW9mRMRJ01mQcyGUoBqMgW0yG9zNiNNatkKmNlYHxGb97FcZkNCtamZ\nFJkzshD4Duk+Jq8EzgBO72OZzIZLTYaGiwSTWRGxGCAibomIo0lBxczKUJNgUmRo+PH8Q79bJB1M\n+iny7P4Wy2yIDECgKKJIMPkAsBbw76S+k3WBd/azUGZDY5gmrUXEpfnhI8Bb+lscs+GjutdMJJ1F\niwpYRLyuLyUyGzZ1DybAVyetFNmya2ax50bbTvZph8r0eRu338l6ortX72z/ugeTiDh/MgtiNrSG\npc/EzPpoQIZ9i3AwMavasAUTSTNy5i8zK1Fd+kyK3GltJ0nXAjfl59tI+krfS2Y2LMpNXP4BSUsl\nXSfpNEkzu0lc3o0i0+m/DOwN3A8QEVcDL+vlpGaWKP9quMjS9ljSXNLk0h0iYmvSvZv3o7vE5R0r\nEkxWi4jbxqwbGXdPM+tcqNhSzHRgTUnTgVnAn0gJyk/J208hJSGHpsTlEXErcDOwU7eXUSSY3CFp\nJyAkTZN0GLCs2xOa2RjFmzktcw1HxF3A54HbSbdWfSgifkHrxOV3NB2iUILyiRTpgD2E1NTZBLgH\n+GVeZ2Yl6KADtmWu4dwXsi+wKfAg8CNJBzTvExEh9afLt8hvc+4ltavMrB/K+2i/HLg1IlYASPoJ\nsAudJy7vSpE7rZ3IOJcbEQeNs7uZdSJKHRq+HdhZ0izgr6SUoEuAR0kJy4/j6YnLfyDpeFJerAXA\nZd2evEgz55dNj2cC/8JT21lm1ouSgklEXCrpTOBKUiLy3wEnAGvTeeLyjhVp5jzlFo2Svgdc1O0J\nzeypyryhdEQcAxwzZvXjdJi4vBvd5A3elCd7g83MgGJ9Jn/myYrYaqSkXEf0s1BmQ6Um0+lbBhNJ\nArbhyR7e0Yi6JDM0mwLK7YCtVMtmTg4c50bESF5qctlmU0hN7k5fpM/kKkkv6ntJzIZVTYJJq3vA\nTo+IVcCLgMsl3UIarxap0rLdJJXRrLZEfZo5rfpMLgO2A/aZpLKYDZ8hyTUsSFn8JqksZsNpCGom\nG0g6fKKNEXF8H8pjNnyGIJhMI03Drcets82mqGHoM1keEZ+ctJKYDashCCaukZj124AM+xbRKpiM\n+8MgMytX7UdzIuKBySyI2bAahj4TM5sMDiZm1rMh6TMxsz4T9RnpcDAxq5prJmZWBnfAmlk5ajI0\n3M09YM2sLPlOa0WWIiQ9Q9KZkm6QdL2kF0+lxOVm1k/l3hzpS8DPI2JL0i1Xr2cKJS43sz4qq2Yi\naV1gV+AkgIh4IiIeZAolLjezfiopcTkpDc0K4DuSfifp25LWYgolLjezPiorcTnp87wdcGjO7vcl\nxqSl6WfictdMzKpUtFZS7ON/J3BnRFyan59JCi735ITl9DNxuYOJWYVE+tVwkaWdiLgbuEPSFnnV\n7qQ8wotICcvh6YnL95M0Q9KmTELicjPrp3IbHYcC35e0BvAH4B2kSkP1icu7JelkYG/g3ojYul/n\nMRt0KjG3XURcBYzXrzIlE5cXtZA0dm1mEym3z6RSfauZRMSFkub36/hmdeHf5pQkj5UfBDCTWRWX\nxqwCDibliIgTgBMA1tF6NXlbzYpzzcTMejck6UHNbDLUpGbSt9EcSacBFwNbSLozj3GbWRNR7i0I\nqtTP0Zw39evYZrVS4jyTKrmZY1axQah1FOFgYlalAZmQVoSDiVnFPJpjZqVwMDGz3gXugDWzcrgD\n1szK4WBiZr1qTFqrAwcTsypFuM/EzMrh0RwzK4WbOWbWuwBG6xFNnOrCrGol3wNW0rSc0e/s/NyJ\ny82GQR9uQfB+UsLyBicuNxsKjRGddksBkjYGXg18u2m1E5ebDYMOaibtEpcDfBH4CNA8RuTE5WZ1\npwAV74BtmbhcUiPp3RWSdhtvn34mLncwMataefNMXgLsI+lVwExgHUmnkhOXR8RyJy43qzFFFFra\niYgjI2LjiJhP6lj9VUQcgBOXmw2BybnT2nEMcuJyMyuiP7/NiYgLgAvy4/uZhMTlDiZmFfN0ejMr\nh381bGY9C9CIg4mZlaEescTBxKxqRYZ9B4GDiVnVHEzMrGdBmTNgK+VgYlYhUWx26yBwMDGrmoOJ\nmfUsAA8Nm1kZ3Mwxs3I4mJhZ75yEy8zKEDiYmFlJPM/EzMrgDlgz610AI/WomjiYmFXKHbB98Qh/\nvu+XceZtVZejA3OA+6ouREdur7oAHRu89xie29HeDibli4gNqi5DJyQtaZXHxHo3FO9xTYKJU12Y\nVSmA0Si2tCFpnqT/k/R7SUslvT+vd+Jys/oLiNFiS3urgA9GxFbAzsB7c3JyJy4fACdUXYAhUO/3\nuDGaU2Rpd6iI5RFxZX78CHA9KXewE5dPdRHR8g9d0oikqyRdJ+lHkmZ1ey5Ju0k6Oz/eR9IRLfZ9\nhqT3dHGOYyV9qOj6MfsslPSvHZxrvqTr2u3X7j2uhYhiS7HE5UB6f4EXAZfixOW18NeI2BZA0veB\ng4HjGxslCVBEsTpsQ0QsIqV2nMgzgPcAX++4xDb5infAtkxc3iBpbeDHwGER8XD6M2ucqn+Jy10z\nmTy/AZ6fv5FvlPRd4DpgnqQ9JF0s6cpcg1kbQNJekm6QdCXwusaBJL1d0lfz42dLOkvS1XnZhZQO\ncrNcK/pc3u/Dki6XdI2kTzQd6yhJyyRdBGzR7iIkvSsf52pJPx5T23p5/sZcJmnvvP80SZ9rOve7\ne30j66VgraRgwJG0OimQfD8ifpJX35MTluPE5QNO0nTglcC1edUC4OsR8QLgUeBo4OURsR2wBDhc\n0kzgROA1wPbAcyY4/JeBX0fENsB2wFJSB9stEbFtRHxY0h75nDsB2wLbS9pV0vakDrhtgVcBOxa4\nnJ9ExI75fNcDBzZtm5/P8Wrgm/kaDgQeiogd8/HflZNkG+TRnNFiSxu5pnsScH1EHN+0yYnLa2BN\nSVflx78h/UNvBNwWEZfk9TsDWwG/zdXRNYCLgS2BWyPiJgBJpwLjtZH/GXgrQE46/VDz0F+2R15+\nl5+vTfrDmQ2cFRGP5XO0ajo1bC3pU6Sm1NrA4qZtZ+Qm202S/pCvYQ/ghU39Kevmcy8rcK7hUN48\nk5cAbwGubfq7+xhOXF4Lf+8zacgB49HmVcB5EfGmMfs95XU9EvDZiPjWmHMc1sWxFgKvjYirJb0d\n2K1p29hPReRzHxoRzUGn0UFoUFowiYiLSO/3ePqeuNzNnOpdArxE0vMBJK0laXPgBmC+pM3yfm+a\n4PXnA4fk106TtC7wCKnW0bAYeGdTX8xcSc8CLgReK2lNSbNJTap2ZgPLc9t8/zHbXi9ptVzm5wE3\n5nMfkvdH0uaS1ipwnuEQQYyMFFqmOtdMKhYRK/I3/GmSZuTVR0fEsjz0d46kx0jNpNnjHOL9wAm5\nCjsCHBIRF0v6bR56/VnuN/kH4OJcM/oLcEBEXCnpdOBqUqfc5QWK/HHScOOK/P/mMt1OanOvAxwc\nEX+T9G1SX8qVuU2/gifnORgUmt06CBQ1+V2A2SBad/oG8eLZ+xbad/GDJ10xlX+n5JqJWZUiCo3U\nDAIHE7Oq1aR14GBiVrFwzcTMeuc7rZlZGQIYgGHfIhxMzCoUQNRkaNjBxKxKEUVvfDTlOZiYVawu\nNRNPWjOrkKSfk+7AX8R9EbFXP8vTCwcTMyuFf+hnZqVwMDGzUjiYmFkpHEzMrBQOJmZWCgcTMyuF\ng4mZlcLBxMxK4WBiZqX4fyr8UGVatl09AAAAAElFTkSuQmCC\n",
      "text/plain": [
       "<matplotlib.figure.Figure at 0x11354b8d0>"
>>>>>>> 3d58ec91039a81c3192d990fcf6fa9be263961e4
      ]
     },
     "metadata": {},
     "output_type": "display_data"
    }
   ],
   "source": [
    "# display confusion matrix\n",
    "cm = confusion_matrix(target_test, target_predicted_dt)\n",
    "plt.matshow(cm)\n",
    "plt.title('Confusion matrix')\n",
    "plt.colorbar()\n",
    "plt.ylabel('True label')\n",
    "plt.xlabel('Predicted label')\n",
    "print(cm)"
   ]
  },
  {
   "cell_type": "markdown",
   "metadata": {},
   "source": [
    "#Random Forest\n",
    "Using the same data, I built a random forest with 500 bootstrapped trees. Notice I parallelized this to 4 cores as big random forest can be computationally expensive. \n",
    "\n",
    "My overall results went up by 3% over the decision tree. Also, my minory target precision, but the recall decresed.  "
   ]
  },
  {
   "cell_type": "code",
   "execution_count": 43,
   "metadata": {},
   "outputs": [
    {
     "name": "stdout",
     "output_type": "stream",
     "text": [
      "0.952\n",
      "             precision    recall  f1-score   support\n",
      "\n",
      " Churn = no       0.95      1.00      0.97      1708\n",
<<<<<<< HEAD
      "Churn = yes       0.97      0.69      0.81       292\n",
      "\n",
      "avg / total       0.95      0.95      0.95      2000\n",
      "\n",
      "[[1702    6]\n",
      " [  90  202]]\n"
=======
      "Churn = yes       0.97      0.70      0.81       292\n",
      "\n",
      "avg / total       0.95      0.95      0.95      2000\n",
      "\n",
      "[[1701    7]\n",
      " [  89  203]]\n"
>>>>>>> 3d58ec91039a81c3192d990fcf6fa9be263961e4
     ]
    }
   ],
   "source": [
    "# train random forest model\n",
    "#paralleized to 4 cores \n",
    "from sklearn.ensemble import RandomForestClassifier\n",
    "rf = RandomForestClassifier(n_estimators= 500, n_jobs=-1,oob_score=True)\n",
    "rf.fit(features_train, target_train)\n",
    "# test random forest model\n",
    "target_predicted_rf = rf.predict(features_test)\n",
    "print(accuracy_score(target_test, target_predicted_rf))\n",
    "target_names = [\"Churn = no\", \"Churn = yes\"]\n",
    "print(classification_report(target_test, target_predicted_rf, target_names=target_names))\n",
    "print(confusion_matrix(target_test, target_predicted_rf))\n"
   ]
  },
  {
   "cell_type": "markdown",
   "metadata": {},
   "source": [
    "#Cross Validation of Random Forest\n",
    "I cross validated with 10 repeats. You can see the OOB score for each repeat and the mean. The mean is .949, which is quite close to the orginal model. I am not going to worry about over fitting."
   ]
  },
  {
   "cell_type": "code",
   "execution_count": 44,
   "metadata": {},
   "outputs": [
    {
     "name": "stdout",
     "output_type": "stream",
     "text": [
<<<<<<< HEAD
      "Cross Validation Score for each K [0.94684385 0.94684385 0.94684385 0.95681063 0.93687708 0.95652174\n",
      " 0.95317726 0.94983278 0.94648829 0.95652174]\n"
=======
      "Cross Validation Score for each K [ 0.94352159  0.94019934  0.94352159  0.95681063  0.93687708  0.94983278\n",
      "  0.94983278  0.94983278  0.94314381  0.95652174]\n"
>>>>>>> 3d58ec91039a81c3192d990fcf6fa9be263961e4
     ]
    },
    {
     "data": {
      "text/plain": [
<<<<<<< HEAD
       "0.9496761075123057"
=======
       "0.94700941121568027"
>>>>>>> 3d58ec91039a81c3192d990fcf6fa9be263961e4
      ]
     },
     "execution_count": 44,
     "metadata": {},
     "output_type": "execute_result"
    }
   ],
   "source": [
    "#verify RF with cross validation\n",
    "scores_rf = cross_val_score(rf, features_train, target_train, cv=10, n_jobs=-1)\n",
    "print(\"Cross Validation Score for each K\",scores_rf)\n",
    "scores_rf.mean()"
   ]
  },
  {
   "cell_type": "markdown",
   "metadata": {},
   "source": [
    "# Visual of Confusion Matrix for Random Forest"
   ]
  },
  {
   "cell_type": "code",
   "execution_count": 45,
   "metadata": {
    "scrolled": true
   },
   "outputs": [
    {
     "name": "stdout",
     "output_type": "stream",
     "text": [
      "[[1702    6]\n",
      " [  90  202]]\n"
     ]
    },
    {
     "data": {
      "image/png": "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\n",
      "text/plain": [
       "<Figure size 288x288 with 2 Axes>"
      ]
     },
     "metadata": {},
     "output_type": "display_data"
    }
   ],
   "source": [
    "# display confusion matrix\n",
    "cm = confusion_matrix(target_test, target_predicted_rf)\n",
    "plt.matshow(cm)\n",
    "plt.title('Confusion matrix')\n",
    "plt.colorbar()\n",
    "plt.ylabel('True label')\n",
    "plt.xlabel('Predicted label')\n",
    "print(cm)"
   ]
  },
  {
   "cell_type": "markdown",
   "metadata": {},
   "source": [
    "# Hyperparameter Tuning\n",
    "You can tune any argument in these models. I did a grid search only on max_features (mtry in R). I parallelized the job to 4 cores for speed. You can see that max_features (mtry) of 5 had the best results. But frankly was very little difference from the other parameter results."
   ]
  },
  {
   "cell_type": "code",
<<<<<<< HEAD
   "execution_count": 46,
=======
   "execution_count": 17,
>>>>>>> 3d58ec91039a81c3192d990fcf6fa9be263961e4
   "metadata": {},
   "outputs": [
    {
     "name": "stdout",
     "output_type": "stream",
     "text": [
<<<<<<< HEAD
      "Time to run 3.0776480000000106 seconds\n",
      "{'mean_fit_time': array([2.6433893 , 2.78828835, 2.72281671, 1.85389837]), 'std_fit_time': array([0.00331923, 0.00197388, 0.54499868, 0.06993878]), 'mean_score_time': array([0.21772464, 0.31341306, 0.21311998, 0.20418167]), 'std_score_time': array([0.00830129, 0.00430767, 0.00878911, 0.00101163]), 'param_max_features': masked_array(data=[2, 3, 4, 5],\n",
      "             mask=[False, False, False, False],\n",
      "       fill_value='?',\n",
      "            dtype=object), 'params': [{'max_features': 2}, {'max_features': 3}, {'max_features': 4}, {'max_features': 5}], 'split0_test_score': array([0.88211788, 0.89110889, 0.90709291, 0.91308691]), 'split1_test_score': array([0.895, 0.908, 0.921, 0.928]), 'split2_test_score': array([0.88988989, 0.9019019 , 0.91691692, 0.92592593]), 'mean_test_score': array([0.889     , 0.90033333, 0.915     , 0.92233333]), 'std_test_score': array([0.00529786, 0.00698597, 0.00583825, 0.00659764]), 'rank_test_score': array([4, 3, 2, 1], dtype=int32), 'split0_train_score': array([1., 1., 1., 1.]), 'split1_train_score': array([1., 1., 1., 1.]), 'split2_train_score': array([1., 1., 1., 1.]), 'mean_train_score': array([1., 1., 1., 1.]), 'std_train_score': array([0., 0., 0., 0.])}\n"
=======
      "Time to run 3.6882099999999998 seconds\n",
      "{'split0_test_score': array([ 0.88011988,  0.89010989,  0.9020979 ,  0.90909091]), 'split1_test_score': array([ 0.894,  0.909,  0.919,  0.928]), 'split2_test_score': array([ 0.89289289,  0.9039039 ,  0.91791792,  0.92592593]), 'mean_test_score': array([ 0.889,  0.901,  0.913,  0.921]), 'std_test_score': array([ 0.00630013,  0.00798201,  0.00772736,  0.00846973]), 'rank_test_score': array([4, 3, 2, 1], dtype=int32), 'split0_train_score': array([ 1.,  1.,  1.,  1.]), 'split1_train_score': array([ 1.,  1.,  1.,  1.]), 'split2_train_score': array([ 1.,  1.,  1.,  1.]), 'mean_train_score': array([ 1.,  1.,  1.,  1.]), 'std_train_score': array([ 0.,  0.,  0.,  0.]), 'mean_fit_time': array([ 3.39331937,  3.65042162,  3.81190022,  3.66277281]), 'std_fit_time': array([ 0.13094076,  0.2608817 ,  0.21933537,  0.14806462]), 'mean_score_time': array([ 0.42837167,  0.34965277,  0.39610044,  0.2399536 ]), 'std_score_time': array([ 0.07504435,  0.04994216,  0.05566358,  0.05015319]), 'param_max_features': masked_array(data = [2 3 4 5],\n",
      "             mask = [False False False False],\n",
      "       fill_value = ?)\n",
      ", 'params': ({'max_features': 2}, {'max_features': 3}, {'max_features': 4}, {'max_features': 5})}\n"
>>>>>>> 3d58ec91039a81c3192d990fcf6fa9be263961e4
     ]
    }
   ],
   "source": [
    "# use a full grid over all parameters\n",
    "param_grid = {\"max_features\": [2, 3, 4, 5]}\n",
    "start_time = time.clock()\n",
    "\n",
    "# run grid search\n",
    "grid_search = GridSearchCV(rf, param_grid=param_grid,n_jobs=-1)\n",
    "\n",
    "grid_search.fit(features_train, target_train)\n",
    "\n",
    "print(\"Time to run\", time.clock() - start_time, \"seconds\")\n",
    "print(grid_search.cv_results_)\n"
   ]
  },
  {
   "cell_type": "markdown",
   "metadata": {},
   "source": [
    "# KNN\n",
    "I performed KNN on K=3 and K=5. For both K's the accurancy was 85% and 87% respectively and I still have problems with the minority class. KNN and Decision Tree perform about the same. I find this to be true frequently, which is why I use them as my base comparative models. "
   ]
  },
  {
   "cell_type": "markdown",
   "metadata": {},
   "source": [
    "# More Details\n",
    "Now that we know our random forest was the best model of the three I ran, I will gather some other information. Below is a non-ordered list of feature importance. I only showed 20 for purposes of space."
   ]
  },
  {
   "cell_type": "code",
<<<<<<< HEAD
   "execution_count": 31,
   "metadata": {},
   "outputs": [
    {
     "ename": "SyntaxError",
     "evalue": "unexpected EOF while parsing (<ipython-input-31-49b97d212344>, line 4)",
     "output_type": "error",
     "traceback": [
      "\u001b[0;36m  File \u001b[0;32m\"<ipython-input-31-49b97d212344>\"\u001b[0;36m, line \u001b[0;32m4\u001b[0m\n\u001b[0;31m    \u001b[0m\n\u001b[0m    ^\u001b[0m\n\u001b[0;31mSyntaxError\u001b[0m\u001b[0;31m:\u001b[0m unexpected EOF while parsing\n"
=======
   "execution_count": 27,
   "metadata": {},
   "outputs": [
    {
     "name": "stdout",
     "output_type": "stream",
     "text": [
      "Features sorted by their score:\n",
      "Higher the more important\n",
      "[(0.12839999999999999, 'total_day_charge'), (0.12740000000000001, 'total_day_minutes'), (0.10009999999999999, 'number_customer_service_calls'), (0.055, 'total_eve_minutes'), (0.054800000000000001, 'total_eve_charge'), (0.047, 'total_intl_calls'), (0.042500000000000003, 'total_intl_minutes'), (0.040399999999999998, 'total_intl_charge'), (0.036799999999999999, 'total_night_minutes'), (0.036799999999999999, 'total_night_charge'), (0.0327, 'account_length'), (0.0298, 'total_night_calls'), (0.029600000000000001, 'total_day_calls'), (0.028500000000000001, 'total_eve_calls'), (0.016799999999999999, 'number_vmail_messages'), (0.002, 'state_AZ'), (0.0019, 'state_AR'), (0.00069999999999999999, 'state_AL'), (0.00069999999999999999, 'state_AK')]\n"
>>>>>>> 3d58ec91039a81c3192d990fcf6fa9be263961e4
     ]
    }
   ],
   "source": [
<<<<<<< HEAD
    "#Show importance of each feature in Random Forest\n",
    "print(zip(df.columns[1:20], rf.feature_importances_)\n",
    "\n",
    "             "
   ]
  },
  {
   "cell_type": "code",
   "execution_count": 35,
   "metadata": {},
   "outputs": [
    {
     "name": "stdout",
     "output_type": "stream",
     "text": [
      "Variable: number_vmail_messages Importance: 0.13\n",
      "Variable: total_day_calls      Importance: 0.12\n",
      "Variable: total_intl_charge    Importance: 0.1\n",
      "Variable: total_day_charge     Importance: 0.06\n",
      "Variable: total_eve_calls      Importance: 0.05\n",
      "Variable: total_intl_minutes   Importance: 0.05\n",
      "Variable: total_eve_charge     Importance: 0.04\n",
      "Variable: total_night_calls    Importance: 0.04\n",
      "Variable: total_night_charge   Importance: 0.04\n",
      "Variable: total_intl_calls     Importance: 0.04\n",
      "Variable: area_code_area_code_510 Importance: 0.04\n",
      "Variable: churn                Importance: 0.03\n",
      "Variable: total_day_minutes    Importance: 0.03\n",
      "Variable: total_eve_minutes    Importance: 0.03\n",
      "Variable: total_night_minutes  Importance: 0.03\n",
      "Variable: international_plan_no Importance: 0.03\n",
      "Variable: account_length       Importance: 0.02\n",
      "Variable: area_code_area_code_408 Importance: 0.01\n",
      "Variable: area_code_area_code_415 Importance: 0.01\n",
      "Variable: international_plan_yes Importance: 0.01\n",
      "Variable: voice_mail_plan_no   Importance: 0.01\n",
      "Variable: number_customer_service_calls Importance: 0.0\n",
      "Variable: state_AK             Importance: 0.0\n",
      "Variable: state_AL             Importance: 0.0\n",
      "Variable: state_AR             Importance: 0.0\n",
      "Variable: state_AZ             Importance: 0.0\n",
      "Variable: state_CA             Importance: 0.0\n",
      "Variable: state_CO             Importance: 0.0\n",
      "Variable: state_CT             Importance: 0.0\n",
      "Variable: state_DC             Importance: 0.0\n",
      "Variable: state_DE             Importance: 0.0\n",
      "Variable: state_FL             Importance: 0.0\n",
      "Variable: state_GA             Importance: 0.0\n",
      "Variable: state_HI             Importance: 0.0\n",
      "Variable: state_IA             Importance: 0.0\n",
      "Variable: state_ID             Importance: 0.0\n",
      "Variable: state_IL             Importance: 0.0\n",
      "Variable: state_IN             Importance: 0.0\n",
      "Variable: state_KS             Importance: 0.0\n",
      "Variable: state_KY             Importance: 0.0\n",
      "Variable: state_LA             Importance: 0.0\n",
      "Variable: state_MA             Importance: 0.0\n",
      "Variable: state_MD             Importance: 0.0\n",
      "Variable: state_ME             Importance: 0.0\n",
      "Variable: state_MI             Importance: 0.0\n",
      "Variable: state_MN             Importance: 0.0\n",
      "Variable: state_MO             Importance: 0.0\n",
      "Variable: state_MS             Importance: 0.0\n",
      "Variable: state_MT             Importance: 0.0\n",
      "Variable: state_NC             Importance: 0.0\n",
      "Variable: state_ND             Importance: 0.0\n",
      "Variable: state_NE             Importance: 0.0\n",
      "Variable: state_NH             Importance: 0.0\n",
      "Variable: state_NJ             Importance: 0.0\n",
      "Variable: state_NM             Importance: 0.0\n",
      "Variable: state_NV             Importance: 0.0\n",
      "Variable: state_NY             Importance: 0.0\n",
      "Variable: state_OH             Importance: 0.0\n",
      "Variable: state_OK             Importance: 0.0\n",
      "Variable: state_OR             Importance: 0.0\n",
      "Variable: state_PA             Importance: 0.0\n",
      "Variable: state_RI             Importance: 0.0\n",
      "Variable: state_SC             Importance: 0.0\n",
      "Variable: state_SD             Importance: 0.0\n",
      "Variable: state_TN             Importance: 0.0\n",
      "Variable: state_TX             Importance: 0.0\n",
      "Variable: state_UT             Importance: 0.0\n",
      "Variable: state_VA             Importance: 0.0\n",
      "Variable: state_VT             Importance: 0.0\n",
      "Variable: state_WA             Importance: 0.0\n",
      "Variable: state_WI             Importance: 0.0\n",
      "Variable: state_WV             Importance: 0.0\n",
      "Variable: state_WY             Importance: 0.0\n"
     ]
    }
   ],
   "source": [
    "#print(rf.feature_importances_)\n",
    "# Get numerical feature importances\n",
    "importances = list(rf.feature_importances_)\n",
    "# List of tuples with variable and importance\n",
    "feature_list = list(df.columns)\n",
    "feature_importances = [(feature, round(importance, 2)) for feature, importance in zip(feature_list, importances)]\n",
    "# Sort the feature importances by most important first\n",
    "feature_importances = sorted(feature_importances, key = lambda x: x[1], reverse = True)\n",
    "# Print out the feature and importances \n",
    "[print('Variable: {:20} Importance: {}'.format(*pair)) for pair in feature_importances];"
=======
    "print(\"Features sorted by their score:\")\n",
    "print(\"Higher the more important\")\n",
    "print(sorted(zip(map(lambda x: round(x, 4), rf.feature_importances_),df.columns[1:20]), \n",
    "             reverse=True))"
>>>>>>> 3d58ec91039a81c3192d990fcf6fa9be263961e4
   ]
  },
  {
   "cell_type": "markdown",
   "metadata": {},
   "source": [
    "# ROC curve for Random Forest\n",
    "Finally a ROC curve that shows the lift I get from the Random Forest model. "
   ]
  },
  {
   "cell_type": "code",
   "execution_count": 36,
   "metadata": {},
   "outputs": [
    {
     "name": "stdout",
     "output_type": "stream",
     "text": [
<<<<<<< HEAD
      "ROC AUC: 0.918\n"
=======
      "ROC AUC: 0.921\n"
>>>>>>> 3d58ec91039a81c3192d990fcf6fa9be263961e4
     ]
    },
    {
     "data": {
<<<<<<< HEAD
      "image/png": "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\n",
      "text/plain": [
       "<Figure size 432x288 with 1 Axes>"
=======
      "image/png": "iVBORw0KGgoAAAANSUhEUgAAAYoAAAEWCAYAAAB42tAoAAAABHNCSVQICAgIfAhkiAAAAAlwSFlz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\nrkJggg==\n",
      "text/plain": [
       "<matplotlib.figure.Figure at 0x119044b38>"
>>>>>>> 3d58ec91039a81c3192d990fcf6fa9be263961e4
      ]
     },
     "metadata": {},
     "output_type": "display_data"
    }
   ],
   "source": [
    "# Determine the false positive and true positive rates\n",
    "fpr, tpr, _ = roc_curve(target_test, rf.predict_proba(features_test)[:,1]) \n",
    "    \n",
    "# Calculate the AUC\n",
    "roc_auc = auc(fpr, tpr)\n",
    "print('ROC AUC: %0.3f' % roc_auc)\n",
    " \n",
    "# Plot of a ROC curve for a specific class\n",
    "plt.figure()\n",
    "plt.plot(fpr, tpr, label='ROC curve (area = %0.3f)' % roc_auc)\n",
    "plt.plot([0, 1], [0, 1], 'k--')\n",
    "plt.xlim([0.0, 1.0])\n",
    "plt.ylim([0.0, 1.05])\n",
    "plt.xlabel('False Positive Rate')\n",
    "plt.ylabel('True Positive Rate')\n",
    "plt.title('ROC Curve')\n",
    "plt.legend(loc=\"lower right\")\n",
    "plt.show()"
   ]
  },
  {
   "cell_type": "markdown",
   "metadata": {
    "collapsed": true
   },
   "source": [
    "Random Forest does the best, but I still am not getting the accurancy on my target class of interest. I have a few tricks I can do to work on this, but that is for another day/class."
   ]
  },
  {
   "cell_type": "markdown",
   "metadata": {},
   "source": [
    "# SUPPORT VECTOR MACHINES"
   ]
  },
  {
   "cell_type": "markdown",
   "metadata": {},
   "source": [
    "linear SVM with L2 penalty, Cost function of 1 and auto class weight. "
   ]
  },
  {
   "cell_type": "code",
<<<<<<< HEAD
   "execution_count": 47,
=======
   "execution_count": 21,
>>>>>>> 3d58ec91039a81c3192d990fcf6fa9be263961e4
   "metadata": {},
   "outputs": [
    {
     "name": "stdout",
     "output_type": "stream",
     "text": [
      "             precision    recall  f1-score   support\n",
      "\n",
<<<<<<< HEAD
      "         No       0.86      1.00      0.92      1708\n",
      "        Yes       0.72      0.06      0.11       292\n",
      "\n",
      "avg / total       0.84      0.86      0.81      2000\n",
      "\n",
      "[[1701    7]\n",
      " [ 274   18]]\n",
      "0.8595\n"
=======
      "         No       0.88      0.96      0.92      1708\n",
      "        Yes       0.52      0.22      0.31       292\n",
      "\n",
      "avg / total       0.83      0.86      0.83      2000\n",
      "\n",
      "[[1648   60]\n",
      " [ 227   65]]\n",
      "0.8565\n"
>>>>>>> 3d58ec91039a81c3192d990fcf6fa9be263961e4
     ]
    }
   ],
   "source": [
    "from sklearn.svm import LinearSVC\n",
    "clf_linSVC=LinearSVC(penalty='l2', loss='squared_hinge', dual=True, tol=0.0001, C=1.0, class_weight='balanced')\n",
    "clf_linSVC.fit(features_train, target_train)\n",
    "predicted_SVC=clf_linSVC.predict(features_test)\n",
    "expected = target_test\n",
    "# summarize the fit of the model\n",
    "print(classification_report(expected, predicted_SVC,target_names=['No', 'Yes']))\n",
    "print(confusion_matrix(expected, predicted_SVC))\n",
    "print(accuracy_score(expected,predicted_SVC))"
   ]
  },
  {
   "cell_type": "markdown",
   "metadata": {},
   "source": [
    "# SVC kernel= linear\n",
    "# Change Class_Weight"
   ]
  },
  {
   "cell_type": "code",
<<<<<<< HEAD
   "execution_count": 48,
=======
   "execution_count": 22,
>>>>>>> 3d58ec91039a81c3192d990fcf6fa9be263961e4
   "metadata": {},
   "outputs": [
    {
     "name": "stdout",
     "output_type": "stream",
     "text": [
      "             precision    recall  f1-score   support\n",
      "\n",
      "         No       0.86      1.00      0.92      1708\n",
      "        Yes       1.00      0.01      0.02       292\n",
      "\n",
      "avg / total       0.88      0.86      0.79      2000\n",
      "\n",
      "[[1708    0]\n",
      " [ 289    3]]\n",
      "0.8555\n",
<<<<<<< HEAD
      "83.69648900000001 seconds\n"
=======
      "148.145937 seconds\n"
>>>>>>> 3d58ec91039a81c3192d990fcf6fa9be263961e4
     ]
    }
   ],
   "source": [
    "start_time = time.clock()\n",
    "from sklearn.svm import SVC\n",
    "#standard linear SVC\n",
    "clf_lin = SVC(kernel='linear', C=1.0,class_weight=None,gamma='auto')\n",
    "clf_lin.fit(features_train, target_train)\n",
    "predicted_SVM=clf_lin.predict(features_test)\n",
    "expected = target_test\n",
    "# summarize the fit of the model\n",
    "print(classification_report(expected, predicted_SVM,target_names=['No', 'Yes']))\n",
    "print(confusion_matrix(expected, predicted_SVM))\n",
    "print(accuracy_score(expected,predicted_SVM))\n",
    "print(time.clock() - start_time, \"seconds\")"
   ]
  },
  {
   "cell_type": "code",
<<<<<<< HEAD
   "execution_count": 49,
=======
   "execution_count": 23,
>>>>>>> 3d58ec91039a81c3192d990fcf6fa9be263961e4
   "metadata": {},
   "outputs": [
    {
     "name": "stdout",
     "output_type": "stream",
     "text": [
      "             precision    recall  f1-score   support\n",
      "\n",
      "         No       0.96      0.74      0.84      1708\n",
      "        Yes       0.35      0.80      0.49       292\n",
      "\n",
      "avg / total       0.87      0.75      0.79      2000\n",
      "\n",
      "[[1271  437]\n",
      " [  57  235]]\n",
      "0.753\n",
<<<<<<< HEAD
      "Time to run 76.20107399999995 seconds\n"
=======
      "Time to run 141.223871 seconds\n"
>>>>>>> 3d58ec91039a81c3192d990fcf6fa9be263961e4
     ]
    }
   ],
   "source": [
    "start_time = time.clock()\n",
    "from sklearn.svm import SVC\n",
    "#standard linear SVC\n",
    "clf_lin = SVC(kernel='linear', C=1.0,class_weight='balanced',gamma='auto')\n",
    "clf_lin.fit(features_train, target_train)\n",
    "predicted_SVM=clf_lin.predict(features_test)\n",
    "expected = target_test\n",
    "# summarize the fit of the model\n",
    "print(classification_report(expected, predicted_SVM,target_names=['No', 'Yes']))\n",
    "print(confusion_matrix(expected, predicted_SVM))\n",
    "print(accuracy_score(expected,predicted_SVM))\n",
    "print(\"Time to run\", time.clock() - start_time, \"seconds\")"
   ]
  },
  {
   "cell_type": "markdown",
   "metadata": {},
   "source": [
    "# Grid Search of Cost Function (with cross validation)"
   ]
  },
  {
   "cell_type": "markdown",
   "metadata": {},
   "source": [
    "# This take a long time to run"
   ]
  },
  {
   "cell_type": "code",
   "execution_count": 24,
   "metadata": {},
   "outputs": [
    {
     "name": "stdout",
     "output_type": "stream",
     "text": [
      "SCORES {'split0_test_score': array([ 0.86166667,  0.86166667,  0.86166667,  0.86666667,  0.86666667,\n",
      "        0.87      ,  0.86666667]), 'split1_test_score': array([ 0.86166667,  0.86166667,  0.86166667,  0.87666667,  0.88      ,\n",
      "        0.87833333,  0.875     ]), 'split2_test_score': array([ 0.86166667,  0.86166667,  0.86333333,  0.865     ,  0.87166667,\n",
      "        0.86833333,  0.87833333]), 'split3_test_score': array([ 0.86166667,  0.86166667,  0.86166667,  0.87      ,  0.87      ,\n",
      "        0.87      ,  0.87333333]), 'split4_test_score': array([ 0.86166667,  0.86166667,  0.86166667,  0.87166667,  0.875     ,\n",
      "        0.87166667,  0.87166667]), 'mean_test_score': array([ 0.86166667,  0.86166667,  0.862     ,  0.87      ,  0.87266667,\n",
      "        0.87166667,  0.873     ]), 'std_test_score': array([ 0.        ,  0.        ,  0.00066667,  0.00408248,  0.00454606,\n",
      "        0.00349603,  0.00385861]), 'rank_test_score': array([6, 6, 5, 4, 2, 3, 1], dtype=int32), 'split0_train_score': array([ 0.86166667,  0.86166667,  0.86208333,  0.87458333,  0.87833333,\n",
      "        0.88541667,  0.88      ]), 'split1_train_score': array([ 0.86166667,  0.86166667,  0.8625    ,  0.87375   ,  0.87791667,\n",
      "        0.88      ,  0.87833333]), 'split2_train_score': array([ 0.86166667,  0.86166667,  0.86208333,  0.87208333,  0.87458333,\n",
      "        0.87666667,  0.88041667]), 'split3_train_score': array([ 0.86166667,  0.86166667,  0.86625   ,  0.87708333,  0.87958333,\n",
      "        0.87833333,  0.87958333]), 'split4_train_score': array([ 0.86166667,  0.86166667,  0.86208333,  0.8725    ,  0.87708333,\n",
      "        0.87666667,  0.87958333]), 'mean_train_score': array([ 0.86166667,  0.86166667,  0.863     ,  0.874     ,  0.8775    ,\n",
      "        0.87941667,  0.87958333]), 'std_train_score': array([ 0.        ,  0.        ,  0.00163299,  0.00177951,  0.00166667,\n",
      "        0.00324465,  0.00069722]), 'mean_fit_time': array([  33.1759726 ,   66.23090143,  213.15018587,  380.70834494,\n",
      "        524.98431983,  694.51413894,  508.80119486]), 'std_fit_time': array([   8.16556865,    8.12025939,   38.30606259,   86.1358593 ,\n",
      "        119.34603882,   69.36155813,   55.02453727]), 'mean_score_time': array([ 0.05828543,  0.08076515,  0.07719703,  0.05405555,  0.05418458,\n",
      "        0.04460754,  0.03677874]), 'std_score_time': array([ 0.0094737 ,  0.02897304,  0.0166671 ,  0.00839968,  0.00656458,\n",
      "        0.00138574,  0.00485135]), 'param_C': masked_array(data = [0.01 0.05 1 3 4 9 10],\n",
      "             mask = [False False False False False False False],\n",
      "       fill_value = ?)\n",
      ", 'params': ({'C': 0.01}, {'C': 0.05}, {'C': 1}, {'C': 3}, {'C': 4}, {'C': 9}, {'C': 10})}\n",
      "BEST SCORE 0.873\n",
      "BEST PARAM {'C': 10}\n",
      "Time to run 266.23299099999997 seconds\n"
     ]
    }
   ],
   "source": [
    "start_time = time.clock()\n",
    "from sklearn.svm import SVC\n",
    "parameters = {'C':[.01,.05,1,3,4,9,10]}\n",
    "svr = SVC(kernel='linear')\n",
    "grid_svm = GridSearchCV(svr, parameters,n_jobs=-1, cv=5)\n",
    "grid_svm.fit(features_train, target_train)\n",
    "print(\"SCORES\", grid_svm.cv_results_)\n",
    "print(\"BEST SCORE\", grid_svm.best_score_)\n",
    "print(\"BEST PARAM\", grid_svm.best_params_)\n",
    "print(\"Time to run\", time.clock() - start_time, \"seconds\")"
   ]
  },
  {
   "cell_type": "markdown",
   "metadata": {},
   "source": [
    "# Grid Search of Several Functions (with cross validation)"
   ]
  },
  {
   "cell_type": "markdown",
   "metadata": {},
   "source": [
    "# This take a long time to run"
   ]
  },
  {
   "cell_type": "code",
   "execution_count": 25,
   "metadata": {},
   "outputs": [
    {
     "name": "stdout",
     "output_type": "stream",
     "text": [
      "SCORES {'split0_test_score': array([ 0.86166667,  0.86166667,  0.86166667,  0.86166667,  0.86166667,\n",
      "        0.86166667,  0.86666667,  0.86166667,  0.86833333,  0.86166667,\n",
      "        0.86666667,  0.86166667]), 'split1_test_score': array([ 0.86166667,  0.86166667,  0.86166667,  0.86166667,  0.86166667,\n",
      "        0.86166667,  0.87666667,  0.86166667,  0.87666667,  0.86166667,\n",
      "        0.875     ,  0.86166667]), 'split2_test_score': array([ 0.86166667,  0.86166667,  0.86166667,  0.86166667,  0.86333333,\n",
      "        0.86166667,  0.865     ,  0.86166667,  0.875     ,  0.86166667,\n",
      "        0.87833333,  0.86166667]), 'split3_test_score': array([ 0.86166667,  0.86166667,  0.86166667,  0.86166667,  0.86166667,\n",
      "        0.86166667,  0.87      ,  0.86166667,  0.87      ,  0.86166667,\n",
      "        0.87333333,  0.86166667]), 'split4_test_score': array([ 0.86166667,  0.86166667,  0.86166667,  0.86166667,  0.86166667,\n",
      "        0.86166667,  0.87166667,  0.86166667,  0.86833333,  0.86166667,\n",
      "        0.87166667,  0.86166667]), 'mean_test_score': array([ 0.86166667,  0.86166667,  0.86166667,  0.86166667,  0.862     ,\n",
      "        0.86166667,  0.87      ,  0.86166667,  0.87166667,  0.86166667,\n",
      "        0.873     ,  0.86166667]), 'std_test_score': array([ 0.        ,  0.        ,  0.        ,  0.        ,  0.00066667,\n",
      "        0.        ,  0.00408248,  0.        ,  0.00349603,  0.        ,\n",
      "        0.00385861,  0.        ]), 'rank_test_score': array([5, 5, 5, 5, 4, 5, 3, 5, 2, 5, 1, 5], dtype=int32), 'split0_train_score': array([ 0.86166667,  0.86166667,  0.86166667,  0.86166667,  0.86208333,\n",
      "        1.        ,  0.87458333,  1.        ,  0.88041667,  1.        ,\n",
      "        0.88      ,  1.        ]), 'split1_train_score': array([ 0.86166667,  0.86166667,  0.86166667,  0.86166667,  0.8625    ,\n",
      "        1.        ,  0.87375   ,  1.        ,  0.87541667,  1.        ,\n",
      "        0.87833333,  1.        ]), 'split2_train_score': array([ 0.86166667,  0.86166667,  0.86166667,  0.86166667,  0.86208333,\n",
      "        1.        ,  0.87208333,  1.        ,  0.8775    ,  1.        ,\n",
      "        0.88041667,  1.        ]), 'split3_train_score': array([ 0.86166667,  0.86166667,  0.86166667,  0.86166667,  0.86625   ,\n",
      "        1.        ,  0.87708333,  1.        ,  0.8775    ,  1.        ,\n",
      "        0.87958333,  1.        ]), 'split4_train_score': array([ 0.86166667,  0.86166667,  0.86166667,  0.86166667,  0.86208333,\n",
      "        1.        ,  0.8725    ,  1.        ,  0.87791667,  1.        ,\n",
      "        0.87958333,  1.        ]), 'mean_train_score': array([ 0.86166667,  0.86166667,  0.86166667,  0.86166667,  0.863     ,\n",
      "        1.        ,  0.874     ,  1.        ,  0.87775   ,  1.        ,\n",
      "        0.87958333,  1.        ]), 'std_train_score': array([ 0.        ,  0.        ,  0.        ,  0.        ,  0.00163299,\n",
      "        0.        ,  0.00177951,  0.        ,  0.00159426,  0.        ,\n",
      "        0.00069722,  0.        ]), 'mean_fit_time': array([  4.29884591e+00,   2.43650770e-01,   2.85779255e+01,\n",
      "         8.75129223e-01,   1.90644154e+02,   1.25355458e+00,\n",
      "         3.49244402e+02,   1.26186185e+00,   6.13488852e+02,\n",
      "         1.40192966e+00,   6.48751199e+02,   1.30650640e+00]), 'std_fit_time': array([  3.36102468e-01,   8.15791935e-03,   6.10380707e+00,\n",
      "         1.90550798e-02,   3.24188307e+01,   2.03612348e-01,\n",
      "         8.05295138e+01,   1.41700249e-01,   1.19988587e+02,\n",
      "         2.37741059e-01,   7.67014264e+01,   2.47129951e-01]), 'mean_score_time': array([ 0.04644732,  0.0546402 ,  0.04702029,  0.20572   ,  0.06775775,\n",
      "        0.26946521,  0.06266141,  0.22204838,  0.06104636,  0.25040255,\n",
      "        0.04347506,  0.24092751]), 'std_score_time': array([ 0.00123402,  0.00441186,  0.00054383,  0.00630749,  0.03088439,\n",
      "        0.07383523,  0.013546  ,  0.01717785,  0.0133976 ,  0.0310762 ,\n",
      "        0.00485017,  0.04115427]), 'param_C': masked_array(data = [0.001 0.001 0.01 0.01 1 1 3 3 5 5 10 10],\n",
      "             mask = [False False False False False False False False False False False False],\n",
      "       fill_value = ?)\n",
      ", 'param_kernel': masked_array(data = ['linear' 'rbf' 'linear' 'rbf' 'linear' 'rbf' 'linear' 'rbf' 'linear' 'rbf'\n",
      " 'linear' 'rbf'],\n",
      "             mask = [False False False False False False False False False False False False],\n",
      "       fill_value = ?)\n",
      ", 'params': ({'C': 0.001, 'kernel': 'linear'}, {'C': 0.001, 'kernel': 'rbf'}, {'C': 0.01, 'kernel': 'linear'}, {'C': 0.01, 'kernel': 'rbf'}, {'C': 1, 'kernel': 'linear'}, {'C': 1, 'kernel': 'rbf'}, {'C': 3, 'kernel': 'linear'}, {'C': 3, 'kernel': 'rbf'}, {'C': 5, 'kernel': 'linear'}, {'C': 5, 'kernel': 'rbf'}, {'C': 10, 'kernel': 'linear'}, {'C': 10, 'kernel': 'rbf'})}\n",
      "BEST Estm SVC(C=10, cache_size=200, class_weight=None, coef0=0.0,\n",
      "  decision_function_shape=None, degree=3, gamma='auto', kernel='linear',\n",
      "  max_iter=-1, probability=False, random_state=None, shrinking=True,\n",
      "  tol=0.001, verbose=False)\n",
      "BEST SCORE 0.873\n",
      "BEST PARAM {'C': 10, 'kernel': 'linear'}\n",
      "Time to run 263.3796080000001 seconds\n"
     ]
    }
   ],
   "source": [
    "start_time = time.clock()\n",
    "from sklearn.svm import SVC\n",
    "parameters = {'kernel':('linear', 'rbf'), 'C':[.001,.01,1,3,5,10]}\n",
    "svr = SVC()\n",
    "grid_svm = GridSearchCV(svr, parameters,n_jobs=-1, cv=5)\n",
    "grid_svm.fit(features_train, target_train)\n",
    "print(\"SCORES\", grid_svm.cv_results_)\n",
    "print(\"BEST Estm\",grid_svm.best_estimator_) \n",
    "print(\"BEST SCORE\",grid_svm.best_score_)\n",
    "print(\"BEST PARAM\", grid_svm.best_params_)\n",
    "print(\"Time to run\", time.clock() - start_time, \"seconds\")"
   ]
  },
  {
   "cell_type": "markdown",
   "metadata": {},
   "source": [
    "# How does \"Best\" perform?"
   ]
  },
  {
   "cell_type": "code",
<<<<<<< HEAD
   "execution_count": 50,
=======
   "execution_count": 26,
>>>>>>> 3d58ec91039a81c3192d990fcf6fa9be263961e4
   "metadata": {},
   "outputs": [
    {
     "name": "stdout",
     "output_type": "stream",
     "text": [
      "             precision    recall  f1-score   support\n",
      "\n",
      "         No       0.95      0.71      0.82      1708\n",
      "        Yes       0.32      0.79      0.46       292\n",
      "\n",
      "avg / total       0.86      0.73      0.76      2000\n",
      "\n",
      "[[1221  487]\n",
      " [  62  230]]\n",
      "0.7255\n",
<<<<<<< HEAD
      "Time to run 506.522747 seconds\n"
=======
      "Time to run 729.06263 seconds\n"
>>>>>>> 3d58ec91039a81c3192d990fcf6fa9be263961e4
     ]
    }
   ],
   "source": [
    "start_time = time.clock()\n",
    "from sklearn.svm import SVC\n",
    "#standard linear SVC\n",
    "clf_lin = SVC(kernel='linear', C=10.0,class_weight='balanced',gamma='auto')\n",
    "clf_lin.fit(features_train, target_train)\n",
    "predicted_SVM=clf_lin.predict(features_test)\n",
    "expected = target_test\n",
    "# summarize the fit of the model\n",
    "print(classification_report(expected, predicted_SVM,target_names=['No', 'Yes']))\n",
    "print(confusion_matrix(expected, predicted_SVM))\n",
    "print(accuracy_score(expected,predicted_SVM))\n",
    "print(\"Time to run\", time.clock() - start_time, \"seconds\")"
   ]
  },
  {
   "cell_type": "markdown",
   "metadata": {},
   "source": [
    "# SVM using a RBF (non-linear) Kernel (High dimensional Space). Untuned."
   ]
  },
  {
   "cell_type": "code",
   "execution_count": 28,
   "metadata": {},
   "outputs": [
    {
     "name": "stdout",
     "output_type": "stream",
     "text": [
      "             precision    recall  f1-score   support\n",
      "\n",
      "         No       0.85      1.00      0.92      1708\n",
      "        Yes       0.00      0.00      0.00       292\n",
      "\n",
      "avg / total       0.73      0.85      0.79      2000\n",
      "\n",
      "[[1708    0]\n",
      " [ 292    0]]\n",
      "0.854\n",
      "Time to run 1.439623999999867 seconds\n"
     ]
    },
    {
     "name": "stderr",
     "output_type": "stream",
     "text": [
      "/Users/mpgartland/anaconda/lib/python3.6/site-packages/sklearn/metrics/classification.py:1113: UndefinedMetricWarning: Precision and F-score are ill-defined and being set to 0.0 in labels with no predicted samples.\n",
      "  'precision', 'predicted', average, warn_for)\n"
     ]
    }
   ],
   "source": [
    "start_time = time.clock()\n",
    "from sklearn.svm import SVC\n",
    "#standard linear SVC\n",
    "clf_rbf = SVC(kernel='rbf', C=1.0, degree=3, class_weight='balanced',gamma=0.1)\n",
    "clf_rbf.fit(features_train, target_train)\n",
    "predicted_rbf=clf_rbf.predict(features_test)\n",
    "expected = target_test\n",
    "# summarize the fit of the model\n",
    "print(classification_report(expected, predicted_rbf,target_names=['No', 'Yes']))\n",
    "print(confusion_matrix(expected, predicted_rbf))\n",
    "print(accuracy_score(expected,predicted_rbf))\n",
    "print(\"Time to run\", time.clock() - start_time, \"seconds\")"
   ]
  },
  {
   "cell_type": "markdown",
   "metadata": {},
   "source": [
    "# SVM using Polynominal Kernel (2nd Degree), untuned.\n",
    "Would not fit at 2nd and 3rd degree given 24 hours"
   ]
  },
  {
   "cell_type": "markdown",
   "metadata": {},
   "source": [
    "from sklearn.svm import SVC\n",
    "#standard linear SVC\n",
    "clf_poly = SVC(kernel='poly', degree=2, C=1.0,class_weight=None)\n",
    "clf_poly.fit(features_train, target_train)\n",
    "predicted_poly=clf_poly.predict(features_test)\n",
    "expected = target_test\n",
    "#summarize the fit of the model\n",
    "print(classification_report(expected, predicted_poly,target_names=['No', 'Yes']))\n",
    "print(confusion_matrix(expected, predicted_poly))\n",
    "print accuracy_score(expected,predicted_poly)"
   ]
  },
  {
   "cell_type": "code",
   "execution_count": null,
   "metadata": {
    "collapsed": true
   },
   "outputs": [],
   "source": []
  }
 ],
 "metadata": {
  "kernelspec": {
   "display_name": "Python 3",
   "language": "python",
   "name": "python3"
  },
  "language_info": {
   "codemirror_mode": {
    "name": "ipython",
    "version": 3
   },
   "file_extension": ".py",
   "mimetype": "text/x-python",
   "name": "python",
   "nbconvert_exporter": "python",
   "pygments_lexer": "ipython3",
   "version": "3.6.5"
  }
 },
 "nbformat": 4,
 "nbformat_minor": 1
}

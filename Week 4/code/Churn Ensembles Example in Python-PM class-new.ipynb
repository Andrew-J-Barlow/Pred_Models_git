{
 "cells": [
  {
   "cell_type": "markdown",
   "metadata": {},
   "source": [
    "# Ensembles, Tuning and CV\n"
   ]
  },
  {
   "cell_type": "markdown",
   "metadata": {},
   "source": [
    "Like R, Python uses packages in data mining/machine learning. The 3 mose common ones are Pandas (manipulation), Scikit Learn (machine learning) and Matplotlit (graphics)."
   ]
  },
  {
   "cell_type": "code",
   "execution_count": 28,
   "metadata": {},
   "outputs": [
    {
     "data": {
      "text/plain": [
<<<<<<< HEAD
       "'/Users/mylesgartland/OneDrive - Rockhurst University/Courses/Predictive Models/Pred_Models_git/Week 4/code'"
=======
       "'/Users/mpgartland/Documents/Courses/Predictive Models/Pred_Models_git/Week 4'"
>>>>>>> 3d58ec91039a81c3192d990fcf6fa9be263961e4
      ]
     },
     "execution_count": 28,
     "metadata": {},
     "output_type": "execute_result"
    }
   ],
   "source": [
    "%matplotlib inline \n",
    "import numpy as np\n",
    "import matplotlib.pyplot as plt\n",
    "import pandas as pd\n",
    "from sklearn import preprocessing\n",
    "from sklearn.model_selection import train_test_split, cross_val_score, KFold, GridSearchCV\n",
    "from sklearn.metrics import accuracy_score, precision_score, recall_score, f1_score\n",
    "from sklearn.metrics import roc_curve, auc, confusion_matrix, classification_report\n",
    "import time\n",
    "from operator import itemgetter\n",
    "import os\n",
    "os.getcwd()"
   ]
  },
  {
   "cell_type": "code",
<<<<<<< HEAD
   "execution_count": 4,
=======
   "execution_count": 29,
>>>>>>> 3d58ec91039a81c3192d990fcf6fa9be263961e4
   "metadata": {},
   "outputs": [
    {
     "name": "stdout",
     "output_type": "stream",
     "text": [
      "/Users/mylesgartland/OneDrive - Rockhurst University/Courses/Predictive Models/Pred_Models_git/Week 4\n"
     ]
    }
   ],
   "source": [
    "cd '/Users/mylesgartland/OneDrive - Rockhurst University/Courses/Predictive Models/Pred_Models_git/Week 4'"
   ]
  },
  {
   "cell_type": "markdown",
   "metadata": {},
   "source": [
    "# Read in Data\n",
    "# Churn Calls Data\n",
    "This is a Pandas operation."
   ]
  },
  {
   "cell_type": "code",
   "execution_count": 5,
   "metadata": {},
   "outputs": [
    {
     "data": {
      "text/html": [
       "<div>\n",
       "<style scoped>\n",
       "    .dataframe tbody tr th:only-of-type {\n",
       "        vertical-align: middle;\n",
       "    }\n",
       "\n",
       "    .dataframe tbody tr th {\n",
       "        vertical-align: top;\n",
       "    }\n",
       "\n",
       "    .dataframe thead th {\n",
       "        text-align: right;\n",
       "    }\n",
       "</style>\n",
       "<table border=\"1\" class=\"dataframe\">\n",
       "  <thead>\n",
       "    <tr style=\"text-align: right;\">\n",
       "      <th></th>\n",
       "      <th>state</th>\n",
       "      <th>account_length</th>\n",
       "      <th>area_code</th>\n",
       "      <th>international_plan</th>\n",
       "      <th>voice_mail_plan</th>\n",
       "      <th>number_vmail_messages</th>\n",
       "      <th>total_day_minutes</th>\n",
       "      <th>total_day_calls</th>\n",
       "      <th>total_day_charge</th>\n",
       "      <th>total_eve_minutes</th>\n",
       "      <th>total_eve_calls</th>\n",
       "      <th>total_eve_charge</th>\n",
       "      <th>total_night_minutes</th>\n",
       "      <th>total_night_calls</th>\n",
       "      <th>total_night_charge</th>\n",
       "      <th>total_intl_minutes</th>\n",
       "      <th>total_intl_calls</th>\n",
       "      <th>total_intl_charge</th>\n",
       "      <th>number_customer_service_calls</th>\n",
       "      <th>churn</th>\n",
       "    </tr>\n",
       "  </thead>\n",
       "  <tbody>\n",
       "    <tr>\n",
       "      <th>0</th>\n",
       "      <td>AK</td>\n",
       "      <td>1</td>\n",
       "      <td>area_code_408</td>\n",
       "      <td>no</td>\n",
       "      <td>no</td>\n",
       "      <td>0</td>\n",
       "      <td>175.2</td>\n",
       "      <td>74</td>\n",
       "      <td>29.78</td>\n",
       "      <td>151.7</td>\n",
       "      <td>79</td>\n",
       "      <td>12.89</td>\n",
       "      <td>230.5</td>\n",
       "      <td>109</td>\n",
       "      <td>10.37</td>\n",
       "      <td>5.3</td>\n",
       "      <td>3</td>\n",
       "      <td>1.43</td>\n",
       "      <td>1</td>\n",
       "      <td>no</td>\n",
       "    </tr>\n",
       "    <tr>\n",
       "      <th>1</th>\n",
       "      <td>AK</td>\n",
       "      <td>36</td>\n",
       "      <td>area_code_408</td>\n",
       "      <td>no</td>\n",
       "      <td>yes</td>\n",
       "      <td>30</td>\n",
       "      <td>146.3</td>\n",
       "      <td>128</td>\n",
       "      <td>24.87</td>\n",
       "      <td>162.5</td>\n",
       "      <td>80</td>\n",
       "      <td>13.81</td>\n",
       "      <td>129.3</td>\n",
       "      <td>109</td>\n",
       "      <td>5.82</td>\n",
       "      <td>14.5</td>\n",
       "      <td>6</td>\n",
       "      <td>3.92</td>\n",
       "      <td>0</td>\n",
       "      <td>no</td>\n",
       "    </tr>\n",
       "    <tr>\n",
       "      <th>2</th>\n",
       "      <td>AK</td>\n",
       "      <td>36</td>\n",
       "      <td>area_code_415</td>\n",
       "      <td>yes</td>\n",
       "      <td>yes</td>\n",
       "      <td>19</td>\n",
       "      <td>171.9</td>\n",
       "      <td>96</td>\n",
       "      <td>29.22</td>\n",
       "      <td>198.4</td>\n",
       "      <td>111</td>\n",
       "      <td>16.86</td>\n",
       "      <td>321.7</td>\n",
       "      <td>76</td>\n",
       "      <td>14.48</td>\n",
       "      <td>10.5</td>\n",
       "      <td>1</td>\n",
       "      <td>2.84</td>\n",
       "      <td>1</td>\n",
       "      <td>yes</td>\n",
       "    </tr>\n",
       "    <tr>\n",
       "      <th>3</th>\n",
       "      <td>AK</td>\n",
       "      <td>41</td>\n",
       "      <td>area_code_415</td>\n",
       "      <td>no</td>\n",
       "      <td>no</td>\n",
       "      <td>0</td>\n",
       "      <td>159.3</td>\n",
       "      <td>66</td>\n",
       "      <td>27.08</td>\n",
       "      <td>125.9</td>\n",
       "      <td>75</td>\n",
       "      <td>10.70</td>\n",
       "      <td>261.9</td>\n",
       "      <td>76</td>\n",
       "      <td>11.79</td>\n",
       "      <td>11.1</td>\n",
       "      <td>5</td>\n",
       "      <td>3.00</td>\n",
       "      <td>1</td>\n",
       "      <td>no</td>\n",
       "    </tr>\n",
       "    <tr>\n",
       "      <th>4</th>\n",
       "      <td>AK</td>\n",
       "      <td>42</td>\n",
       "      <td>area_code_415</td>\n",
       "      <td>no</td>\n",
       "      <td>no</td>\n",
       "      <td>0</td>\n",
       "      <td>171.0</td>\n",
       "      <td>129</td>\n",
       "      <td>29.07</td>\n",
       "      <td>183.9</td>\n",
       "      <td>96</td>\n",
       "      <td>15.63</td>\n",
       "      <td>130.2</td>\n",
       "      <td>90</td>\n",
       "      <td>5.86</td>\n",
       "      <td>4.6</td>\n",
       "      <td>6</td>\n",
       "      <td>1.24</td>\n",
       "      <td>0</td>\n",
       "      <td>no</td>\n",
       "    </tr>\n",
       "    <tr>\n",
       "      <th>5</th>\n",
       "      <td>AK</td>\n",
       "      <td>48</td>\n",
       "      <td>area_code_415</td>\n",
       "      <td>no</td>\n",
       "      <td>yes</td>\n",
       "      <td>37</td>\n",
       "      <td>211.7</td>\n",
       "      <td>115</td>\n",
       "      <td>35.99</td>\n",
       "      <td>159.9</td>\n",
       "      <td>84</td>\n",
       "      <td>13.59</td>\n",
       "      <td>144.1</td>\n",
       "      <td>80</td>\n",
       "      <td>6.48</td>\n",
       "      <td>12.2</td>\n",
       "      <td>1</td>\n",
       "      <td>3.29</td>\n",
       "      <td>1</td>\n",
       "      <td>no</td>\n",
       "    </tr>\n",
       "    <tr>\n",
       "      <th>6</th>\n",
       "      <td>AK</td>\n",
       "      <td>50</td>\n",
       "      <td>area_code_408</td>\n",
       "      <td>no</td>\n",
       "      <td>no</td>\n",
       "      <td>0</td>\n",
       "      <td>183.6</td>\n",
       "      <td>107</td>\n",
       "      <td>31.21</td>\n",
       "      <td>58.6</td>\n",
       "      <td>118</td>\n",
       "      <td>4.98</td>\n",
       "      <td>202.6</td>\n",
       "      <td>99</td>\n",
       "      <td>9.12</td>\n",
       "      <td>8.7</td>\n",
       "      <td>3</td>\n",
       "      <td>2.35</td>\n",
       "      <td>1</td>\n",
       "      <td>no</td>\n",
       "    </tr>\n",
       "    <tr>\n",
       "      <th>7</th>\n",
       "      <td>AK</td>\n",
       "      <td>51</td>\n",
       "      <td>area_code_510</td>\n",
       "      <td>yes</td>\n",
       "      <td>yes</td>\n",
       "      <td>12</td>\n",
       "      <td>135.8</td>\n",
       "      <td>60</td>\n",
       "      <td>23.09</td>\n",
       "      <td>200.6</td>\n",
       "      <td>134</td>\n",
       "      <td>17.05</td>\n",
       "      <td>192.4</td>\n",
       "      <td>98</td>\n",
       "      <td>8.66</td>\n",
       "      <td>12.3</td>\n",
       "      <td>7</td>\n",
       "      <td>3.32</td>\n",
       "      <td>2</td>\n",
       "      <td>no</td>\n",
       "    </tr>\n",
       "    <tr>\n",
       "      <th>8</th>\n",
       "      <td>AK</td>\n",
       "      <td>52</td>\n",
       "      <td>area_code_408</td>\n",
       "      <td>no</td>\n",
       "      <td>no</td>\n",
       "      <td>0</td>\n",
       "      <td>217.0</td>\n",
       "      <td>104</td>\n",
       "      <td>36.89</td>\n",
       "      <td>152.3</td>\n",
       "      <td>83</td>\n",
       "      <td>12.95</td>\n",
       "      <td>134.3</td>\n",
       "      <td>109</td>\n",
       "      <td>6.04</td>\n",
       "      <td>11.8</td>\n",
       "      <td>4</td>\n",
       "      <td>3.19</td>\n",
       "      <td>2</td>\n",
       "      <td>no</td>\n",
       "    </tr>\n",
       "    <tr>\n",
       "      <th>9</th>\n",
       "      <td>AK</td>\n",
       "      <td>52</td>\n",
       "      <td>area_code_415</td>\n",
       "      <td>no</td>\n",
       "      <td>yes</td>\n",
       "      <td>24</td>\n",
       "      <td>170.9</td>\n",
       "      <td>71</td>\n",
       "      <td>29.05</td>\n",
       "      <td>201.4</td>\n",
       "      <td>80</td>\n",
       "      <td>17.12</td>\n",
       "      <td>159.0</td>\n",
       "      <td>124</td>\n",
       "      <td>7.15</td>\n",
       "      <td>4.1</td>\n",
       "      <td>5</td>\n",
       "      <td>1.11</td>\n",
       "      <td>2</td>\n",
       "      <td>no</td>\n",
       "    </tr>\n",
       "  </tbody>\n",
       "</table>\n",
       "</div>"
      ],
      "text/plain": [
       "  state  account_length      area_code international_plan voice_mail_plan  \\\n",
       "0    AK               1  area_code_408                 no              no   \n",
       "1    AK              36  area_code_408                 no             yes   \n",
       "2    AK              36  area_code_415                yes             yes   \n",
       "3    AK              41  area_code_415                 no              no   \n",
       "4    AK              42  area_code_415                 no              no   \n",
       "5    AK              48  area_code_415                 no             yes   \n",
       "6    AK              50  area_code_408                 no              no   \n",
       "7    AK              51  area_code_510                yes             yes   \n",
       "8    AK              52  area_code_408                 no              no   \n",
       "9    AK              52  area_code_415                 no             yes   \n",
       "\n",
       "   number_vmail_messages  total_day_minutes  total_day_calls  \\\n",
       "0                      0              175.2               74   \n",
       "1                     30              146.3              128   \n",
       "2                     19              171.9               96   \n",
       "3                      0              159.3               66   \n",
       "4                      0              171.0              129   \n",
       "5                     37              211.7              115   \n",
       "6                      0              183.6              107   \n",
       "7                     12              135.8               60   \n",
       "8                      0              217.0              104   \n",
       "9                     24              170.9               71   \n",
       "\n",
       "   total_day_charge  total_eve_minutes  total_eve_calls  total_eve_charge  \\\n",
       "0             29.78              151.7               79             12.89   \n",
       "1             24.87              162.5               80             13.81   \n",
       "2             29.22              198.4              111             16.86   \n",
       "3             27.08              125.9               75             10.70   \n",
       "4             29.07              183.9               96             15.63   \n",
       "5             35.99              159.9               84             13.59   \n",
       "6             31.21               58.6              118              4.98   \n",
       "7             23.09              200.6              134             17.05   \n",
       "8             36.89              152.3               83             12.95   \n",
       "9             29.05              201.4               80             17.12   \n",
       "\n",
       "   total_night_minutes  total_night_calls  total_night_charge  \\\n",
       "0                230.5                109               10.37   \n",
       "1                129.3                109                5.82   \n",
       "2                321.7                 76               14.48   \n",
       "3                261.9                 76               11.79   \n",
       "4                130.2                 90                5.86   \n",
       "5                144.1                 80                6.48   \n",
       "6                202.6                 99                9.12   \n",
       "7                192.4                 98                8.66   \n",
       "8                134.3                109                6.04   \n",
       "9                159.0                124                7.15   \n",
       "\n",
       "   total_intl_minutes  total_intl_calls  total_intl_charge  \\\n",
       "0                 5.3                 3               1.43   \n",
       "1                14.5                 6               3.92   \n",
       "2                10.5                 1               2.84   \n",
       "3                11.1                 5               3.00   \n",
       "4                 4.6                 6               1.24   \n",
       "5                12.2                 1               3.29   \n",
       "6                 8.7                 3               2.35   \n",
       "7                12.3                 7               3.32   \n",
       "8                11.8                 4               3.19   \n",
       "9                 4.1                 5               1.11   \n",
       "\n",
       "   number_customer_service_calls churn  \n",
       "0                              1    no  \n",
       "1                              0    no  \n",
       "2                              1   yes  \n",
       "3                              1    no  \n",
       "4                              0    no  \n",
       "5                              1    no  \n",
       "6                              1    no  \n",
       "7                              2    no  \n",
       "8                              2    no  \n",
       "9                              2    no  "
      ]
     },
     "execution_count": 5,
     "metadata": {},
     "output_type": "execute_result"
    }
   ],
   "source": [
    "#import data\n",
    "df = pd.read_csv(\"data/Churn_Calls.csv\", sep=',')\n",
    "df.head(10)"
   ]
  },
  {
   "cell_type": "code",
<<<<<<< HEAD
   "execution_count": 6,
=======
   "execution_count": 30,
>>>>>>> 3d58ec91039a81c3192d990fcf6fa9be263961e4
   "metadata": {
    "scrolled": true
   },
   "outputs": [
    {
     "name": "stdout",
     "output_type": "stream",
     "text": [
      "Index(['churn', 'account_length', 'number_vmail_messages', 'total_day_minutes',\n",
      "       'total_day_calls', 'total_day_charge', 'total_eve_minutes',\n",
      "       'total_eve_calls', 'total_eve_charge', 'total_night_minutes',\n",
      "       'total_night_calls', 'total_night_charge', 'total_intl_minutes',\n",
      "       'total_intl_calls', 'total_intl_charge',\n",
      "       'number_customer_service_calls', 'state_AK', 'state_AL', 'state_AR',\n",
      "       'state_AZ', 'state_CA', 'state_CO', 'state_CT', 'state_DC', 'state_DE',\n",
      "       'state_FL', 'state_GA', 'state_HI', 'state_IA', 'state_ID', 'state_IL',\n",
      "       'state_IN', 'state_KS', 'state_KY', 'state_LA', 'state_MA', 'state_MD',\n",
      "       'state_ME', 'state_MI', 'state_MN', 'state_MO', 'state_MS', 'state_MT',\n",
      "       'state_NC', 'state_ND', 'state_NE', 'state_NH', 'state_NJ', 'state_NM',\n",
      "       'state_NV', 'state_NY', 'state_OH', 'state_OK', 'state_OR', 'state_PA',\n",
      "       'state_RI', 'state_SC', 'state_SD', 'state_TN', 'state_TX', 'state_UT',\n",
      "       'state_VA', 'state_VT', 'state_WA', 'state_WI', 'state_WV', 'state_WY',\n",
      "       'area_code_area_code_408', 'area_code_area_code_415',\n",
      "       'area_code_area_code_510', 'international_plan_no',\n",
      "       'international_plan_yes', 'voice_mail_plan_no', 'voice_mail_plan_yes'],\n",
      "      dtype='object')\n"
     ]
    }
   ],
   "source": [
    "# See each collum name\n",
    "print(df.columns)"
   ]
  },
  {
   "cell_type": "code",
<<<<<<< HEAD
   "execution_count": 7,
=======
   "execution_count": 31,
>>>>>>> 3d58ec91039a81c3192d990fcf6fa9be263961e4
   "metadata": {},
   "outputs": [
    {
     "data": {
      "text/plain": [
       "(5000, 74)"
      ]
     },
<<<<<<< HEAD
     "execution_count": 7,
=======
     "execution_count": 31,
>>>>>>> 3d58ec91039a81c3192d990fcf6fa9be263961e4
     "metadata": {},
     "output_type": "execute_result"
    }
   ],
   "source": [
    "df.shape"
   ]
  },
  {
   "cell_type": "markdown",
   "metadata": {},
   "source": [
    "#Target\n",
    "In this step I took the target variable and moved it to the first collum. I aslo made a reference to it called targetName. This just helps me with some below steps."
   ]
  },
  {
   "cell_type": "code",
<<<<<<< HEAD
   "execution_count": 8,
=======
   "execution_count": 32,
>>>>>>> 3d58ec91039a81c3192d990fcf6fa9be263961e4
   "metadata": {},
   "outputs": [
    {
     "data": {
      "text/html": [
       "<div>\n",
       "<style scoped>\n",
       "    .dataframe tbody tr th:only-of-type {\n",
       "        vertical-align: middle;\n",
       "    }\n",
       "\n",
       "    .dataframe tbody tr th {\n",
       "        vertical-align: top;\n",
       "    }\n",
       "\n",
       "    .dataframe thead th {\n",
       "        text-align: right;\n",
       "    }\n",
       "</style>\n",
       "<table border=\"1\" class=\"dataframe\">\n",
       "  <thead>\n",
       "    <tr style=\"text-align: right;\">\n",
       "      <th></th>\n",
       "      <th>churn</th>\n",
       "      <th>account_length</th>\n",
       "      <th>number_vmail_messages</th>\n",
       "      <th>total_day_minutes</th>\n",
       "      <th>total_day_calls</th>\n",
       "      <th>total_day_charge</th>\n",
       "      <th>total_eve_minutes</th>\n",
       "      <th>total_eve_calls</th>\n",
       "      <th>total_eve_charge</th>\n",
       "      <th>total_night_minutes</th>\n",
       "      <th>...</th>\n",
       "      <th>state_WI</th>\n",
       "      <th>state_WV</th>\n",
       "      <th>state_WY</th>\n",
       "      <th>area_code_area_code_408</th>\n",
       "      <th>area_code_area_code_415</th>\n",
       "      <th>area_code_area_code_510</th>\n",
       "      <th>international_plan_no</th>\n",
       "      <th>international_plan_yes</th>\n",
       "      <th>voice_mail_plan_no</th>\n",
       "      <th>voice_mail_plan_yes</th>\n",
       "    </tr>\n",
       "  </thead>\n",
       "  <tbody>\n",
       "    <tr>\n",
       "      <th>0</th>\n",
       "      <td>0</td>\n",
       "      <td>1</td>\n",
       "      <td>0</td>\n",
       "      <td>175.2</td>\n",
       "      <td>74</td>\n",
       "      <td>29.78</td>\n",
       "      <td>151.7</td>\n",
       "      <td>79</td>\n",
       "      <td>12.89</td>\n",
       "      <td>230.5</td>\n",
       "      <td>...</td>\n",
       "      <td>0</td>\n",
       "      <td>0</td>\n",
       "      <td>0</td>\n",
       "      <td>1</td>\n",
       "      <td>0</td>\n",
       "      <td>0</td>\n",
       "      <td>1</td>\n",
       "      <td>0</td>\n",
       "      <td>1</td>\n",
       "      <td>0</td>\n",
       "    </tr>\n",
       "    <tr>\n",
       "      <th>1</th>\n",
       "      <td>0</td>\n",
       "      <td>36</td>\n",
       "      <td>30</td>\n",
       "      <td>146.3</td>\n",
       "      <td>128</td>\n",
       "      <td>24.87</td>\n",
       "      <td>162.5</td>\n",
       "      <td>80</td>\n",
       "      <td>13.81</td>\n",
       "      <td>129.3</td>\n",
       "      <td>...</td>\n",
       "      <td>0</td>\n",
       "      <td>0</td>\n",
       "      <td>0</td>\n",
       "      <td>1</td>\n",
       "      <td>0</td>\n",
       "      <td>0</td>\n",
       "      <td>1</td>\n",
       "      <td>0</td>\n",
       "      <td>0</td>\n",
       "      <td>1</td>\n",
       "    </tr>\n",
       "    <tr>\n",
       "      <th>2</th>\n",
       "      <td>1</td>\n",
       "      <td>36</td>\n",
       "      <td>19</td>\n",
       "      <td>171.9</td>\n",
       "      <td>96</td>\n",
       "      <td>29.22</td>\n",
       "      <td>198.4</td>\n",
       "      <td>111</td>\n",
       "      <td>16.86</td>\n",
       "      <td>321.7</td>\n",
       "      <td>...</td>\n",
       "      <td>0</td>\n",
       "      <td>0</td>\n",
       "      <td>0</td>\n",
       "      <td>0</td>\n",
       "      <td>1</td>\n",
       "      <td>0</td>\n",
       "      <td>0</td>\n",
       "      <td>1</td>\n",
       "      <td>0</td>\n",
       "      <td>1</td>\n",
       "    </tr>\n",
       "    <tr>\n",
       "      <th>3</th>\n",
       "      <td>0</td>\n",
       "      <td>41</td>\n",
       "      <td>0</td>\n",
       "      <td>159.3</td>\n",
       "      <td>66</td>\n",
       "      <td>27.08</td>\n",
       "      <td>125.9</td>\n",
       "      <td>75</td>\n",
       "      <td>10.70</td>\n",
       "      <td>261.9</td>\n",
       "      <td>...</td>\n",
       "      <td>0</td>\n",
       "      <td>0</td>\n",
       "      <td>0</td>\n",
       "      <td>0</td>\n",
       "      <td>1</td>\n",
       "      <td>0</td>\n",
       "      <td>1</td>\n",
       "      <td>0</td>\n",
       "      <td>1</td>\n",
       "      <td>0</td>\n",
       "    </tr>\n",
       "    <tr>\n",
       "      <th>4</th>\n",
       "      <td>0</td>\n",
       "      <td>42</td>\n",
       "      <td>0</td>\n",
       "      <td>171.0</td>\n",
       "      <td>129</td>\n",
       "      <td>29.07</td>\n",
       "      <td>183.9</td>\n",
       "      <td>96</td>\n",
       "      <td>15.63</td>\n",
       "      <td>130.2</td>\n",
       "      <td>...</td>\n",
       "      <td>0</td>\n",
       "      <td>0</td>\n",
       "      <td>0</td>\n",
       "      <td>0</td>\n",
       "      <td>1</td>\n",
       "      <td>0</td>\n",
       "      <td>1</td>\n",
       "      <td>0</td>\n",
       "      <td>1</td>\n",
       "      <td>0</td>\n",
       "    </tr>\n",
       "    <tr>\n",
       "      <th>5</th>\n",
       "      <td>0</td>\n",
       "      <td>48</td>\n",
       "      <td>37</td>\n",
       "      <td>211.7</td>\n",
       "      <td>115</td>\n",
       "      <td>35.99</td>\n",
       "      <td>159.9</td>\n",
       "      <td>84</td>\n",
       "      <td>13.59</td>\n",
       "      <td>144.1</td>\n",
       "      <td>...</td>\n",
       "      <td>0</td>\n",
       "      <td>0</td>\n",
       "      <td>0</td>\n",
       "      <td>0</td>\n",
       "      <td>1</td>\n",
       "      <td>0</td>\n",
       "      <td>1</td>\n",
       "      <td>0</td>\n",
       "      <td>0</td>\n",
       "      <td>1</td>\n",
       "    </tr>\n",
       "    <tr>\n",
       "      <th>6</th>\n",
       "      <td>0</td>\n",
       "      <td>50</td>\n",
       "      <td>0</td>\n",
       "      <td>183.6</td>\n",
       "      <td>107</td>\n",
       "      <td>31.21</td>\n",
       "      <td>58.6</td>\n",
       "      <td>118</td>\n",
       "      <td>4.98</td>\n",
       "      <td>202.6</td>\n",
       "      <td>...</td>\n",
       "      <td>0</td>\n",
       "      <td>0</td>\n",
       "      <td>0</td>\n",
       "      <td>1</td>\n",
       "      <td>0</td>\n",
       "      <td>0</td>\n",
       "      <td>1</td>\n",
       "      <td>0</td>\n",
       "      <td>1</td>\n",
       "      <td>0</td>\n",
       "    </tr>\n",
       "    <tr>\n",
       "      <th>7</th>\n",
       "      <td>0</td>\n",
       "      <td>51</td>\n",
       "      <td>12</td>\n",
       "      <td>135.8</td>\n",
       "      <td>60</td>\n",
       "      <td>23.09</td>\n",
       "      <td>200.6</td>\n",
       "      <td>134</td>\n",
       "      <td>17.05</td>\n",
       "      <td>192.4</td>\n",
       "      <td>...</td>\n",
       "      <td>0</td>\n",
       "      <td>0</td>\n",
       "      <td>0</td>\n",
       "      <td>0</td>\n",
       "      <td>0</td>\n",
       "      <td>1</td>\n",
       "      <td>0</td>\n",
       "      <td>1</td>\n",
       "      <td>0</td>\n",
       "      <td>1</td>\n",
       "    </tr>\n",
       "    <tr>\n",
       "      <th>8</th>\n",
       "      <td>0</td>\n",
       "      <td>52</td>\n",
       "      <td>0</td>\n",
       "      <td>217.0</td>\n",
       "      <td>104</td>\n",
       "      <td>36.89</td>\n",
       "      <td>152.3</td>\n",
       "      <td>83</td>\n",
       "      <td>12.95</td>\n",
       "      <td>134.3</td>\n",
       "      <td>...</td>\n",
       "      <td>0</td>\n",
       "      <td>0</td>\n",
       "      <td>0</td>\n",
       "      <td>1</td>\n",
       "      <td>0</td>\n",
       "      <td>0</td>\n",
       "      <td>1</td>\n",
       "      <td>0</td>\n",
       "      <td>1</td>\n",
       "      <td>0</td>\n",
       "    </tr>\n",
       "    <tr>\n",
       "      <th>9</th>\n",
       "      <td>0</td>\n",
       "      <td>52</td>\n",
       "      <td>24</td>\n",
       "      <td>170.9</td>\n",
       "      <td>71</td>\n",
       "      <td>29.05</td>\n",
       "      <td>201.4</td>\n",
       "      <td>80</td>\n",
       "      <td>17.12</td>\n",
       "      <td>159.0</td>\n",
       "      <td>...</td>\n",
       "      <td>0</td>\n",
       "      <td>0</td>\n",
       "      <td>0</td>\n",
       "      <td>0</td>\n",
       "      <td>1</td>\n",
       "      <td>0</td>\n",
       "      <td>1</td>\n",
       "      <td>0</td>\n",
       "      <td>0</td>\n",
       "      <td>1</td>\n",
       "    </tr>\n",
       "  </tbody>\n",
       "</table>\n",
       "<p>10 rows × 74 columns</p>\n",
       "</div>"
      ],
      "text/plain": [
       "   churn  account_length  number_vmail_messages  total_day_minutes  \\\n",
       "0      0               1                      0              175.2   \n",
       "1      0              36                     30              146.3   \n",
       "2      1              36                     19              171.9   \n",
       "3      0              41                      0              159.3   \n",
       "4      0              42                      0              171.0   \n",
       "5      0              48                     37              211.7   \n",
       "6      0              50                      0              183.6   \n",
       "7      0              51                     12              135.8   \n",
       "8      0              52                      0              217.0   \n",
       "9      0              52                     24              170.9   \n",
       "\n",
       "   total_day_calls  total_day_charge  total_eve_minutes  total_eve_calls  \\\n",
       "0               74             29.78              151.7               79   \n",
       "1              128             24.87              162.5               80   \n",
       "2               96             29.22              198.4              111   \n",
       "3               66             27.08              125.9               75   \n",
       "4              129             29.07              183.9               96   \n",
       "5              115             35.99              159.9               84   \n",
       "6              107             31.21               58.6              118   \n",
       "7               60             23.09              200.6              134   \n",
       "8              104             36.89              152.3               83   \n",
       "9               71             29.05              201.4               80   \n",
       "\n",
       "   total_eve_charge  total_night_minutes         ...           state_WI  \\\n",
       "0             12.89                230.5         ...                  0   \n",
       "1             13.81                129.3         ...                  0   \n",
       "2             16.86                321.7         ...                  0   \n",
       "3             10.70                261.9         ...                  0   \n",
       "4             15.63                130.2         ...                  0   \n",
       "5             13.59                144.1         ...                  0   \n",
       "6              4.98                202.6         ...                  0   \n",
       "7             17.05                192.4         ...                  0   \n",
       "8             12.95                134.3         ...                  0   \n",
       "9             17.12                159.0         ...                  0   \n",
       "\n",
       "   state_WV  state_WY  area_code_area_code_408  area_code_area_code_415  \\\n",
       "0         0         0                        1                        0   \n",
       "1         0         0                        1                        0   \n",
       "2         0         0                        0                        1   \n",
       "3         0         0                        0                        1   \n",
       "4         0         0                        0                        1   \n",
       "5         0         0                        0                        1   \n",
       "6         0         0                        1                        0   \n",
       "7         0         0                        0                        0   \n",
       "8         0         0                        1                        0   \n",
       "9         0         0                        0                        1   \n",
       "\n",
       "   area_code_area_code_510  international_plan_no  international_plan_yes  \\\n",
       "0                        0                      1                       0   \n",
       "1                        0                      1                       0   \n",
       "2                        0                      0                       1   \n",
       "3                        0                      1                       0   \n",
       "4                        0                      1                       0   \n",
       "5                        0                      1                       0   \n",
       "6                        0                      1                       0   \n",
       "7                        1                      0                       1   \n",
       "8                        0                      1                       0   \n",
       "9                        0                      1                       0   \n",
       "\n",
       "   voice_mail_plan_no  voice_mail_plan_yes  \n",
       "0                   1                    0  \n",
       "1                   0                    1  \n",
       "2                   0                    1  \n",
       "3                   1                    0  \n",
       "4                   1                    0  \n",
       "5                   0                    1  \n",
       "6                   1                    0  \n",
       "7                   0                    1  \n",
       "8                   1                    0  \n",
       "9                   0                    1  \n",
       "\n",
       "[10 rows x 74 columns]"
      ]
     },
<<<<<<< HEAD
     "execution_count": 8,
=======
     "execution_count": 32,
>>>>>>> 3d58ec91039a81c3192d990fcf6fa9be263961e4
     "metadata": {},
     "output_type": "execute_result"
    }
   ],
   "source": [
    "# designate target variable name\n",
    "targetName = 'churn'\n",
    "# move target variable into first column\n",
    "targetSeries = df[targetName]\n",
    "del df[targetName]\n",
    "df.insert(0, targetName, targetSeries)\n",
    "expected=targetName\n",
    "df.head(10)"
   ]
  },
  {
   "cell_type": "markdown",
   "metadata": {},
   "source": [
    "#EDA\n",
    "Just a touch of EDA. This is the distribution of the target. As you can see, the datset is imbalanced and the target class of interest \"yes\" is in the minority (a common occurance in classification)."
   ]
  },
  {
   "cell_type": "code",
<<<<<<< HEAD
   "execution_count": 9,
=======
   "execution_count": 33,
>>>>>>> 3d58ec91039a81c3192d990fcf6fa9be263961e4
   "metadata": {},
   "outputs": [
    {
     "data": {
      "text/plain": [
<<<<<<< HEAD
       "<matplotlib.lines.Line2D at 0x108fbc908>"
      ]
     },
     "execution_count": 9,
=======
       "<matplotlib.lines.Line2D at 0x119e078d0>"
      ]
     },
     "execution_count": 33,
>>>>>>> 3d58ec91039a81c3192d990fcf6fa9be263961e4
     "metadata": {},
     "output_type": "execute_result"
    },
    {
     "data": {
<<<<<<< HEAD
      "image/png": "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\n",
      "text/plain": [
       "<Figure size 432x288 with 1 Axes>"
=======
      "image/png": "iVBORw0KGgoAAAANSUhEUgAAAYEAAAEGCAYAAACD7ClEAAAABHNCSVQICAgIfAhkiAAAAAlwSFlz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\ngg==\n",
      "text/plain": [
       "<matplotlib.figure.Figure at 0x1193052b0>"
>>>>>>> 3d58ec91039a81c3192d990fcf6fa9be263961e4
      ]
     },
     "metadata": {},
     "output_type": "display_data"
    }
   ],
   "source": [
    "gb = df.groupby(targetName)\n",
    "targetEDA=gb[targetName].aggregate(len)\n",
    "plt.figure()\n",
    "targetEDA.plot(kind='bar', grid=False)\n",
    "plt.axhline(0, color='k')"
   ]
  },
  {
   "cell_type": "markdown",
   "metadata": {},
   "source": [
    "# Preprocessing\n",
    "The below two steps are for preprocessing. The first cell changes the yes/no of the target to numeric. I needed to do this as some models require the target to be numeric. The second cell takes all the category features and creates dummies with them. This is stock code I have used for long time (and I did not write it). It is nice because it will take any dataframe of any size and handle categorial features. I do not have to change a single line in it. It can be used generically on bascially any dataframe. Saves a lot of time of coding each feature."
   ]
  },
  {
   "cell_type": "code",
<<<<<<< HEAD
   "execution_count": 10,
   "metadata": {},
=======
   "execution_count": 34,
   "metadata": {
    "collapsed": true
   },
>>>>>>> 3d58ec91039a81c3192d990fcf6fa9be263961e4
   "outputs": [],
   "source": [
    "from sklearn import preprocessing\n",
    "le_dep = preprocessing.LabelEncoder()\n",
    "#to convert into numbers\n",
    "df['churn'] = le_dep.fit_transform(df['churn'])"
   ]
  },
  {
   "cell_type": "code",
<<<<<<< HEAD
   "execution_count": 11,
   "metadata": {},
=======
   "execution_count": 35,
   "metadata": {
    "collapsed": true
   },
>>>>>>> 3d58ec91039a81c3192d990fcf6fa9be263961e4
   "outputs": [],
   "source": [
    "# perform data transformation\n",
    "for col in df.columns[1:]:\n",
    "\tattName = col\n",
    "\tdType = df[col].dtype\n",
    "\tmissing = pd.isnull(df[col]).any()\n",
    "\tuniqueCount = len(df[attName].value_counts(normalize=False))\n",
    "\t# discretize (create dummies)\n",
    "\tif dType == object:\n",
    "\t\tdf = pd.concat([df, pd.get_dummies(df[col], prefix=col)], axis=1)\n",
    "\t\tdel df[attName]"
   ]
  },
  {
   "cell_type": "markdown",
   "metadata": {},
   "source": [
    "# After Tranformation"
   ]
  },
  {
   "cell_type": "code",
<<<<<<< HEAD
   "execution_count": 12,
=======
   "execution_count": 36,
>>>>>>> 3d58ec91039a81c3192d990fcf6fa9be263961e4
   "metadata": {},
   "outputs": [
    {
     "name": "stdout",
     "output_type": "stream",
     "text": [
      "(5000, 74)\n"
     ]
    },
    {
     "data": {
      "text/html": [
       "<div>\n",
       "<style scoped>\n",
       "    .dataframe tbody tr th:only-of-type {\n",
       "        vertical-align: middle;\n",
       "    }\n",
       "\n",
       "    .dataframe tbody tr th {\n",
       "        vertical-align: top;\n",
       "    }\n",
       "\n",
       "    .dataframe thead th {\n",
       "        text-align: right;\n",
       "    }\n",
       "</style>\n",
       "<table border=\"1\" class=\"dataframe\">\n",
       "  <thead>\n",
       "    <tr style=\"text-align: right;\">\n",
       "      <th></th>\n",
       "      <th>churn</th>\n",
       "      <th>account_length</th>\n",
       "      <th>number_vmail_messages</th>\n",
       "      <th>total_day_minutes</th>\n",
       "      <th>total_day_calls</th>\n",
       "      <th>total_day_charge</th>\n",
       "      <th>total_eve_minutes</th>\n",
       "      <th>total_eve_calls</th>\n",
       "      <th>total_eve_charge</th>\n",
       "      <th>total_night_minutes</th>\n",
       "      <th>...</th>\n",
       "      <th>state_WI</th>\n",
       "      <th>state_WV</th>\n",
       "      <th>state_WY</th>\n",
       "      <th>area_code_area_code_408</th>\n",
       "      <th>area_code_area_code_415</th>\n",
       "      <th>area_code_area_code_510</th>\n",
       "      <th>international_plan_no</th>\n",
       "      <th>international_plan_yes</th>\n",
       "      <th>voice_mail_plan_no</th>\n",
       "      <th>voice_mail_plan_yes</th>\n",
       "    </tr>\n",
       "  </thead>\n",
       "  <tbody>\n",
       "    <tr>\n",
       "      <th>0</th>\n",
       "      <td>0</td>\n",
       "      <td>1</td>\n",
       "      <td>0</td>\n",
       "      <td>175.2</td>\n",
       "      <td>74</td>\n",
       "      <td>29.78</td>\n",
       "      <td>151.7</td>\n",
       "      <td>79</td>\n",
       "      <td>12.89</td>\n",
       "      <td>230.5</td>\n",
       "      <td>...</td>\n",
       "      <td>0</td>\n",
       "      <td>0</td>\n",
       "      <td>0</td>\n",
       "      <td>1</td>\n",
       "      <td>0</td>\n",
       "      <td>0</td>\n",
       "      <td>1</td>\n",
       "      <td>0</td>\n",
       "      <td>1</td>\n",
       "      <td>0</td>\n",
       "    </tr>\n",
       "    <tr>\n",
       "      <th>1</th>\n",
       "      <td>0</td>\n",
       "      <td>36</td>\n",
       "      <td>30</td>\n",
       "      <td>146.3</td>\n",
       "      <td>128</td>\n",
       "      <td>24.87</td>\n",
       "      <td>162.5</td>\n",
       "      <td>80</td>\n",
       "      <td>13.81</td>\n",
       "      <td>129.3</td>\n",
       "      <td>...</td>\n",
       "      <td>0</td>\n",
       "      <td>0</td>\n",
       "      <td>0</td>\n",
       "      <td>1</td>\n",
       "      <td>0</td>\n",
       "      <td>0</td>\n",
       "      <td>1</td>\n",
       "      <td>0</td>\n",
       "      <td>0</td>\n",
       "      <td>1</td>\n",
       "    </tr>\n",
       "    <tr>\n",
       "      <th>2</th>\n",
       "      <td>1</td>\n",
       "      <td>36</td>\n",
       "      <td>19</td>\n",
       "      <td>171.9</td>\n",
       "      <td>96</td>\n",
       "      <td>29.22</td>\n",
       "      <td>198.4</td>\n",
       "      <td>111</td>\n",
       "      <td>16.86</td>\n",
       "      <td>321.7</td>\n",
       "      <td>...</td>\n",
       "      <td>0</td>\n",
       "      <td>0</td>\n",
       "      <td>0</td>\n",
       "      <td>0</td>\n",
       "      <td>1</td>\n",
       "      <td>0</td>\n",
       "      <td>0</td>\n",
       "      <td>1</td>\n",
       "      <td>0</td>\n",
       "      <td>1</td>\n",
       "    </tr>\n",
       "    <tr>\n",
       "      <th>3</th>\n",
       "      <td>0</td>\n",
       "      <td>41</td>\n",
       "      <td>0</td>\n",
       "      <td>159.3</td>\n",
       "      <td>66</td>\n",
       "      <td>27.08</td>\n",
       "      <td>125.9</td>\n",
       "      <td>75</td>\n",
       "      <td>10.70</td>\n",
       "      <td>261.9</td>\n",
       "      <td>...</td>\n",
       "      <td>0</td>\n",
       "      <td>0</td>\n",
       "      <td>0</td>\n",
       "      <td>0</td>\n",
       "      <td>1</td>\n",
       "      <td>0</td>\n",
       "      <td>1</td>\n",
       "      <td>0</td>\n",
       "      <td>1</td>\n",
       "      <td>0</td>\n",
       "    </tr>\n",
       "    <tr>\n",
       "      <th>4</th>\n",
       "      <td>0</td>\n",
       "      <td>42</td>\n",
       "      <td>0</td>\n",
       "      <td>171.0</td>\n",
       "      <td>129</td>\n",
       "      <td>29.07</td>\n",
       "      <td>183.9</td>\n",
       "      <td>96</td>\n",
       "      <td>15.63</td>\n",
       "      <td>130.2</td>\n",
       "      <td>...</td>\n",
       "      <td>0</td>\n",
       "      <td>0</td>\n",
       "      <td>0</td>\n",
       "      <td>0</td>\n",
       "      <td>1</td>\n",
       "      <td>0</td>\n",
       "      <td>1</td>\n",
       "      <td>0</td>\n",
       "      <td>1</td>\n",
       "      <td>0</td>\n",
       "    </tr>\n",
       "  </tbody>\n",
       "</table>\n",
       "<p>5 rows × 74 columns</p>\n",
       "</div>"
      ],
      "text/plain": [
       "   churn  account_length  number_vmail_messages  total_day_minutes  \\\n",
       "0      0               1                      0              175.2   \n",
       "1      0              36                     30              146.3   \n",
       "2      1              36                     19              171.9   \n",
       "3      0              41                      0              159.3   \n",
       "4      0              42                      0              171.0   \n",
       "\n",
       "   total_day_calls  total_day_charge  total_eve_minutes  total_eve_calls  \\\n",
       "0               74             29.78              151.7               79   \n",
       "1              128             24.87              162.5               80   \n",
       "2               96             29.22              198.4              111   \n",
       "3               66             27.08              125.9               75   \n",
       "4              129             29.07              183.9               96   \n",
       "\n",
       "   total_eve_charge  total_night_minutes         ...           state_WI  \\\n",
       "0             12.89                230.5         ...                  0   \n",
       "1             13.81                129.3         ...                  0   \n",
       "2             16.86                321.7         ...                  0   \n",
       "3             10.70                261.9         ...                  0   \n",
       "4             15.63                130.2         ...                  0   \n",
       "\n",
       "   state_WV  state_WY  area_code_area_code_408  area_code_area_code_415  \\\n",
       "0         0         0                        1                        0   \n",
       "1         0         0                        1                        0   \n",
       "2         0         0                        0                        1   \n",
       "3         0         0                        0                        1   \n",
       "4         0         0                        0                        1   \n",
       "\n",
       "   area_code_area_code_510  international_plan_no  international_plan_yes  \\\n",
       "0                        0                      1                       0   \n",
       "1                        0                      1                       0   \n",
       "2                        0                      0                       1   \n",
       "3                        0                      1                       0   \n",
       "4                        0                      1                       0   \n",
       "\n",
       "   voice_mail_plan_no  voice_mail_plan_yes  \n",
       "0                   1                    0  \n",
       "1                   0                    1  \n",
       "2                   0                    1  \n",
       "3                   1                    0  \n",
       "4                   1                    0  \n",
       "\n",
       "[5 rows x 74 columns]"
      ]
     },
<<<<<<< HEAD
     "execution_count": 12,
=======
     "execution_count": 36,
>>>>>>> 3d58ec91039a81c3192d990fcf6fa9be263961e4
     "metadata": {},
     "output_type": "execute_result"
    }
   ],
   "source": [
    "print(df.shape)\n",
    "df.head()"
   ]
  },
  {
   "cell_type": "markdown",
   "metadata": {},
   "source": [
    "# Test/Train\n",
    "I split the data into a 60/40 train test. The features are stored in \"features_train\" and \"features_test\". The targets are in \"target_train\" and \"target_test\". I used a biggest test when I have an imbalanced set. "
   ]
  },
  {
   "cell_type": "code",
<<<<<<< HEAD
   "execution_count": 13,
   "metadata": {},
=======
   "execution_count": 37,
   "metadata": {
    "collapsed": true
   },
>>>>>>> 3d58ec91039a81c3192d990fcf6fa9be263961e4
   "outputs": [],
   "source": [
    "# split dataset into testing and training\n",
    "features_train, features_test, target_train, target_test = train_test_split(\n",
    "    df.iloc[:,1:].values, df.iloc[:,0].values, test_size=0.40, random_state=0)"
   ]
  },
  {
   "cell_type": "markdown",
   "metadata": {},
   "source": [
    "Just a view of the size of each test/train set.\n",
    "Note there are now 73 features, and the test set is imbalanced (14.6%)"
   ]
  },
  {
   "cell_type": "code",
<<<<<<< HEAD
   "execution_count": 14,
=======
   "execution_count": 38,
>>>>>>> 3d58ec91039a81c3192d990fcf6fa9be263961e4
   "metadata": {},
   "outputs": [
    {
     "name": "stdout",
     "output_type": "stream",
     "text": [
      "(2000, 73)\n",
      "(3000, 73)\n",
      "(2000,)\n",
      "(3000,)\n",
      "Percent of Target that is Yes 0.146\n"
     ]
    }
   ],
   "source": [
    "print(features_test.shape)\n",
    "print(features_train.shape)\n",
    "print(target_test.shape)\n",
    "print(target_train.shape)\n",
    "print(\"Percent of Target that is Yes\", target_test.mean())\n",
    "#data.groupby(['col1', 'col2'])"
   ]
  },
  {
   "cell_type": "markdown",
   "metadata": {},
   "source": [
    "#Models\n",
    "All the models are done in Sci-Kit Learn."
   ]
  },
  {
   "cell_type": "code",
<<<<<<< HEAD
   "execution_count": 15,
=======
   "execution_count": 39,
>>>>>>> 3d58ec91039a81c3192d990fcf6fa9be263961e4
   "metadata": {},
   "outputs": [
    {
     "name": "stdout",
     "output_type": "stream",
     "text": [
      "Logistic Accuracy Score 0.861\n",
      "             precision    recall  f1-score   support\n",
      "\n",
      "  Fail = no       0.88      0.97      0.92      1708\n",
      " Fail = yes       0.56      0.23      0.32       292\n",
      "\n",
      "avg / total       0.83      0.86      0.83      2000\n",
      "\n"
     ]
    }
   ],
   "source": [
    "from sklearn.linear_model import LogisticRegression\n",
    "clf_Log=LogisticRegression()\n",
    "clf_Log = clf_Log.fit(features_train, target_train)\n",
    "#DT test model\n",
    "target_predicted_Log = clf_Log.predict(features_test)\n",
    "print(\"Logistic Accuracy Score\", accuracy_score(target_test, target_predicted_Log))\n",
    "# print classification report\n",
    "target_names = [\"Fail = no\", \"Fail = yes\"]\n",
    "print(classification_report(target_test, target_predicted_Log, target_names=target_names))"
   ]
  },
  {
   "cell_type": "markdown",
   "metadata": {},
   "source": [
    "# Decision Tree\n",
    "I created a decision tree from the data. The accurancy of the model was 921%, while the test data classified at 92%. However notice that the \"yes\" class (the class I am interested in) only properly classified at 74% (specificity) and .71 (recall). That is so-so. Again, not uncommon with imbalanced data. "
   ]
  },
  {
   "cell_type": "code",
<<<<<<< HEAD
   "execution_count": 16,
=======
   "execution_count": 42,
>>>>>>> 3d58ec91039a81c3192d990fcf6fa9be263961e4
   "metadata": {},
   "outputs": [
    {
     "name": "stdout",
     "output_type": "stream",
     "text": [
<<<<<<< HEAD
=======
      "DecisionTreeClassifier(class_weight=None, criterion='gini', max_depth=None,\n",
      "            max_features=None, max_leaf_nodes=None,\n",
      "            min_impurity_split=1e-07, min_samples_leaf=1,\n",
      "            min_samples_split=2, min_weight_fraction_leaf=0.0,\n",
      "            presort=False, random_state=None, splitter='best')\n",
>>>>>>> 3d58ec91039a81c3192d990fcf6fa9be263961e4
      "DT Accuracy Score 0.9245\n",
      "             precision    recall  f1-score   support\n",
      "\n",
      "  Fail = no       0.95      0.96      0.96      1708\n",
<<<<<<< HEAD
      " Fail = yes       0.75      0.73      0.74       292\n",
=======
      " Fail = yes       0.75      0.72      0.74       292\n",
>>>>>>> 3d58ec91039a81c3192d990fcf6fa9be263961e4
      "\n",
      "avg / total       0.92      0.92      0.92      2000\n",
      "\n"
     ]
    }
   ],
   "source": [
    "#Decision Tree train model\n",
    "from sklearn import tree \n",
    "clf = tree.DecisionTreeClassifier()\n",
    "print(clf)\n",
    "clf = clf.fit(features_train, target_train)\n",
    "#DT test model\n",
    "target_predicted_dt = clf.predict(features_test)\n",
    "print(\"DT Accuracy Score\", accuracy_score(target_test, target_predicted_dt))\n",
    "# print classification report\n",
    "target_names = [\"Fail = no\", \"Fail = yes\"]\n",
    "print(classification_report(target_test, target_predicted_dt, target_names=target_names))"
   ]
  },
  {
   "cell_type": "markdown",
   "metadata": {},
   "source": [
    "# Cross Validation of Decision Tree\n",
    "I cross validated with 10 repeats. You can see the OOB score for each repeat and the mean. The mean is .92, which is quite close to the orginal model. I am not going to worry about over fitting."
   ]
  },
  {
   "cell_type": "code",
<<<<<<< HEAD
   "execution_count": 17,
=======
   "execution_count": 43,
>>>>>>> 3d58ec91039a81c3192d990fcf6fa9be263961e4
   "metadata": {},
   "outputs": [
    {
     "name": "stdout",
     "output_type": "stream",
     "text": [
<<<<<<< HEAD
      "Cross Validation Score for each K [0.9269103  0.910299   0.9269103  0.93023256 0.91362126 0.92976589\n",
      " 0.92976589 0.92976589 0.93645485 0.90635452]\n"
=======
      "Cross Validation Score for each K [ 0.93023256  0.90033223  0.9269103   0.9269103   0.91694352  0.93311037\n",
      "  0.90301003  0.92307692  0.92976589  0.89966555]\n"
>>>>>>> 3d58ec91039a81c3192d990fcf6fa9be263961e4
     ]
    },
    {
     "data": {
      "text/plain": [
<<<<<<< HEAD
       "0.9240080445338281"
      ]
     },
     "execution_count": 17,
=======
       "0.91899576661962923"
      ]
     },
     "execution_count": 43,
>>>>>>> 3d58ec91039a81c3192d990fcf6fa9be263961e4
     "metadata": {},
     "output_type": "execute_result"
    }
   ],
   "source": [
    "#verify DT with Cross Validation\n",
    "scores = cross_val_score(clf, features_train, target_train, cv=10)\n",
    "print(\"Cross Validation Score for each K\",scores)\n",
    "scores.mean()                             "
   ]
  },
  {
   "cell_type": "markdown",
   "metadata": {},
   "source": [
    "# Visual of Confusion Matrix for Decision Tree"
   ]
  },
  {
   "cell_type": "code",
<<<<<<< HEAD
   "execution_count": 18,
=======
   "execution_count": 44,
>>>>>>> 3d58ec91039a81c3192d990fcf6fa9be263961e4
   "metadata": {
    "scrolled": true
   },
   "outputs": [
    {
     "name": "stdout",
     "output_type": "stream",
     "text": [
<<<<<<< HEAD
      "[[1636   72]\n",
      " [  79  213]]\n"
=======
      "[[1638   70]\n",
      " [  81  211]]\n"
>>>>>>> 3d58ec91039a81c3192d990fcf6fa9be263961e4
     ]
    },
    {
     "data": {
<<<<<<< HEAD
      "image/png": "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\n",
      "text/plain": [
       "<Figure size 288x288 with 2 Axes>"
=======
      "image/png": "iVBORw0KGgoAAAANSUhEUgAAARMAAAD0CAYAAAC4n8I2AAAABHNCSVQICAgIfAhkiAAAAAlwSFlz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\nYII=\n",
      "text/plain": [
       "<matplotlib.figure.Figure at 0x11da380f0>"
>>>>>>> 3d58ec91039a81c3192d990fcf6fa9be263961e4
      ]
     },
     "metadata": {},
     "output_type": "display_data"
    }
   ],
   "source": [
    "# display confusion matrix\n",
    "cm = confusion_matrix(target_test, target_predicted_dt)\n",
    "plt.matshow(cm)\n",
    "plt.title('Confusion matrix')\n",
    "plt.colorbar()\n",
    "plt.ylabel('True label')\n",
    "plt.xlabel('Predicted label')\n",
    "print(cm)"
   ]
  },
  {
   "cell_type": "markdown",
   "metadata": {},
   "source": [
    "#Random Forest\n",
    "Using the same data, I built a random forest with 500 bootstrapped trees. Notice I parallelized this to 4 cores as big random forest can be computationally expensive. \n",
    "\n",
    "My overall results went up by 3% over the decision tree. Also, my minory target precision, but the recall decresed.  "
   ]
  },
  {
   "cell_type": "code",
<<<<<<< HEAD
   "execution_count": 19,
=======
   "execution_count": 47,
>>>>>>> 3d58ec91039a81c3192d990fcf6fa9be263961e4
   "metadata": {},
   "outputs": [
    {
     "name": "stdout",
     "output_type": "stream",
     "text": [
<<<<<<< HEAD
      "Random Forfest Accuracy 0.9485\n",
      "             precision    recall  f1-score   support\n",
      "\n",
      " Churn = no       0.95      0.99      0.97      1708\n",
      "Churn = yes       0.96      0.68      0.79       292\n",
=======
      "RandomForestClassifier(bootstrap=True, class_weight='balanced',\n",
      "            criterion='gini', max_depth=None, max_features='auto',\n",
      "            max_leaf_nodes=None, min_impurity_split=1e-07,\n",
      "            min_samples_leaf=1, min_samples_split=2,\n",
      "            min_weight_fraction_leaf=0.0, n_estimators=500, n_jobs=-1,\n",
      "            oob_score=True, random_state=None, verbose=0, warm_start=False)\n",
      "Random Forfest Accuracy 0.941\n",
      "             precision    recall  f1-score   support\n",
      "\n",
      " Churn = no       0.94      0.99      0.97      1708\n",
      "Churn = yes       0.95      0.63      0.76       292\n",
>>>>>>> 3d58ec91039a81c3192d990fcf6fa9be263961e4
      "\n",
      "avg / total       0.94      0.94      0.94      2000\n",
      "\n",
      "[[1699    9]\n",
<<<<<<< HEAD
      " [  94  198]]\n"
=======
      " [ 109  183]]\n"
>>>>>>> 3d58ec91039a81c3192d990fcf6fa9be263961e4
     ]
    }
   ],
   "source": [
    "# train random forest model\n",
    "#paralleized to 4 cores \n",
    "from sklearn.ensemble import RandomForestClassifier\n",
    "rf = RandomForestClassifier(n_estimators= 500, n_jobs=-1,oob_score=True, class_weight=\"balanced\")\n",
    "print(rf)\n",
    "rf.fit(features_train, target_train)\n",
    "# test random forest model\n",
    "target_predicted_rf = rf.predict(features_test)\n",
    "print(\"Random Forfest Accuracy\", accuracy_score(target_test, target_predicted_rf))\n",
    "target_names = [\"Churn = no\", \"Churn = yes\"]\n",
    "print(classification_report(target_test, target_predicted_rf, target_names=target_names))\n",
    "print(confusion_matrix(target_test, target_predicted_rf))\n"
   ]
  },
  {
   "cell_type": "markdown",
   "metadata": {},
   "source": [
    "#Cross Validation of Random Forest\n",
    "I cross validated with 10 repeats. You can see the OOB score for each repeat and the mean. The mean is .949, which is quite close to the orginal model. I am not going to worry about over fitting."
   ]
  },
  {
   "cell_type": "code",
   "execution_count": 20,
   "metadata": {},
   "outputs": [
    {
     "name": "stdout",
     "output_type": "stream",
     "text": [
<<<<<<< HEAD
      "Cross Validation Score for each K [0.94684385 0.94019934 0.95348837 0.96013289 0.94352159 0.95652174\n",
      " 0.94648829 0.94983278 0.94648829 0.95652174]\n"
=======
      "Cross Validation Score for each K [ 0.94352159  0.94352159  0.94352159  0.96013289  0.94019934  0.95986622\n",
      "  0.95317726  0.93979933  0.94648829  0.95652174]\n"
>>>>>>> 3d58ec91039a81c3192d990fcf6fa9be263961e4
     ]
    },
    {
     "data": {
      "text/plain": [
<<<<<<< HEAD
       "0.9500038889320994"
=======
       "0.94867498527761429"
>>>>>>> 3d58ec91039a81c3192d990fcf6fa9be263961e4
      ]
     },
     "execution_count": 20,
     "metadata": {},
     "output_type": "execute_result"
    }
   ],
   "source": [
    "#verify RF with cross validation\n",
    "scores_rf = cross_val_score(rf, features_train, target_train, cv=10, n_jobs=-1)\n",
    "print(\"Cross Validation Score for each K\",scores_rf)\n",
    "scores_rf.mean()"
   ]
  },
  {
   "cell_type": "markdown",
   "metadata": {},
   "source": [
    "#Visual of Confusion Matrix for Random Forest"
   ]
  },
  {
   "cell_type": "code",
   "execution_count": 21,
   "metadata": {
    "scrolled": true
   },
   "outputs": [
    {
     "name": "stdout",
     "output_type": "stream",
     "text": [
<<<<<<< HEAD
      "[[1699    9]\n",
      " [  94  198]]\n"
=======
      "[[1700    8]\n",
      " [  90  202]]\n"
>>>>>>> 3d58ec91039a81c3192d990fcf6fa9be263961e4
     ]
    },
    {
     "data": {
<<<<<<< HEAD
      "image/png": "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\n",
      "text/plain": [
       "<Figure size 288x288 with 2 Axes>"
=======
      "image/png": "iVBORw0KGgoAAAANSUhEUgAAARMAAAD0CAYAAAC4n8I2AAAABHNCSVQICAgIfAhkiAAAAAlwSFlz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\nAAAAAElFTkSuQmCC\n",
      "text/plain": [
       "<matplotlib.figure.Figure at 0x119dd7748>"
>>>>>>> 3d58ec91039a81c3192d990fcf6fa9be263961e4
      ]
     },
     "metadata": {},
     "output_type": "display_data"
    }
   ],
   "source": [
    "# display confusion matrix\n",
    "cm = confusion_matrix(target_test, target_predicted_rf)\n",
    "plt.matshow(cm)\n",
    "plt.title('Confusion matrix')\n",
    "plt.colorbar()\n",
    "plt.ylabel('True label')\n",
    "plt.xlabel('Predicted label')\n",
    "print(cm)"
   ]
  },
  {
   "cell_type": "markdown",
   "metadata": {},
   "source": [
    "# Hyperparameter Tuning\n",
    "You can tune any argument in these models. I did a grid search only on max_features (mtry in R). I parallelized the job to 4 cores for speed. You can see that max_features (mtry) of 5 had the best results. But frankly was very little difference from the other parameter results."
   ]
  },
  {
   "cell_type": "code",
   "execution_count": 24,
   "metadata": {},
   "outputs": [
    {
     "name": "stdout",
     "output_type": "stream",
     "text": [
<<<<<<< HEAD
      "Time to run 2.9334409999999984 seconds\n",
      "{'mean_fit_time': array([2.11140974, 2.65216239, 2.67825063, 1.99705275]), 'std_fit_time': array([0.07209046, 0.27282999, 0.43803958, 0.11630734]), 'mean_score_time': array([0.29583764, 0.28738221, 0.20988337, 0.20448478]), 'std_score_time': array([0.02144277, 0.11238657, 0.00226812, 0.00128615]), 'param_max_features': masked_array(data=[2, 3, 4, 5],\n",
      "             mask=[False, False, False, False],\n",
      "       fill_value='?',\n",
      "            dtype=object), 'params': [{'max_features': 2}, {'max_features': 3}, {'max_features': 4}, {'max_features': 5}], 'split0_test_score': array([0.88111888, 0.88711289, 0.9000999 , 0.91208791]), 'split1_test_score': array([0.897, 0.907, 0.916, 0.926]), 'split2_test_score': array([0.89489489, 0.8998999 , 0.91591592, 0.92592593]), 'mean_test_score': array([0.891     , 0.898     , 0.91066667, 0.92133333]), 'std_test_score': array([0.00704484, 0.00823112, 0.00747752, 0.00654247]), 'rank_test_score': array([4, 3, 2, 1], dtype=int32), 'split0_train_score': array([1., 1., 1., 1.]), 'split1_train_score': array([1., 1., 1., 1.]), 'split2_train_score': array([1., 1., 1., 1.]), 'mean_train_score': array([1., 1., 1., 1.]), 'std_train_score': array([0., 0., 0., 0.])}\n",
      "\n",
      "0.9213333333333333\n"
=======
      "Time to run 3.5294939999999997 seconds\n",
      "{'split0_test_score': array([ 0.88511489,  0.89310689,  0.9010989 ,  0.91408591]), 'split1_test_score': array([ 0.896,  0.91 ,  0.923,  0.934]), 'split2_test_score': array([ 0.89489489,  0.9049049 ,  0.91891892,  0.93093093]), 'mean_test_score': array([ 0.892     ,  0.90266667,  0.91433333,  0.92633333]), 'std_test_score': array([ 0.004893  ,  0.00707727,  0.00951215,  0.00875678]), 'rank_test_score': array([4, 3, 2, 1], dtype=int32), 'split0_train_score': array([ 1.,  1.,  1.,  1.]), 'split1_train_score': array([ 1.,  1.,  1.,  1.]), 'split2_train_score': array([ 1.,  1.,  1.,  1.]), 'mean_train_score': array([ 1.,  1.,  1.,  1.]), 'std_train_score': array([ 0.,  0.,  0.,  0.]), 'mean_fit_time': array([ 2.84985034,  3.23508445,  3.53288881,  4.0454936 ]), 'std_fit_time': array([ 0.00450549,  0.08824255,  0.14914699,  0.15302894]), 'mean_score_time': array([ 0.31330403,  0.29658794,  0.36811932,  0.28638371]), 'std_score_time': array([ 0.00390069,  0.06323525,  0.04412074,  0.05936   ]), 'param_max_features': masked_array(data = [2 3 4 5],\n",
      "             mask = [False False False False],\n",
      "       fill_value = ?)\n",
      ", 'params': ({'max_features': 2}, {'max_features': 3}, {'max_features': 4}, {'max_features': 5})}\n"
>>>>>>> 3d58ec91039a81c3192d990fcf6fa9be263961e4
     ]
    }
   ],
   "source": [
    "# use a full grid over all parameters\n",
    "param_grid = {\"max_features\": [2, 3, 4, 5]}\n",
    "start_time = time.clock()\n",
    "\n",
    "\n",
    "\n",
    "\n",
    "# run grid search\n",
    "grid_search = GridSearchCV(rf, param_grid=param_grid,n_jobs=-1)\n",
    "\n",
    "grid_search.fit(features_train, target_train)\n",
    "\n",
    "print(\"Time to run\", time.clock() - start_time, \"seconds\")\n",
    "print(grid_search.cv_results_)\n",
    "print()\n",
    "print(grid_search.best_score_)\n"
   ]
  },
  {
   "cell_type": "markdown",
   "metadata": {},
   "source": [
    "#KNN\n",
    "I performed KNN on K=3 and K=5. For both K's the accurancy was 85% and 87% respectively and I still have problems with the minority class. KNN and Decision Tree perform about the same. I find this to be true frequently, which is why I use them as my base comparative models. "
   ]
  },
  {
   "cell_type": "markdown",
   "metadata": {},
   "source": [
    "# More Details\n",
    "Now that we know our random forest was the best model of the three I ran, I will gather some other information. Below is a non-ordered list of feature importance. I only showed 20 for purposes of space."
   ]
  },
  {
   "cell_type": "markdown",
   "metadata": {},
   "source": [
    "# Show importance of each feature in Random Forest\n"
   ]
  },
  {
   "cell_type": "code",
<<<<<<< HEAD
   "execution_count": 25,
=======
   "execution_count": 21,
>>>>>>> 3d58ec91039a81c3192d990fcf6fa9be263961e4
   "metadata": {},
   "outputs": [
    {
     "name": "stdout",
     "output_type": "stream",
     "text": [
      "Features sorted by their score:\n",
      "Higher the more important\n",
<<<<<<< HEAD
      "[(0.126, 'total_day_minutes'), (0.1253, 'total_day_charge'), (0.1001, 'number_customer_service_calls'), (0.0547, 'total_eve_minutes'), (0.0547, 'total_eve_charge'), (0.047, 'total_intl_calls'), (0.0424, 'total_intl_minutes'), (0.0414, 'total_intl_charge'), (0.0369, 'total_night_minutes'), (0.0367, 'total_night_charge'), (0.0335, 'account_length'), (0.0302, 'total_night_calls'), (0.0299, 'total_day_calls'), (0.0294, 'total_eve_calls'), (0.0188, 'number_vmail_messages'), (0.0019, 'state_AZ'), (0.0019, 'state_AR'), (0.0008, 'state_AL'), (0.0007, 'state_AK')]\n"
=======
      "[(0.12809999999999999, 'total_day_minutes'), (0.124, 'total_day_charge'), (0.10100000000000001, 'number_customer_service_calls'), (0.057000000000000002, 'total_eve_charge'), (0.053699999999999998, 'total_eve_minutes'), (0.047199999999999999, 'total_intl_calls'), (0.042500000000000003, 'total_intl_charge'), (0.041000000000000002, 'total_intl_minutes'), (0.036999999999999998, 'total_night_minutes'), (0.036700000000000003, 'total_night_charge'), (0.0327, 'account_length'), (0.030200000000000001, 'total_day_calls'), (0.029399999999999999, 'total_night_calls'), (0.028500000000000001, 'total_eve_calls'), (0.017100000000000001, 'number_vmail_messages'), (0.0020999999999999999, 'state_AR'), (0.0019, 'state_AZ'), (0.00089999999999999998, 'state_AL'), (0.00069999999999999999, 'state_AK')]\n"
>>>>>>> 3d58ec91039a81c3192d990fcf6fa9be263961e4
     ]
    }
   ],
   "source": [
    "print(\"Features sorted by their score:\")\n",
    "print(\"Higher the more important\")\n",
    "print(sorted(zip(map(lambda x: round(x, 4), rf.feature_importances_),df.columns[1:20]), \n",
    "             reverse=True))\n"
   ]
  },
  {
   "cell_type": "markdown",
   "metadata": {},
   "source": [
    "# ROC curve for Random Forest\n",
    "Finally a ROC curve that shows the lift I get from the Random Forest model. "
   ]
  },
  {
   "cell_type": "code",
   "execution_count": 22,
   "metadata": {},
   "outputs": [
    {
     "name": "stdout",
     "output_type": "stream",
     "text": [
      "ROC AUC: 0.918\n"
     ]
    },
    {
     "data": {
      "image/png": "iVBORw0KGgoAAAANSUhEUgAAAYoAAAEWCAYAAAB42tAoAAAABHNCSVQICAgIfAhkiAAAAAlwSFlz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\nWaIwxhiTL0sUxhhj8mWJwhhjTL7+Pz5bFcX76SzbAAAAAElFTkSuQmCC\n",
      "text/plain": [
       "<matplotlib.figure.Figure at 0x11da34ef0>"
      ]
     },
     "metadata": {},
     "output_type": "display_data"
    }
   ],
   "source": [
    "# Determine the false positive and true positive rates\n",
    "fpr, tpr, _ = roc_curve(target_test, rf.predict_proba(features_test)[:,1]) \n",
    "    \n",
    "# Calculate the AUC\n",
    "roc_auc = auc(fpr, tpr)\n",
    "print('ROC AUC: %0.3f' % roc_auc)\n",
    " \n",
    "# Plot of a ROC curve for a specific class\n",
    "plt.figure()\n",
    "plt.plot(fpr, tpr, label='ROC curve (area = %0.3f)' % roc_auc)\n",
    "plt.plot([0, 1], [0, 1], 'k--')\n",
    "plt.xlim([0.0, 1.0])\n",
    "plt.ylim([0.0, 1.05])\n",
    "plt.xlabel('False Positive Rate')\n",
    "plt.ylabel('True Positive Rate')\n",
    "plt.title('ROC Curve')\n",
    "plt.legend(loc=\"lower right\")\n",
    "plt.show()"
   ]
  },
  {
   "cell_type": "markdown",
   "metadata": {
    "collapsed": true
   },
   "source": [
    "Random Forest does the best, but I still am not getting the accurancy on my target class of interest. I have a few tricks I can do to work on this, but that is for another day/class."
   ]
  },
  {
   "cell_type": "markdown",
   "metadata": {},
   "source": [
    "# Other Ensembles"
   ]
  },
  {
   "cell_type": "code",
<<<<<<< HEAD
   "execution_count": 26,
=======
   "execution_count": 48,
>>>>>>> 3d58ec91039a81c3192d990fcf6fa9be263961e4
   "metadata": {},
   "outputs": [
    {
     "name": "stdout",
     "output_type": "stream",
     "text": [
      "BaggingClassifier(base_estimator=None, bootstrap=True,\n",
      "         bootstrap_features=False, max_features=1.0, max_samples=1.0,\n",
      "         n_estimators=100, n_jobs=1, oob_score=False, random_state=0,\n",
      "         verbose=0, warm_start=False)\n",
      "Bagging Accuracy 0.9515\n",
      "             precision    recall  f1-score   support\n",
      "\n",
      "         No       0.96      0.99      0.97      1708\n",
      "        Yes       0.91      0.74      0.82       292\n",
      "\n",
      "avg / total       0.95      0.95      0.95      2000\n",
      "\n",
      "[[1686   22]\n",
      " [  75  217]]\n"
     ]
    }
   ],
   "source": [
    "#Bagging Classifer\n",
    "from sklearn.ensemble import BaggingClassifier\n",
    "clf_bag = BaggingClassifier(n_estimators=100, random_state=0)\n",
    "print(clf_bag)\n",
    "clf_bag.fit(features_train, target_train)\n",
    "predicted_bag=clf_bag.predict(features_test)\n",
    "expected = target_test\n",
    "print(\"Bagging Accuracy\", accuracy_score(expected,predicted_bag))\n",
    "print(classification_report(expected, predicted_bag,target_names=['No', 'Yes']))\n",
    "print(confusion_matrix(expected, predicted_bag))"
   ]
  },
  {
   "cell_type": "markdown",
   "metadata": {},
   "source": [
    "# Extra Trees"
   ]
  },
  {
   "cell_type": "code",
<<<<<<< HEAD
   "execution_count": 27,
=======
   "execution_count": 49,
>>>>>>> 3d58ec91039a81c3192d990fcf6fa9be263961e4
   "metadata": {},
   "outputs": [
    {
     "name": "stdout",
     "output_type": "stream",
     "text": [
<<<<<<< HEAD
      "Extra Trees 0.791\n",
      "             precision    recall  f1-score   support\n",
      "\n",
      "         No       0.94      0.81      0.87      1708\n",
      "        Yes       0.38      0.68      0.49       292\n",
      "\n",
      "avg / total       0.86      0.79      0.81      2000\n",
      "\n",
      "[[1382  326]\n",
      " [  92  200]]\n"
=======
      "Extra Trees 0.848\n",
      "             precision    recall  f1-score   support\n",
      "\n",
      "         No       0.95      0.87      0.91      1708\n",
      "        Yes       0.49      0.74      0.59       292\n",
      "\n",
      "avg / total       0.88      0.85      0.86      2000\n",
      "\n",
      "[[1479  229]\n",
      " [  75  217]]\n"
>>>>>>> 3d58ec91039a81c3192d990fcf6fa9be263961e4
     ]
    }
   ],
   "source": [
    "from sklearn.ensemble import ExtraTreesClassifier\n",
    "xdt = ExtraTreesClassifier(max_depth=3,\n",
    "                         n_estimators=10,class_weight='balanced')\n",
    "xdt.fit(features_train, target_train)\n",
    "predicted_xdt=xdt.predict(features_test)\n",
    "expected = target_test\n",
    "print(\"Extra Trees\", accuracy_score(expected,predicted_xdt))\n",
    "print(classification_report(expected, predicted_xdt,target_names=['No', 'Yes']))\n",
    "print(confusion_matrix(expected, predicted_xdt))"
   ]
  },
  {
   "cell_type": "markdown",
   "metadata": {},
   "source": [
    "# Gradient Boost Classification"
   ]
  },
  {
   "cell_type": "code",
   "execution_count": 28,
   "metadata": {},
   "outputs": [
    {
     "name": "stdout",
     "output_type": "stream",
     "text": [
      "Gradient Boost Accuracy 0.862\n",
      "             precision    recall  f1-score   support\n",
      "\n",
      "         No       0.92      0.92      0.92      1708\n",
      "        Yes       0.53      0.53      0.53       292\n",
      "\n",
      "avg / total       0.86      0.86      0.86      2000\n",
      "\n",
      "[[1569  139]\n",
      " [ 137  155]]\n"
     ]
    }
   ],
   "source": [
    "\n",
    "from sklearn.ensemble import GradientBoostingClassifier\n",
    "clf_GBC = GradientBoostingClassifier(n_estimators=100, learning_rate=1.7, max_depth=1, random_state=0)\n",
    "clf_GBC.fit(features_train, target_train)\n",
    "predicted_GBC=clf_GBC.predict(features_test)\n",
    "expected = target_test\n",
    "print(\"Gradient Boost Accuracy\", accuracy_score(expected,predicted_GBC))\n",
    "print(classification_report(expected, predicted_GBC,target_names=['No', 'Yes']))\n",
    "print(confusion_matrix(expected, predicted_GBC))\n"
   ]
  },
  {
   "cell_type": "markdown",
   "metadata": {},
   "source": [
    "# AdaBoost of a Decision Tree"
   ]
  },
  {
   "cell_type": "code",
<<<<<<< HEAD
   "execution_count": 29,
=======
   "execution_count": 51,
>>>>>>> 3d58ec91039a81c3192d990fcf6fa9be263961e4
   "metadata": {},
   "outputs": [
    {
     "name": "stdout",
     "output_type": "stream",
     "text": [
<<<<<<< HEAD
      "Adaboost Accuracy 0.948\n",
      "             precision    recall  f1-score   support\n",
      "\n",
      "         No       0.96      0.98      0.97      1708\n",
      "        Yes       0.89      0.74      0.81       292\n",
=======
      "Adaboost Accuracy 0.9475\n",
      "             precision    recall  f1-score   support\n",
      "\n",
      "         No       0.96      0.98      0.97      1708\n",
      "        Yes       0.88      0.74      0.80       292\n",
>>>>>>> 3d58ec91039a81c3192d990fcf6fa9be263961e4
      "\n",
      "avg / total       0.95      0.95      0.95      2000\n",
      "\n",
      "[[1680   28]\n",
<<<<<<< HEAD
      " [  76  216]]\n"
=======
      " [  77  215]]\n"
>>>>>>> 3d58ec91039a81c3192d990fcf6fa9be263961e4
     ]
    }
   ],
   "source": [
    "\n",
    "from sklearn.ensemble import AdaBoostClassifier\n",
    "from sklearn.tree import DecisionTreeClassifier\n",
    "bdt = AdaBoostClassifier(DecisionTreeClassifier(max_depth=3),\n",
    "                         algorithm=\"SAMME\",\n",
    "                         n_estimators=200)\n",
    "bdt.fit(features_train, target_train)\n",
    "predicted_bdt=bdt.predict(features_test)\n",
    "expected = target_test\n",
    "print(\"Adaboost Accuracy\", accuracy_score(expected,predicted_bdt))\n",
    "print(classification_report(expected, predicted_bdt,target_names=['No', 'Yes']))\n",
    "print(confusion_matrix(expected, predicted_bdt))\n"
   ]
  },
  {
   "cell_type": "markdown",
   "metadata": {},
   "source": [
    "# Stacking"
   ]
  },
  {
   "cell_type": "code",
<<<<<<< HEAD
   "execution_count": 32,
=======
   "execution_count": 52,
>>>>>>> 3d58ec91039a81c3192d990fcf6fa9be263961e4
   "metadata": {},
   "outputs": [
    {
     "name": "stdout",
     "output_type": "stream",
     "text": [
      "Accuracy: 0.93 (+/- 0.01) [Random Forest]\n",
      "Accuracy: 0.87 (+/- 0.01) [Logistic Regression]\n",
      "Accuracy: 0.94 (+/- 0.00) [AdaBoost Decision Tree]\n"
     ]
    },
    {
     "name": "stderr",
     "output_type": "stream",
     "text": [
      "/anaconda3/lib/python3.6/site-packages/sklearn/preprocessing/label.py:151: DeprecationWarning: The truth value of an empty array is ambiguous. Returning False, but in future this will result in an error. Use `array.size > 0` to check that an array is not empty.\n",
      "  if diff:\n",
      "/anaconda3/lib/python3.6/site-packages/sklearn/preprocessing/label.py:151: DeprecationWarning: The truth value of an empty array is ambiguous. Returning False, but in future this will result in an error. Use `array.size > 0` to check that an array is not empty.\n",
      "  if diff:\n",
      "/anaconda3/lib/python3.6/site-packages/sklearn/preprocessing/label.py:151: DeprecationWarning: The truth value of an empty array is ambiguous. Returning False, but in future this will result in an error. Use `array.size > 0` to check that an array is not empty.\n",
      "  if diff:\n",
      "/anaconda3/lib/python3.6/site-packages/sklearn/preprocessing/label.py:151: DeprecationWarning: The truth value of an empty array is ambiguous. Returning False, but in future this will result in an error. Use `array.size > 0` to check that an array is not empty.\n",
      "  if diff:\n"
     ]
    },
    {
     "name": "stdout",
     "output_type": "stream",
     "text": [
      "Accuracy: 0.93 (+/- 0.01) [Ensemble]\n"
     ]
    },
    {
     "name": "stderr",
     "output_type": "stream",
     "text": [
      "/anaconda3/lib/python3.6/site-packages/sklearn/preprocessing/label.py:151: DeprecationWarning: The truth value of an empty array is ambiguous. Returning False, but in future this will result in an error. Use `array.size > 0` to check that an array is not empty.\n",
      "  if diff:\n"
     ]
    }
   ],
   "source": [
    "\n",
    "from sklearn.linear_model import LogisticRegression\n",
    "from sklearn.naive_bayes import GaussianNB\n",
    "from sklearn.ensemble import RandomForestClassifier\n",
    "from sklearn.ensemble import VotingClassifier\n",
    "from sklearn.ensemble import AdaBoostClassifier\n",
    "from sklearn.tree import DecisionTreeClassifier\n",
    "#Three Models RF, NB, BDT\n",
    "clf1 = RandomForestClassifier(random_state=1)\n",
    "clf2 = LogisticRegression()\n",
    "bdt = AdaBoostClassifier(DecisionTreeClassifier(max_depth=3),\n",
    "                         algorithm=\"SAMME\",\n",
    "                         n_estimators=200)\n",
    "eclf2 = VotingClassifier(estimators=[('rf', clf1), ('gnb', clf2), ('bdt', bdt)], voting='hard')\n",
    "for MV, label in zip([clf1, clf2, bdt, eclf2], ['Random Forest', 'Logistic Regression', 'AdaBoost Decision Tree', 'Ensemble']):\n",
    "\n",
    "    scores2 = cross_val_score(MV, features_train, target_train, cv=5, scoring='accuracy')\n",
    "    print(\"Accuracy: %0.2f (+/- %0.2f) [%s]\" % (scores2.mean(), scores2.std(), label))"
   ]
  },
  {
   "cell_type": "code",
   "execution_count": null,
   "metadata": {
    "collapsed": true
   },
   "outputs": [],
   "source": []
  },
  {
   "cell_type": "code",
   "execution_count": null,
   "metadata": {
    "collapsed": true
   },
   "outputs": [],
   "source": []
  }
 ],
 "metadata": {
  "kernelspec": {
   "display_name": "Python 3",
   "language": "python",
   "name": "python3"
  },
  "language_info": {
   "codemirror_mode": {
    "name": "ipython",
    "version": 3
   },
   "file_extension": ".py",
   "mimetype": "text/x-python",
   "name": "python",
   "nbconvert_exporter": "python",
   "pygments_lexer": "ipython3",
   "version": "3.6.5"
  }
 },
 "nbformat": 4,
 "nbformat_minor": 1
}
